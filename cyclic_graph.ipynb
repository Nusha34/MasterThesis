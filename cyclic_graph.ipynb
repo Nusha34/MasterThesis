{
 "cells": [
  {
   "cell_type": "code",
   "execution_count": 1,
   "metadata": {},
   "outputs": [],
   "source": [
    "from build_graph import Builder"
   ]
  },
  {
   "cell_type": "code",
   "execution_count": 2,
   "metadata": {},
   "outputs": [
    {
     "name": "stderr",
     "output_type": "stream",
     "text": [
      "c:\\Users\\Nusha\\anaconda3\\lib\\site-packages\\IPython\\core\\interactiveshell.py:3357: DtypeWarning: Columns (6,9) have mixed types.Specify dtype option on import or set low_memory=False.\n",
      "  if (await self.run_code(code, result,  async_=asy)):\n"
     ]
    }
   ],
   "source": [
    "relations=Builder('C://Users/Nusha/Desktop/Passaustudying/fouth semester/master/master_thesis/snomed/CONCEPT_RELATIONSHIP.csv', 'C://Users/Nusha/Desktop/Passaustudying/fouth semester/master/master_thesis/snomed/CONCEPT.csv')"
   ]
  },
  {
   "cell_type": "code",
   "execution_count": 3,
   "metadata": {},
   "outputs": [
    {
     "name": "stderr",
     "output_type": "stream",
     "text": [
      "c:\\Users\\Nusha\\Desktop\\Passaustudying\\fouth semester\\master\\master_thesis\\build_graph.py:24: UserWarning: Boolean Series key will be reindexed to match DataFrame index.\n",
      "  data_merge_2=data_merge_2[data_merge_2.standard_concept_x=='S'][data_merge_2.standard_concept_y=='S']\n"
     ]
    }
   ],
   "source": [
    "df=relations.get_dataframe()"
   ]
  },
  {
   "cell_type": "code",
   "execution_count": 4,
   "metadata": {},
   "outputs": [
    {
     "data": {
      "text/html": [
       "<div>\n",
       "<style scoped>\n",
       "    .dataframe tbody tr th:only-of-type {\n",
       "        vertical-align: middle;\n",
       "    }\n",
       "\n",
       "    .dataframe tbody tr th {\n",
       "        vertical-align: top;\n",
       "    }\n",
       "\n",
       "    .dataframe thead th {\n",
       "        text-align: right;\n",
       "    }\n",
       "</style>\n",
       "<table border=\"1\" class=\"dataframe\">\n",
       "  <thead>\n",
       "    <tr style=\"text-align: right;\">\n",
       "      <th></th>\n",
       "      <th>concept_id_1</th>\n",
       "      <th>concept_name_x</th>\n",
       "      <th>concept_id_2</th>\n",
       "      <th>concept_name_y</th>\n",
       "      <th>relationship_id</th>\n",
       "    </tr>\n",
       "  </thead>\n",
       "  <tbody>\n",
       "    <tr>\n",
       "      <th>277979</th>\n",
       "      <td>4182185</td>\n",
       "      <td>Benign neoplasm of skin of head and neck</td>\n",
       "      <td>4240163</td>\n",
       "      <td>Benign neoplasm of skin of neck</td>\n",
       "      <td>Is a</td>\n",
       "    </tr>\n",
       "    <tr>\n",
       "      <th>277980</th>\n",
       "      <td>4182185</td>\n",
       "      <td>Benign neoplasm of skin of head and neck</td>\n",
       "      <td>4241043</td>\n",
       "      <td>Benign neoplasm of head</td>\n",
       "      <td>Is a</td>\n",
       "    </tr>\n",
       "    <tr>\n",
       "      <th>277981</th>\n",
       "      <td>4182185</td>\n",
       "      <td>Benign neoplasm of skin of head and neck</td>\n",
       "      <td>4266792</td>\n",
       "      <td>Disorder of skin of head</td>\n",
       "      <td>Is a</td>\n",
       "    </tr>\n",
       "    <tr>\n",
       "      <th>277982</th>\n",
       "      <td>4182185</td>\n",
       "      <td>Benign neoplasm of skin of head and neck</td>\n",
       "      <td>36685990</td>\n",
       "      <td>Mass of skin of head</td>\n",
       "      <td>Is a</td>\n",
       "    </tr>\n",
       "  </tbody>\n",
       "</table>\n",
       "</div>"
      ],
      "text/plain": [
       "        concept_id_1                            concept_name_x  concept_id_2  \\\n",
       "277979       4182185  Benign neoplasm of skin of head and neck       4240163   \n",
       "277980       4182185  Benign neoplasm of skin of head and neck       4241043   \n",
       "277981       4182185  Benign neoplasm of skin of head and neck       4266792   \n",
       "277982       4182185  Benign neoplasm of skin of head and neck      36685990   \n",
       "\n",
       "                         concept_name_y relationship_id  \n",
       "277979  Benign neoplasm of skin of neck            Is a  \n",
       "277980          Benign neoplasm of head            Is a  \n",
       "277981         Disorder of skin of head            Is a  \n",
       "277982             Mass of skin of head            Is a  "
      ]
     },
     "execution_count": 4,
     "metadata": {},
     "output_type": "execute_result"
    }
   ],
   "source": [
    "df[df['concept_id_1']==4182185]"
   ]
  },
  {
   "cell_type": "code",
   "execution_count": 6,
   "metadata": {},
   "outputs": [
    {
     "data": {
      "text/html": [
       "<div>\n",
       "<style scoped>\n",
       "    .dataframe tbody tr th:only-of-type {\n",
       "        vertical-align: middle;\n",
       "    }\n",
       "\n",
       "    .dataframe tbody tr th {\n",
       "        vertical-align: top;\n",
       "    }\n",
       "\n",
       "    .dataframe thead th {\n",
       "        text-align: right;\n",
       "    }\n",
       "</style>\n",
       "<table border=\"1\" class=\"dataframe\">\n",
       "  <thead>\n",
       "    <tr style=\"text-align: right;\">\n",
       "      <th></th>\n",
       "      <th>concept_id_1</th>\n",
       "      <th>concept_name_x</th>\n",
       "      <th>concept_id_2</th>\n",
       "      <th>concept_name_y</th>\n",
       "      <th>relationship_id</th>\n",
       "    </tr>\n",
       "  </thead>\n",
       "  <tbody>\n",
       "    <tr>\n",
       "      <th>360241</th>\n",
       "      <td>4240163</td>\n",
       "      <td>Benign neoplasm of skin of neck</td>\n",
       "      <td>138102</td>\n",
       "      <td>Benign neoplasm of skin</td>\n",
       "      <td>Is a</td>\n",
       "    </tr>\n",
       "    <tr>\n",
       "      <th>360243</th>\n",
       "      <td>4240163</td>\n",
       "      <td>Benign neoplasm of skin of neck</td>\n",
       "      <td>444452</td>\n",
       "      <td>Benign neoplasm of soft tissues of neck</td>\n",
       "      <td>Is a</td>\n",
       "    </tr>\n",
       "    <tr>\n",
       "      <th>360244</th>\n",
       "      <td>4240163</td>\n",
       "      <td>Benign neoplasm of skin of neck</td>\n",
       "      <td>4054738</td>\n",
       "      <td>Neoplasm of skin of neck</td>\n",
       "      <td>Is a</td>\n",
       "    </tr>\n",
       "  </tbody>\n",
       "</table>\n",
       "</div>"
      ],
      "text/plain": [
       "        concept_id_1                   concept_name_x  concept_id_2  \\\n",
       "360241       4240163  Benign neoplasm of skin of neck        138102   \n",
       "360243       4240163  Benign neoplasm of skin of neck        444452   \n",
       "360244       4240163  Benign neoplasm of skin of neck       4054738   \n",
       "\n",
       "                                 concept_name_y relationship_id  \n",
       "360241                  Benign neoplasm of skin            Is a  \n",
       "360243  Benign neoplasm of soft tissues of neck            Is a  \n",
       "360244                 Neoplasm of skin of neck            Is a  "
      ]
     },
     "execution_count": 6,
     "metadata": {},
     "output_type": "execute_result"
    }
   ],
   "source": [
    "df[df['concept_id_1']==4240163]"
   ]
  },
  {
   "cell_type": "code",
   "execution_count": 7,
   "metadata": {},
   "outputs": [
    {
     "data": {
      "text/html": [
       "<div>\n",
       "<style scoped>\n",
       "    .dataframe tbody tr th:only-of-type {\n",
       "        vertical-align: middle;\n",
       "    }\n",
       "\n",
       "    .dataframe tbody tr th {\n",
       "        vertical-align: top;\n",
       "    }\n",
       "\n",
       "    .dataframe thead th {\n",
       "        text-align: right;\n",
       "    }\n",
       "</style>\n",
       "<table border=\"1\" class=\"dataframe\">\n",
       "  <thead>\n",
       "    <tr style=\"text-align: right;\">\n",
       "      <th></th>\n",
       "      <th>concept_id_1</th>\n",
       "      <th>concept_name_x</th>\n",
       "      <th>concept_id_2</th>\n",
       "      <th>concept_name_y</th>\n",
       "      <th>relationship_id</th>\n",
       "    </tr>\n",
       "  </thead>\n",
       "  <tbody>\n",
       "  </tbody>\n",
       "</table>\n",
       "</div>"
      ],
      "text/plain": [
       "Empty DataFrame\n",
       "Columns: [concept_id_1, concept_name_x, concept_id_2, concept_name_y, relationship_id]\n",
       "Index: []"
      ]
     },
     "execution_count": 7,
     "metadata": {},
     "output_type": "execute_result"
    }
   ],
   "source": [
    "df[df['concept_id_1']==138389]"
   ]
  },
  {
   "cell_type": "code",
   "execution_count": 4,
   "metadata": {},
   "outputs": [
    {
     "name": "stderr",
     "output_type": "stream",
     "text": [
      "c:\\Users\\Nusha\\Desktop\\Passaustudying\\fouth semester\\master\\master_thesis\\build_graph.py:15: UserWarning: Boolean Series key will be reindexed to match DataFrame index.\n",
      "  data_merge_2=data_merge_2[data_merge_2.standard_concept_x=='S'][data_merge_2.standard_concept_y=='S']\n"
     ]
    }
   ],
   "source": [
    "relationship_list=list(relations())"
   ]
  },
  {
   "cell_type": "code",
   "execution_count": 21,
   "metadata": {},
   "outputs": [],
   "source": [
    "short_relationship_list=relationship_list[500:100000]"
   ]
  },
  {
   "cell_type": "code",
   "execution_count": 5,
   "metadata": {},
   "outputs": [],
   "source": [
    "import networkx as nx\n",
    "\n",
    "edges = relationship_list\n",
    "\n",
    "#edges = [('A', 'B'),('C', 'D'),('D', 'C'),('C', 'D')]\n",
    "\n",
    "G = nx.DiGraph(edges)\n",
    "\n",
    "for cycle in nx.simple_cycles(G):\n",
    "    print(cycle)\n",
    "\n",
    "G = nx.DiGraph()\n",
    "\n",
    "\n",
    "for cycle in nx.simple_cycles(G):\n",
    "    print(cycle)"
   ]
  },
  {
   "cell_type": "code",
   "execution_count": null,
   "metadata": {},
   "outputs": [],
   "source": []
  }
 ],
 "metadata": {
  "kernelspec": {
   "display_name": "Python 3.9.12 ('base')",
   "language": "python",
   "name": "python3"
  },
  "language_info": {
   "codemirror_mode": {
    "name": "ipython",
    "version": 3
   },
   "file_extension": ".py",
   "mimetype": "text/x-python",
   "name": "python",
   "nbconvert_exporter": "python",
   "pygments_lexer": "ipython3",
   "version": "3.9.12"
  },
  "orig_nbformat": 4,
  "vscode": {
   "interpreter": {
    "hash": "d4d1e4263499bec80672ea0156c357c1ee493ec2b1c70f0acce89fc37c4a6abe"
   }
  }
 },
 "nbformat": 4,
 "nbformat_minor": 2
}
