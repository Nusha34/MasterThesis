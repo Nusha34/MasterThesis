{
 "cells": [
  {
   "cell_type": "code",
   "execution_count": 1,
   "metadata": {},
   "outputs": [],
   "source": [
    "from torch.utils.data import Dataset, DataLoader\n",
    "from sklearn.model_selection import train_test_split\n",
    "from gensim.models import Word2Vec\n",
    "from gensim.models.poincare import PoincareModel\n",
    "import pandas as pd\n",
    "import numpy as np\n",
    "import torch\n",
    "import torch.nn as nn"
   ]
  },
  {
   "attachments": {},
   "cell_type": "markdown",
   "metadata": {},
   "source": [
    "### Preparing dataset"
   ]
  },
  {
   "cell_type": "code",
   "execution_count": 2,
   "metadata": {},
   "outputs": [],
   "source": [
    "df = pd.read_csv('/workspaces/master_thesis/mapping/data_ready_to_use.csv')"
   ]
  },
  {
   "cell_type": "code",
   "execution_count": 3,
   "metadata": {},
   "outputs": [
    {
     "data": {
      "text/html": [
       "<div>\n",
       "<style scoped>\n",
       "    .dataframe tbody tr th:only-of-type {\n",
       "        vertical-align: middle;\n",
       "    }\n",
       "\n",
       "    .dataframe tbody tr th {\n",
       "        vertical-align: top;\n",
       "    }\n",
       "\n",
       "    .dataframe thead th {\n",
       "        text-align: right;\n",
       "    }\n",
       "</style>\n",
       "<table border=\"1\" class=\"dataframe\">\n",
       "  <thead>\n",
       "    <tr style=\"text-align: right;\">\n",
       "      <th></th>\n",
       "      <th>concept_id</th>\n",
       "      <th>concept_name</th>\n",
       "      <th>concept_synonym_name</th>\n",
       "      <th>preprocessed</th>\n",
       "      <th>preprocessed_synonyms</th>\n",
       "      <th>preprocessed_without_stemming</th>\n",
       "      <th>preprocessed_synonyms_without_stemming</th>\n",
       "    </tr>\n",
       "  </thead>\n",
       "  <tbody>\n",
       "    <tr>\n",
       "      <th>0</th>\n",
       "      <td>4001098</td>\n",
       "      <td>Radiating chest pain</td>\n",
       "      <td>Radiating chest pain (finding)</td>\n",
       "      <td>radiat chest pain</td>\n",
       "      <td>radiat chest pain find</td>\n",
       "      <td>radiating chest pain</td>\n",
       "      <td>radiating chest pain finding</td>\n",
       "    </tr>\n",
       "    <tr>\n",
       "      <th>1</th>\n",
       "      <td>37392117</td>\n",
       "      <td>Urine tryptophan:creatinine ratio</td>\n",
       "      <td>Urine tryptophan:creatinine ratio (observable ...</td>\n",
       "      <td>urin tryptophan creatinin ratio</td>\n",
       "      <td>urin tryptophan creatinin ratio observ entiti</td>\n",
       "      <td>urine tryptophan creatinine ratio</td>\n",
       "      <td>urine tryptophan creatinine ratio observable e...</td>\n",
       "    </tr>\n",
       "    <tr>\n",
       "      <th>2</th>\n",
       "      <td>37398455</td>\n",
       "      <td>Urine threonine:creatinine ratio</td>\n",
       "      <td>Urine threonine:creatinine ratio (observable e...</td>\n",
       "      <td>urin threonin creatinin ratio</td>\n",
       "      <td>urin threonin creatinin ratio observ entiti</td>\n",
       "      <td>urine threonine creatinine ratio</td>\n",
       "      <td>urine threonine creatinine ratio observable en...</td>\n",
       "    </tr>\n",
       "    <tr>\n",
       "      <th>3</th>\n",
       "      <td>37392118</td>\n",
       "      <td>Urine taurine:creatinine ratio</td>\n",
       "      <td>Urine taurine:creatinine ratio (observable ent...</td>\n",
       "      <td>urin taurin creatinin ratio</td>\n",
       "      <td>urin taurin creatinin ratio observ entiti</td>\n",
       "      <td>urine taurine creatinine ratio</td>\n",
       "      <td>urine taurine creatinine ratio observable entity</td>\n",
       "    </tr>\n",
       "    <tr>\n",
       "      <th>4</th>\n",
       "      <td>37392119</td>\n",
       "      <td>Urine phenylalanine:creatinine ratio</td>\n",
       "      <td>Urine phenylalanine:creatinine ratio (observab...</td>\n",
       "      <td>urin phenylalanin creatinin ratio</td>\n",
       "      <td>urin phenylalanin creatinin ratio observ entiti</td>\n",
       "      <td>urine phenylalanine creatinine ratio</td>\n",
       "      <td>urine phenylalanine creatinine ratio observabl...</td>\n",
       "    </tr>\n",
       "    <tr>\n",
       "      <th>...</th>\n",
       "      <td>...</td>\n",
       "      <td>...</td>\n",
       "      <td>...</td>\n",
       "      <td>...</td>\n",
       "      <td>...</td>\n",
       "      <td>...</td>\n",
       "      <td>...</td>\n",
       "    </tr>\n",
       "    <tr>\n",
       "      <th>491491</th>\n",
       "      <td>37398450</td>\n",
       "      <td>Urine homocysteine:creatinine ratio</td>\n",
       "      <td>Urine homocysteine:creatinine ratio (observabl...</td>\n",
       "      <td>urin homocystein creatinin ratio</td>\n",
       "      <td>urin homocystein creatinin ratio observ entiti</td>\n",
       "      <td>urine homocysteine creatinine ratio</td>\n",
       "      <td>urine homocysteine creatinine ratio observable...</td>\n",
       "    </tr>\n",
       "    <tr>\n",
       "      <th>491492</th>\n",
       "      <td>37398451</td>\n",
       "      <td>Urine aspartate:creatinine ratio</td>\n",
       "      <td>Urine aspartate:creatinine ratio (observable e...</td>\n",
       "      <td>urin aspart creatinin ratio</td>\n",
       "      <td>urin aspart creatinin ratio observ entiti</td>\n",
       "      <td>urine aspartate creatinine ratio</td>\n",
       "      <td>urine aspartate creatinine ratio observable en...</td>\n",
       "    </tr>\n",
       "    <tr>\n",
       "      <th>491493</th>\n",
       "      <td>37398452</td>\n",
       "      <td>Urine alanine:creatinine ratio</td>\n",
       "      <td>Urine alanine:creatinine ratio (observable ent...</td>\n",
       "      <td>urin alanin creatinin ratio</td>\n",
       "      <td>urin alanin creatinin ratio observ entiti</td>\n",
       "      <td>urine alanine creatinine ratio</td>\n",
       "      <td>urine alanine creatinine ratio observable entity</td>\n",
       "    </tr>\n",
       "    <tr>\n",
       "      <th>491494</th>\n",
       "      <td>37398453</td>\n",
       "      <td>Urine valine:creatinine ratio</td>\n",
       "      <td>Urine valine:creatinine ratio (observable entity)</td>\n",
       "      <td>urin valin creatinin ratio</td>\n",
       "      <td>urin valin creatinin ratio observ entiti</td>\n",
       "      <td>urine valine creatinine ratio</td>\n",
       "      <td>urine valine creatinine ratio observable entity</td>\n",
       "    </tr>\n",
       "    <tr>\n",
       "      <th>491495</th>\n",
       "      <td>37398454</td>\n",
       "      <td>Urine tyrosine:creatinine ratio</td>\n",
       "      <td>Urine tyrosine:creatinine ratio (observable en...</td>\n",
       "      <td>urin tyrosin creatinin ratio</td>\n",
       "      <td>urin tyrosin creatinin ratio observ entiti</td>\n",
       "      <td>urine tyrosine creatinine ratio</td>\n",
       "      <td>urine tyrosine creatinine ratio observable entity</td>\n",
       "    </tr>\n",
       "  </tbody>\n",
       "</table>\n",
       "<p>491496 rows × 7 columns</p>\n",
       "</div>"
      ],
      "text/plain": [
       "        concept_id                          concept_name   \n",
       "0          4001098                  Radiating chest pain  \\\n",
       "1         37392117     Urine tryptophan:creatinine ratio   \n",
       "2         37398455      Urine threonine:creatinine ratio   \n",
       "3         37392118        Urine taurine:creatinine ratio   \n",
       "4         37392119  Urine phenylalanine:creatinine ratio   \n",
       "...            ...                                   ...   \n",
       "491491    37398450   Urine homocysteine:creatinine ratio   \n",
       "491492    37398451      Urine aspartate:creatinine ratio   \n",
       "491493    37398452        Urine alanine:creatinine ratio   \n",
       "491494    37398453         Urine valine:creatinine ratio   \n",
       "491495    37398454       Urine tyrosine:creatinine ratio   \n",
       "\n",
       "                                     concept_synonym_name   \n",
       "0                          Radiating chest pain (finding)  \\\n",
       "1       Urine tryptophan:creatinine ratio (observable ...   \n",
       "2       Urine threonine:creatinine ratio (observable e...   \n",
       "3       Urine taurine:creatinine ratio (observable ent...   \n",
       "4       Urine phenylalanine:creatinine ratio (observab...   \n",
       "...                                                   ...   \n",
       "491491  Urine homocysteine:creatinine ratio (observabl...   \n",
       "491492  Urine aspartate:creatinine ratio (observable e...   \n",
       "491493  Urine alanine:creatinine ratio (observable ent...   \n",
       "491494  Urine valine:creatinine ratio (observable entity)   \n",
       "491495  Urine tyrosine:creatinine ratio (observable en...   \n",
       "\n",
       "                             preprocessed   \n",
       "0                       radiat chest pain  \\\n",
       "1         urin tryptophan creatinin ratio   \n",
       "2           urin threonin creatinin ratio   \n",
       "3             urin taurin creatinin ratio   \n",
       "4       urin phenylalanin creatinin ratio   \n",
       "...                                   ...   \n",
       "491491   urin homocystein creatinin ratio   \n",
       "491492        urin aspart creatinin ratio   \n",
       "491493        urin alanin creatinin ratio   \n",
       "491494         urin valin creatinin ratio   \n",
       "491495       urin tyrosin creatinin ratio   \n",
       "\n",
       "                                  preprocessed_synonyms   \n",
       "0                                radiat chest pain find  \\\n",
       "1         urin tryptophan creatinin ratio observ entiti   \n",
       "2           urin threonin creatinin ratio observ entiti   \n",
       "3             urin taurin creatinin ratio observ entiti   \n",
       "4       urin phenylalanin creatinin ratio observ entiti   \n",
       "...                                                 ...   \n",
       "491491   urin homocystein creatinin ratio observ entiti   \n",
       "491492        urin aspart creatinin ratio observ entiti   \n",
       "491493        urin alanin creatinin ratio observ entiti   \n",
       "491494         urin valin creatinin ratio observ entiti   \n",
       "491495       urin tyrosin creatinin ratio observ entiti   \n",
       "\n",
       "               preprocessed_without_stemming   \n",
       "0                       radiating chest pain  \\\n",
       "1          urine tryptophan creatinine ratio   \n",
       "2           urine threonine creatinine ratio   \n",
       "3             urine taurine creatinine ratio   \n",
       "4       urine phenylalanine creatinine ratio   \n",
       "...                                      ...   \n",
       "491491   urine homocysteine creatinine ratio   \n",
       "491492      urine aspartate creatinine ratio   \n",
       "491493        urine alanine creatinine ratio   \n",
       "491494         urine valine creatinine ratio   \n",
       "491495       urine tyrosine creatinine ratio   \n",
       "\n",
       "                   preprocessed_synonyms_without_stemming  \n",
       "0                            radiating chest pain finding  \n",
       "1       urine tryptophan creatinine ratio observable e...  \n",
       "2       urine threonine creatinine ratio observable en...  \n",
       "3        urine taurine creatinine ratio observable entity  \n",
       "4       urine phenylalanine creatinine ratio observabl...  \n",
       "...                                                   ...  \n",
       "491491  urine homocysteine creatinine ratio observable...  \n",
       "491492  urine aspartate creatinine ratio observable en...  \n",
       "491493   urine alanine creatinine ratio observable entity  \n",
       "491494    urine valine creatinine ratio observable entity  \n",
       "491495  urine tyrosine creatinine ratio observable entity  \n",
       "\n",
       "[491496 rows x 7 columns]"
      ]
     },
     "execution_count": 3,
     "metadata": {},
     "output_type": "execute_result"
    }
   ],
   "source": [
    "df"
   ]
  },
  {
   "cell_type": "code",
   "execution_count": 4,
   "metadata": {},
   "outputs": [],
   "source": [
    "class PhraseEmbeddingDataset(Dataset):\n",
    "    def __init__(self, X, y, w2v_model, poincare_model, max_len=20):\n",
    "        self.X = X\n",
    "        self.y = y\n",
    "        self.w2v_model = w2v_model\n",
    "        self.poincare_model = poincare_model\n",
    "        self.max_len = max_len\n",
    "\n",
    "    def __len__(self):\n",
    "        return len(self.X)\n",
    "\n",
    "    def __getitem__(self, idx):\n",
    "        # Get Word2Vec embedding\n",
    "        X = self.get_phrase_vector(self.X.iloc[idx], self.w2v_model, self.max_len)\n",
    "        \n",
    "        # Get Poincare embedding\n",
    "        y = torch.tensor(self.poincare_model.kv[self.y.iloc[idx]], dtype=torch.float)\n",
    "        #y = torch.tensor(self.poincare_model.wv[str(self.y.iloc[idx])], dtype=torch.float)\n",
    "        return X, y\n",
    "\n",
    "    @staticmethod\n",
    "    def get_phrase_vector(phrase, model, max_len):\n",
    "        words = str(phrase).split()\n",
    "        phrase_vector = np.zeros((max_len, model.vector_size))\n",
    "\n",
    "        for i in range(max_len):\n",
    "            if i < len(words) and words[i] in model.wv:\n",
    "                phrase_vector[i] = model.wv[words[i]]\n",
    "\n",
    "        phrase_vector = phrase_vector.flatten()\n",
    "        \n",
    "        return torch.tensor(phrase_vector, dtype=torch.float)\n",
    "\n"
   ]
  },
  {
   "cell_type": "code",
   "execution_count": 5,
   "metadata": {},
   "outputs": [],
   "source": [
    "w2v_model = Word2Vec.load(\"/workspaces/master_thesis/word2vec_pubmed.model\")\n",
    "poincare_model = PoincareModel.load('/workspaces/master_thesis/poincare_100d_concept_id')\n",
    "#deepwalk_model = Word2Vec.load(\"/workspaces/master_thesis/deepwalk_snomed.model\")"
   ]
  },
  {
   "cell_type": "code",
   "execution_count": 6,
   "metadata": {},
   "outputs": [],
   "source": [
    "# Split your phrases into training and test sets\n",
    "X_train, X_test, y_train, y_test = train_test_split(df['preprocessed_synonyms_without_stemming'], df['concept_id'], test_size=0.02, random_state=42)\n",
    "\n",
    "# Create your datasets\n",
    "train_dataset = PhraseEmbeddingDataset(X_train, y_train, w2v_model, poincare_model)\n",
    "#train_dataset = PhraseEmbeddingDataset(X_train, y_train, w2v_model, deepwalk_model)\n",
    "test_dataset = PhraseEmbeddingDataset(X_test, y_test, w2v_model, poincare_model)\n",
    "#test_dataset = PhraseEmbeddingDataset(X_test, y_test, w2v_model, deepwalk_model)\n",
    "\n",
    "# Create your data loaders\n",
    "train_loader = DataLoader(train_dataset, batch_size=64, shuffle=True)\n",
    "test_loader = DataLoader(test_dataset, batch_size=64, shuffle=False)"
   ]
  },
  {
   "cell_type": "code",
   "execution_count": 33,
   "metadata": {},
   "outputs": [
    {
     "data": {
      "text/plain": [
       "481666"
      ]
     },
     "execution_count": 33,
     "metadata": {},
     "output_type": "execute_result"
    }
   ],
   "source": [
    "len(train_dataset)"
   ]
  },
  {
   "cell_type": "code",
   "execution_count": 34,
   "metadata": {},
   "outputs": [
    {
     "data": {
      "text/plain": [
       "9830"
      ]
     },
     "execution_count": 34,
     "metadata": {},
     "output_type": "execute_result"
    }
   ],
   "source": [
    "len(test_dataset)"
   ]
  },
  {
   "attachments": {},
   "cell_type": "markdown",
   "metadata": {},
   "source": [
    "### Training model"
   ]
  },
  {
   "cell_type": "code",
   "execution_count": 9,
   "metadata": {},
   "outputs": [],
   "source": [
    "import torch.nn as nn\n",
    "\n",
    "class BiLSTM(nn.Module):\n",
    "    def __init__(self, input_size, hidden_size, output_size):\n",
    "        super(BiLSTM, self).__init__()\n",
    "        self.hidden_size = hidden_size\n",
    "        self.lstm = nn.LSTM(input_size, hidden_size, batch_first=True, bidirectional=True)\n",
    "        self.fc = nn.Linear(hidden_size * 2, output_size)  # 2 for bidirection\n",
    "\n",
    "    def forward(self, x):\n",
    "        # Reshape the input to (batch_size, seq_len, features)\n",
    "        x = x.view(x.size(0), 20, 300)\n",
    "\n",
    "        # Forward propagate LSTM\n",
    "        out, _ = self.lstm(x)  # out: tensor of shape (batch_size, seq_length, hidden_size*2)\n",
    "\n",
    "        # Decode the hidden state of the last time step\n",
    "        out = self.fc(out[:, -1, :])\n",
    "        return out"
   ]
  },
  {
   "cell_type": "code",
   "execution_count": 10,
   "metadata": {},
   "outputs": [],
   "source": [
    "model = BiLSTM(input_size=300, hidden_size=300, output_size=100)"
   ]
  },
  {
   "cell_type": "code",
   "execution_count": 11,
   "metadata": {},
   "outputs": [],
   "source": [
    "criterion = nn.MSELoss()\n",
    "optimizer = torch.optim.Adam(model.parameters())"
   ]
  },
  {
   "attachments": {},
   "cell_type": "markdown",
   "metadata": {},
   "source": [
    "## TRAINING"
   ]
  },
  {
   "cell_type": "code",
   "execution_count": 11,
   "metadata": {},
   "outputs": [
    {
     "name": "stdout",
     "output_type": "stream",
     "text": [
      "Epoch [1/10], Step [100/6144], Loss: 0.0071\n"
     ]
    },
    {
     "ename": "KeyboardInterrupt",
     "evalue": "",
     "output_type": "error",
     "traceback": [
      "\u001b[0;31m---------------------------------------------------------------------------\u001b[0m",
      "\u001b[0;31mKeyboardInterrupt\u001b[0m                         Traceback (most recent call last)",
      "Cell \u001b[0;32mIn[11], line 20\u001b[0m\n\u001b[1;32m     18\u001b[0m \u001b[39m# Backward and optimize\u001b[39;00m\n\u001b[1;32m     19\u001b[0m optimizer\u001b[39m.\u001b[39mzero_grad()\n\u001b[0;32m---> 20\u001b[0m loss\u001b[39m.\u001b[39;49mbackward()\n\u001b[1;32m     21\u001b[0m optimizer\u001b[39m.\u001b[39mstep()\n\u001b[1;32m     23\u001b[0m \u001b[39mif\u001b[39;00m (i\u001b[39m+\u001b[39m\u001b[39m1\u001b[39m) \u001b[39m%\u001b[39m \u001b[39m100\u001b[39m \u001b[39m==\u001b[39m \u001b[39m0\u001b[39m:\n",
      "File \u001b[0;32m~/miniconda3/lib/python3.10/site-packages/torch/_tensor.py:487\u001b[0m, in \u001b[0;36mTensor.backward\u001b[0;34m(self, gradient, retain_graph, create_graph, inputs)\u001b[0m\n\u001b[1;32m    477\u001b[0m \u001b[39mif\u001b[39;00m has_torch_function_unary(\u001b[39mself\u001b[39m):\n\u001b[1;32m    478\u001b[0m     \u001b[39mreturn\u001b[39;00m handle_torch_function(\n\u001b[1;32m    479\u001b[0m         Tensor\u001b[39m.\u001b[39mbackward,\n\u001b[1;32m    480\u001b[0m         (\u001b[39mself\u001b[39m,),\n\u001b[0;32m   (...)\u001b[0m\n\u001b[1;32m    485\u001b[0m         inputs\u001b[39m=\u001b[39minputs,\n\u001b[1;32m    486\u001b[0m     )\n\u001b[0;32m--> 487\u001b[0m torch\u001b[39m.\u001b[39;49mautograd\u001b[39m.\u001b[39;49mbackward(\n\u001b[1;32m    488\u001b[0m     \u001b[39mself\u001b[39;49m, gradient, retain_graph, create_graph, inputs\u001b[39m=\u001b[39;49minputs\n\u001b[1;32m    489\u001b[0m )\n",
      "File \u001b[0;32m~/miniconda3/lib/python3.10/site-packages/torch/autograd/__init__.py:200\u001b[0m, in \u001b[0;36mbackward\u001b[0;34m(tensors, grad_tensors, retain_graph, create_graph, grad_variables, inputs)\u001b[0m\n\u001b[1;32m    195\u001b[0m     retain_graph \u001b[39m=\u001b[39m create_graph\n\u001b[1;32m    197\u001b[0m \u001b[39m# The reason we repeat same the comment below is that\u001b[39;00m\n\u001b[1;32m    198\u001b[0m \u001b[39m# some Python versions print out the first line of a multi-line function\u001b[39;00m\n\u001b[1;32m    199\u001b[0m \u001b[39m# calls in the traceback and some print out the last line\u001b[39;00m\n\u001b[0;32m--> 200\u001b[0m Variable\u001b[39m.\u001b[39;49m_execution_engine\u001b[39m.\u001b[39;49mrun_backward(  \u001b[39m# Calls into the C++ engine to run the backward pass\u001b[39;49;00m\n\u001b[1;32m    201\u001b[0m     tensors, grad_tensors_, retain_graph, create_graph, inputs,\n\u001b[1;32m    202\u001b[0m     allow_unreachable\u001b[39m=\u001b[39;49m\u001b[39mTrue\u001b[39;49;00m, accumulate_grad\u001b[39m=\u001b[39;49m\u001b[39mTrue\u001b[39;49;00m)\n",
      "\u001b[0;31mKeyboardInterrupt\u001b[0m: "
     ]
    }
   ],
   "source": [
    "# Move model to GPU if available\n",
    "device = torch.device('cuda' if torch.cuda.is_available() else 'cpu')\n",
    "model = model.to(device)\n",
    "\n",
    "# Define the number of epochs\n",
    "num_epochs = 10\n",
    "\n",
    "# Training loop\n",
    "for epoch in range(num_epochs):\n",
    "    for i, (inputs, labels) in enumerate(train_loader):\n",
    "        inputs = inputs.to(device)\n",
    "        labels = labels.to(device)\n",
    "        \n",
    "        # Forward pass\n",
    "        outputs = model(inputs)\n",
    "        loss = criterion(outputs, labels)\n",
    "        \n",
    "        # Backward and optimize\n",
    "        optimizer.zero_grad()\n",
    "        loss.backward()\n",
    "        optimizer.step()\n",
    "        \n",
    "        if (i+1) % 100 == 0:\n",
    "            print ('Epoch [{}/{}], Step [{}/{}], Loss: {:.4f}' \n",
    "                   .format(epoch+1, num_epochs, i+1, len(train_loader), loss.item()))\n",
    "\n",
    "# Save the model checkpoint\n",
    "torch.save(model.state_dict(), 'model.ckpt')\n"
   ]
  },
  {
   "attachments": {},
   "cell_type": "markdown",
   "metadata": {},
   "source": [
    "### Evaluation of the model for one sample"
   ]
  },
  {
   "cell_type": "code",
   "execution_count": 7,
   "metadata": {},
   "outputs": [],
   "source": [
    "def hyporbolic_distance(x,y):\n",
    "    #calculate hyporbolic distance between two vectors\n",
    "    return np.arccosh(1 + 2 * np.linalg.norm(x-y)**2 / ((1 - np.linalg.norm(x)**2) * (1 - np.linalg.norm(y)**2)))"
   ]
  },
  {
   "cell_type": "code",
   "execution_count": 12,
   "metadata": {},
   "outputs": [
    {
     "data": {
      "text/plain": [
       "BiLSTM(\n",
       "  (lstm): LSTM(300, 300, batch_first=True, bidirectional=True)\n",
       "  (fc): Linear(in_features=600, out_features=100, bias=True)\n",
       ")"
      ]
     },
     "execution_count": 12,
     "metadata": {},
     "output_type": "execute_result"
    }
   ],
   "source": [
    "#load the model\n",
    "model = BiLSTM(input_size=300, hidden_size=300, output_size=100)\n",
    "model.load_state_dict(torch.load('/workspaces/master_thesis/model_50epochs_conceptid.ckpt'))\n",
    "#device\n",
    "device = torch.device('cuda' if torch.cuda.is_available() else 'cpu')\n",
    "model.eval() "
   ]
  },
  {
   "cell_type": "code",
   "execution_count": 13,
   "metadata": {},
   "outputs": [],
   "source": [
    "def get_phrase_vector(phrase, model, max_len):\n",
    "    words = str(phrase).split()\n",
    "    phrase_vector = np.zeros((max_len, model.vector_size))\n",
    "    for i in range(max_len):\n",
    "        if i < len(words) and words[i] in model.wv:\n",
    "            phrase_vector[i] = model.wv[words[i]]\n",
    "    phrase_vector = phrase_vector.flatten()\n",
    "    \n",
    "    return torch.tensor(phrase_vector, dtype=torch.float)"
   ]
  },
  {
   "cell_type": "code",
   "execution_count": 154,
   "metadata": {},
   "outputs": [],
   "source": [
    "X = get_phrase_vector('need air', w2v_model, 20)"
   ]
  },
  {
   "cell_type": "code",
   "execution_count": 155,
   "metadata": {},
   "outputs": [],
   "source": [
    "#X convert to tensor in batch size 1\n",
    "X = X.unsqueeze(0)"
   ]
  },
  {
   "cell_type": "code",
   "execution_count": 156,
   "metadata": {},
   "outputs": [
    {
     "data": {
      "text/plain": [
       "tensor([[ 0.3326,  1.0731, -1.4648,  ...,  0.0000,  0.0000,  0.0000]])"
      ]
     },
     "execution_count": 156,
     "metadata": {},
     "output_type": "execute_result"
    }
   ],
   "source": [
    "X"
   ]
  },
  {
   "cell_type": "code",
   "execution_count": 157,
   "metadata": {},
   "outputs": [],
   "source": [
    "output = model(X)"
   ]
  },
  {
   "cell_type": "code",
   "execution_count": 158,
   "metadata": {},
   "outputs": [],
   "source": [
    "#in poincare model find the closest vector to output\n",
    "result=poincare_model.kv.most_similar(output.detach().numpy(), topn=10)"
   ]
  },
  {
   "cell_type": "code",
   "execution_count": 159,
   "metadata": {},
   "outputs": [
    {
     "data": {
      "text/plain": [
       "[(41915391, 0.42863416765340157),\n",
       " (41921547, 0.4314627566705844),\n",
       " (42084627, 0.43777691312447425),\n",
       " (41928899, 0.4407916765806594),\n",
       " (41970930, 0.4423210165064817),\n",
       " (42084633, 0.45195987140321336),\n",
       " (41931105, 0.4555826067213374),\n",
       " (42035287, 0.4580422569455974),\n",
       " (41987173, 0.45827651653050283),\n",
       " (41931093, 0.46027270938342174)]"
      ]
     },
     "execution_count": 159,
     "metadata": {},
     "output_type": "execute_result"
    }
   ],
   "source": [
    "result"
   ]
  },
  {
   "cell_type": "code",
   "execution_count": 160,
   "metadata": {},
   "outputs": [],
   "source": [
    "for i in range(len(result)):\n",
    "    #concatenate dataframes with results \n",
    "    if i == 0:\n",
    "        df_result = df[df['concept_id'] == result[i][0]]\n",
    "    else:\n",
    "        df_result = pd.concat([df_result, df[df['concept_id'] == result[i][0]]])"
   ]
  },
  {
   "cell_type": "code",
   "execution_count": 161,
   "metadata": {},
   "outputs": [
    {
     "data": {
      "text/html": [
       "<div>\n",
       "<style scoped>\n",
       "    .dataframe tbody tr th:only-of-type {\n",
       "        vertical-align: middle;\n",
       "    }\n",
       "\n",
       "    .dataframe tbody tr th {\n",
       "        vertical-align: top;\n",
       "    }\n",
       "\n",
       "    .dataframe thead th {\n",
       "        text-align: right;\n",
       "    }\n",
       "</style>\n",
       "<table border=\"1\" class=\"dataframe\">\n",
       "  <thead>\n",
       "    <tr style=\"text-align: right;\">\n",
       "      <th></th>\n",
       "      <th>concept_id</th>\n",
       "      <th>concept_name</th>\n",
       "      <th>concept_synonym_name</th>\n",
       "      <th>preprocessed</th>\n",
       "      <th>preprocessed_synonyms</th>\n",
       "      <th>preprocessed_without_stemming</th>\n",
       "      <th>preprocessed_synonyms_without_stemming</th>\n",
       "    </tr>\n",
       "  </thead>\n",
       "  <tbody>\n",
       "  </tbody>\n",
       "</table>\n",
       "</div>"
      ],
      "text/plain": [
       "Empty DataFrame\n",
       "Columns: [concept_id, concept_name, concept_synonym_name, preprocessed, preprocessed_synonyms, preprocessed_without_stemming, preprocessed_synonyms_without_stemming]\n",
       "Index: []"
      ]
     },
     "execution_count": 161,
     "metadata": {},
     "output_type": "execute_result"
    }
   ],
   "source": [
    "df_result"
   ]
  },
  {
   "cell_type": "code",
   "execution_count": 162,
   "metadata": {},
   "outputs": [
    {
     "name": "stderr",
     "output_type": "stream",
     "text": [
      "/tmp/ipykernel_3016832/1399977619.py:1: DtypeWarning: Columns (6,9) have mixed types. Specify dtype option on import or set low_memory=False.\n",
      "  df_concept=pd.read_csv('/workspaces/master_thesis/CONCEPT.csv', on_bad_lines='skip', sep='\\t')\n"
     ]
    }
   ],
   "source": [
    "df_concept=pd.read_csv('/workspaces/master_thesis/CONCEPT.csv', on_bad_lines='skip', sep='\\t')"
   ]
  },
  {
   "cell_type": "code",
   "execution_count": 163,
   "metadata": {},
   "outputs": [],
   "source": [
    "for i in range(len(result)):\n",
    "    #concatenate dataframes with results \n",
    "    if i == 0:\n",
    "        df_result = df_concept[df_concept['concept_id'] == result[i][0]]\n",
    "    else:\n",
    "        df_result = pd.concat([df_result, df_concept[df_concept['concept_id'] == result[i][0]]])"
   ]
  },
  {
   "cell_type": "code",
   "execution_count": 164,
   "metadata": {},
   "outputs": [
    {
     "data": {
      "text/html": [
       "<div>\n",
       "<style scoped>\n",
       "    .dataframe tbody tr th:only-of-type {\n",
       "        vertical-align: middle;\n",
       "    }\n",
       "\n",
       "    .dataframe tbody tr th {\n",
       "        vertical-align: top;\n",
       "    }\n",
       "\n",
       "    .dataframe thead th {\n",
       "        text-align: right;\n",
       "    }\n",
       "</style>\n",
       "<table border=\"1\" class=\"dataframe\">\n",
       "  <thead>\n",
       "    <tr style=\"text-align: right;\">\n",
       "      <th></th>\n",
       "      <th>concept_id</th>\n",
       "      <th>concept_name</th>\n",
       "      <th>domain_id</th>\n",
       "      <th>vocabulary_id</th>\n",
       "      <th>concept_class_id</th>\n",
       "      <th>standard_concept</th>\n",
       "      <th>concept_code</th>\n",
       "      <th>valid_start_date</th>\n",
       "      <th>valid_end_date</th>\n",
       "      <th>invalid_reason</th>\n",
       "    </tr>\n",
       "  </thead>\n",
       "  <tbody>\n",
       "    <tr>\n",
       "      <th>68037</th>\n",
       "      <td>41915391</td>\n",
       "      <td>Demjok</td>\n",
       "      <td>Geography</td>\n",
       "      <td>OSM</td>\n",
       "      <td>3rd level</td>\n",
       "      <td>S</td>\n",
       "      <td>2713466</td>\n",
       "      <td>19700101</td>\n",
       "      <td>20991231</td>\n",
       "      <td>NaN</td>\n",
       "    </tr>\n",
       "    <tr>\n",
       "      <th>67588</th>\n",
       "      <td>41921547</td>\n",
       "      <td>China</td>\n",
       "      <td>Geography</td>\n",
       "      <td>OSM</td>\n",
       "      <td>2nd level</td>\n",
       "      <td>S</td>\n",
       "      <td>270056</td>\n",
       "      <td>19700101</td>\n",
       "      <td>20991231</td>\n",
       "      <td>NaN</td>\n",
       "    </tr>\n",
       "    <tr>\n",
       "      <th>1242651</th>\n",
       "      <td>42084627</td>\n",
       "      <td>Midwest</td>\n",
       "      <td>Geography</td>\n",
       "      <td>US Census</td>\n",
       "      <td>US Census Region</td>\n",
       "      <td>S</td>\n",
       "      <td>0200000US2</td>\n",
       "      <td>19700101</td>\n",
       "      <td>20991231</td>\n",
       "      <td>NaN</td>\n",
       "    </tr>\n",
       "    <tr>\n",
       "      <th>26901</th>\n",
       "      <td>41928899</td>\n",
       "      <td>Metropolitan France</td>\n",
       "      <td>Geography</td>\n",
       "      <td>OSM</td>\n",
       "      <td>3rd level</td>\n",
       "      <td>S</td>\n",
       "      <td>1403916</td>\n",
       "      <td>19700101</td>\n",
       "      <td>20991231</td>\n",
       "      <td>NaN</td>\n",
       "    </tr>\n",
       "    <tr>\n",
       "      <th>136054</th>\n",
       "      <td>41970930</td>\n",
       "      <td>Germany</td>\n",
       "      <td>Geography</td>\n",
       "      <td>OSM</td>\n",
       "      <td>2nd level</td>\n",
       "      <td>S</td>\n",
       "      <td>51477</td>\n",
       "      <td>19700101</td>\n",
       "      <td>20991231</td>\n",
       "      <td>NaN</td>\n",
       "    </tr>\n",
       "    <tr>\n",
       "      <th>1242657</th>\n",
       "      <td>42084633</td>\n",
       "      <td>West North Central</td>\n",
       "      <td>Geography</td>\n",
       "      <td>US Census</td>\n",
       "      <td>US Census Division</td>\n",
       "      <td>S</td>\n",
       "      <td>0300000US4</td>\n",
       "      <td>19700101</td>\n",
       "      <td>20991231</td>\n",
       "      <td>NaN</td>\n",
       "    </tr>\n",
       "    <tr>\n",
       "      <th>108221</th>\n",
       "      <td>41931105</td>\n",
       "      <td>New Aquitaine</td>\n",
       "      <td>Geography</td>\n",
       "      <td>OSM</td>\n",
       "      <td>4th level</td>\n",
       "      <td>S</td>\n",
       "      <td>3792880</td>\n",
       "      <td>19700101</td>\n",
       "      <td>20991231</td>\n",
       "      <td>NaN</td>\n",
       "    </tr>\n",
       "    <tr>\n",
       "      <th>149547</th>\n",
       "      <td>42035287</td>\n",
       "      <td>England</td>\n",
       "      <td>Geography</td>\n",
       "      <td>OSM</td>\n",
       "      <td>4th level</td>\n",
       "      <td>S</td>\n",
       "      <td>58447</td>\n",
       "      <td>19700101</td>\n",
       "      <td>20991231</td>\n",
       "      <td>NaN</td>\n",
       "    </tr>\n",
       "    <tr>\n",
       "      <th>105434</th>\n",
       "      <td>41987173</td>\n",
       "      <td>Italy</td>\n",
       "      <td>Geography</td>\n",
       "      <td>OSM</td>\n",
       "      <td>2nd level</td>\n",
       "      <td>S</td>\n",
       "      <td>365331</td>\n",
       "      <td>19700101</td>\n",
       "      <td>20991231</td>\n",
       "      <td>NaN</td>\n",
       "    </tr>\n",
       "    <tr>\n",
       "      <th>108219</th>\n",
       "      <td>41931093</td>\n",
       "      <td>Auvergne-Rhône-Alpes</td>\n",
       "      <td>Geography</td>\n",
       "      <td>OSM</td>\n",
       "      <td>4th level</td>\n",
       "      <td>S</td>\n",
       "      <td>3792877</td>\n",
       "      <td>19700101</td>\n",
       "      <td>20991231</td>\n",
       "      <td>NaN</td>\n",
       "    </tr>\n",
       "  </tbody>\n",
       "</table>\n",
       "</div>"
      ],
      "text/plain": [
       "         concept_id          concept_name  domain_id vocabulary_id   \n",
       "68037      41915391                Demjok  Geography           OSM  \\\n",
       "67588      41921547                 China  Geography           OSM   \n",
       "1242651    42084627               Midwest  Geography     US Census   \n",
       "26901      41928899   Metropolitan France  Geography           OSM   \n",
       "136054     41970930               Germany  Geography           OSM   \n",
       "1242657    42084633    West North Central  Geography     US Census   \n",
       "108221     41931105         New Aquitaine  Geography           OSM   \n",
       "149547     42035287               England  Geography           OSM   \n",
       "105434     41987173                 Italy  Geography           OSM   \n",
       "108219     41931093  Auvergne-Rhône-Alpes  Geography           OSM   \n",
       "\n",
       "           concept_class_id standard_concept concept_code  valid_start_date   \n",
       "68037             3rd level                S      2713466          19700101  \\\n",
       "67588             2nd level                S       270056          19700101   \n",
       "1242651    US Census Region                S   0200000US2          19700101   \n",
       "26901             3rd level                S      1403916          19700101   \n",
       "136054            2nd level                S        51477          19700101   \n",
       "1242657  US Census Division                S   0300000US4          19700101   \n",
       "108221            4th level                S      3792880          19700101   \n",
       "149547            4th level                S        58447          19700101   \n",
       "105434            2nd level                S       365331          19700101   \n",
       "108219            4th level                S      3792877          19700101   \n",
       "\n",
       "         valid_end_date invalid_reason  \n",
       "68037          20991231            NaN  \n",
       "67588          20991231            NaN  \n",
       "1242651        20991231            NaN  \n",
       "26901          20991231            NaN  \n",
       "136054         20991231            NaN  \n",
       "1242657        20991231            NaN  \n",
       "108221         20991231            NaN  \n",
       "149547         20991231            NaN  \n",
       "105434         20991231            NaN  \n",
       "108219         20991231            NaN  "
      ]
     },
     "execution_count": 164,
     "metadata": {},
     "output_type": "execute_result"
    }
   ],
   "source": [
    "df_result"
   ]
  },
  {
   "cell_type": "code",
   "execution_count": 158,
   "metadata": {},
   "outputs": [
    {
     "data": {
      "text/plain": [
       "['development disord', 'degen disord', 'diseas', 'chronic diseas', 'japan']"
      ]
     },
     "execution_count": 158,
     "metadata": {},
     "output_type": "execute_result"
    }
   ],
   "source": [
    "poincare_model.kv.ancestors(result[0][0])"
   ]
  },
  {
   "cell_type": "code",
   "execution_count": 160,
   "metadata": {},
   "outputs": [
    {
     "data": {
      "text/plain": [
       "'development disord'"
      ]
     },
     "execution_count": 160,
     "metadata": {},
     "output_type": "execute_result"
    }
   ],
   "source": [
    "poincare_model.kv.closest_parent(result[0][0])"
   ]
  },
  {
   "cell_type": "code",
   "execution_count": 159,
   "metadata": {},
   "outputs": [
    {
     "data": {
      "text/plain": [
       "'famili diseas'"
      ]
     },
     "execution_count": 159,
     "metadata": {},
     "output_type": "execute_result"
    }
   ],
   "source": [
    "poincare_model.kv.closest_child(result[0][0])"
   ]
  },
  {
   "cell_type": "code",
   "execution_count": 35,
   "metadata": {},
   "outputs": [
    {
     "data": {
      "text/html": [
       "<div>\n",
       "<style scoped>\n",
       "    .dataframe tbody tr th:only-of-type {\n",
       "        vertical-align: middle;\n",
       "    }\n",
       "\n",
       "    .dataframe tbody tr th {\n",
       "        vertical-align: top;\n",
       "    }\n",
       "\n",
       "    .dataframe thead th {\n",
       "        text-align: right;\n",
       "    }\n",
       "</style>\n",
       "<table border=\"1\" class=\"dataframe\">\n",
       "  <thead>\n",
       "    <tr style=\"text-align: right;\">\n",
       "      <th></th>\n",
       "      <th>concept_id</th>\n",
       "      <th>concept_name</th>\n",
       "      <th>concept_synonym_name</th>\n",
       "      <th>preprocessed</th>\n",
       "      <th>preprocessed_synonyms</th>\n",
       "      <th>preprocessed_without_stemming</th>\n",
       "      <th>preprocessed_synonyms_without_stemming</th>\n",
       "    </tr>\n",
       "  </thead>\n",
       "  <tbody>\n",
       "    <tr>\n",
       "      <th>0</th>\n",
       "      <td>4001098</td>\n",
       "      <td>Radiating chest pain</td>\n",
       "      <td>Radiating chest pain (finding)</td>\n",
       "      <td>radiat chest pain</td>\n",
       "      <td>radiat chest pain find</td>\n",
       "      <td>radiating chest pain</td>\n",
       "      <td>radiating chest pain finding</td>\n",
       "    </tr>\n",
       "  </tbody>\n",
       "</table>\n",
       "</div>"
      ],
      "text/plain": [
       "   concept_id          concept_name            concept_synonym_name   \n",
       "0     4001098  Radiating chest pain  Radiating chest pain (finding)  \\\n",
       "\n",
       "        preprocessed   preprocessed_synonyms preprocessed_without_stemming   \n",
       "0  radiat chest pain  radiat chest pain find          radiating chest pain  \\\n",
       "\n",
       "  preprocessed_synonyms_without_stemming  \n",
       "0           radiating chest pain finding  "
      ]
     },
     "execution_count": 35,
     "metadata": {},
     "output_type": "execute_result"
    }
   ],
   "source": [
    "df[df['concept_id']==4329847]"
   ]
  },
  {
   "cell_type": "code",
   "execution_count": 316,
   "metadata": {},
   "outputs": [
    {
     "data": {
      "text/plain": [
       "[('ischem heart diseas', 0.8100460146831875),\n",
       " ('subendocardi myocardi infarct', 0.8388786891377829),\n",
       " ('myocardi ischemia', 0.9273830320340807),\n",
       " ('myocardi necrosi', 0.9710507992408491),\n",
       " ('acut ischem heart diseas', 1.0094027734368483)]"
      ]
     },
     "execution_count": 316,
     "metadata": {},
     "output_type": "execute_result"
    }
   ],
   "source": [
    "poincare_model.kv.most_similar('myocardi infarct', topn=5)"
   ]
  },
  {
   "cell_type": "code",
   "execution_count": null,
   "metadata": {},
   "outputs": [],
   "source": []
  },
  {
   "cell_type": "code",
   "execution_count": 139,
   "metadata": {},
   "outputs": [
    {
     "data": {
      "text/plain": [
       "array(['Procedure on cardiovascular system', 'Emergency procedure',\n",
       "       'Procedure by site', 'Procedure site', 'Procedure on body system',\n",
       "       'Procedure by method'], dtype=object)"
      ]
     },
     "execution_count": 139,
     "metadata": {},
     "output_type": "execute_result"
    }
   ],
   "source": [
    "#get unique concept_ids\n",
    "df_result['concept_name'].unique()"
   ]
  },
  {
   "cell_type": "code",
   "execution_count": 140,
   "metadata": {},
   "outputs": [],
   "source": [
    "vector_names = ['Procedure on cardiovascular system', 'Emergency procedure',\n",
    "       'Procedure by site',  'Procedure on body system',\n",
    "       'Procedure by method']"
   ]
  },
  {
   "cell_type": "code",
   "execution_count": 141,
   "metadata": {},
   "outputs": [],
   "source": [
    "node_name='artery detect'"
   ]
  },
  {
   "cell_type": "code",
   "execution_count": 142,
   "metadata": {},
   "outputs": [],
   "source": [
    "#get vectors of the most similar \n",
    "vectors = []\n",
    "for i in range(len(result)):\n",
    "    vectors.append(poincare_model.kv[result[i][0]])\n",
    "#plot them in 2D\n",
    "\n"
   ]
  },
  {
   "cell_type": "code",
   "execution_count": 143,
   "metadata": {},
   "outputs": [],
   "source": [
    "# Function to convert Poincaré coordinates to Euclidean\n",
    "def poincare_to_euclidean(poincare_vec):\n",
    "    norm_sq = np.sum(poincare_vec ** 2)\n",
    "    denominator = 1 + norm_sq\n",
    "    euclidean_vec = (2 / denominator) * poincare_vec\n",
    "    euclidean_vec = np.append(euclidean_vec, (1 - norm_sq) / denominator)\n",
    "    return euclidean_vec"
   ]
  },
  {
   "cell_type": "code",
   "execution_count": 144,
   "metadata": {},
   "outputs": [],
   "source": [
    "# Function to convert Poincaré coordinates to Euclidean\n",
    "def poincare_to_euclidean(poincare_vec):\n",
    "    norm_sq = np.sum(poincare_vec ** 2)\n",
    "    denominator = 1 + norm_sq\n",
    "    euclidean_vec = (2 / denominator) * poincare_vec\n",
    "    euclidean_vec = np.append(euclidean_vec, (1 - norm_sq) / denominator)\n",
    "    return euclidean_vec"
   ]
  },
  {
   "cell_type": "code",
   "execution_count": 132,
   "metadata": {},
   "outputs": [
    {
     "data": {
      "image/png": "[encoded data removed]",
      "text/plain": [
       "<Figure size 640x480 with 1 Axes>"
      ]
     },
     "metadata": {},
     "output_type": "display_data"
    }
   ],
   "source": [
    "from sklearn.manifold import TSNE\n",
    "import matplotlib.pyplot as plt\n",
    "import numpy as np\n",
    "\n",
    "def visualize_embeddings(node_vector, vectors, node_name, vector_names):\n",
    "    # Reshape vectors in 'vectors' list to match the shape of 'node_vector'\n",
    "    vectors = [vector.reshape(1, -1) for vector in vectors]\n",
    "\n",
    "    # Combine node_vector and its similar vectors\n",
    "    embeddings = np.vstack([node_vector] + vectors)\n",
    "\n",
    "    # Combine node_vector and its similar vectors\n",
    "    embeddings = np.vstack([node_vector] + vectors)\n",
    "\n",
    "    tsne = TSNE(n_components=2, random_state=0, perplexity=5)  # set perplexity to 5\n",
    "    embeddings_2d = tsne.fit_transform(embeddings)\n",
    "\n",
    "    plt.scatter(embeddings_2d[1:, 0], embeddings_2d[1:, 1], color='blue')  # similar vectors in blue\n",
    "    plt.scatter(embeddings_2d[0, 0], embeddings_2d[0, 1], color='red')  # node_vector in red\n",
    "\n",
    "    # Annotate points with vector names\n",
    "    plt.annotate(node_name, (embeddings_2d[0, 0], embeddings_2d[0, 1]))\n",
    "    for i, name in enumerate(vector_names, 1):\n",
    "        plt.annotate(name, (embeddings_2d[i, 0], embeddings_2d[i, 1]))\n",
    "\n",
    "    plt.axis('off')  # Hide axes\n",
    "    plt.show()\n",
    "\n",
    "# Transform vectors\n",
    "euclidean_node_vector = poincare_to_euclidean(output.detach().numpy())\n",
    "euclidean_vectors = [poincare_to_euclidean(vector) for vector in vectors]\n",
    "\n",
    "\n",
    "# Assume your node_vector is defined, and you have collected the similar vectors\n",
    "visualize_embeddings(euclidean_node_vector, euclidean_vectors, node_name, vector_names)\n"
   ]
  },
  {
   "cell_type": "code",
   "execution_count": 134,
   "metadata": {},
   "outputs": [
    {
     "data": {
      "image/png": "[encoded data removed]",
      "text/plain": [
       "<Figure size 640x480 with 1 Axes>"
      ]
     },
     "metadata": {},
     "output_type": "display_data"
    }
   ],
   "source": [
    "import numpy as np\n",
    "from sklearn.manifold import TSNE\n",
    "import matplotlib.pyplot as plt\n",
    "\n",
    "# Get the vector for your node\n",
    "node = 'artery detect'\n",
    "node_vector = output.detach().numpy()\n",
    "\n",
    "# Get the vectors for the 5 most similar nodes\n",
    "similar_nodes = poincare_model.kv.most_similar(node_vector, topn=10)\n",
    "similar_vectors = [poincare_model.kv.get_vector(n) for n, _ in similar_nodes]\n",
    "\n",
    "# Convert Poincaré vectors to Euclidean\n",
    "node_vector = poincare_to_euclidean(node_vector)\n",
    "similar_vectors = [poincare_to_euclidean(vec) for vec in similar_vectors]\n",
    "\n",
    "# Stack your node's vector and the similar vectors into a single array\n",
    "vectors = np.vstack([node_vector] + similar_vectors)\n",
    "\n",
    "# Use t-SNE to reduce the dimensionality to 2D\n",
    "tsne = TSNE(n_components=2, perplexity=5)\n",
    "vectors_2d = tsne.fit_transform(vectors)\n",
    "\n",
    "# Plot the vectors in 2D\n",
    "plt.scatter(vectors_2d[:, 0], vectors_2d[:, 1])\n",
    "\n",
    "\n",
    "# Annotate the points with their corresponding node names\n",
    "for i, (x, y) in enumerate(vectors_2d):\n",
    "    if i == 0:\n",
    "        plt.annotate(node, (x, y))\n",
    "    else:\n",
    "        plt.annotate(similar_nodes[i-1][0], (x, y))\n",
    "        \n",
    "plt.axis('off')\n",
    "plt.show()\n"
   ]
  },
  {
   "cell_type": "code",
   "execution_count": 89,
   "metadata": {},
   "outputs": [],
   "source": [
    "node_vector = output.detach().numpy()"
   ]
  },
  {
   "cell_type": "code",
   "execution_count": 90,
   "metadata": {},
   "outputs": [
    {
     "data": {
      "text/plain": [
       "(1, 100)"
      ]
     },
     "execution_count": 90,
     "metadata": {},
     "output_type": "execute_result"
    }
   ],
   "source": [
    "node_vector.shape"
   ]
  },
  {
   "cell_type": "code",
   "execution_count": 91,
   "metadata": {},
   "outputs": [
    {
     "name": "stdout",
     "output_type": "stream",
     "text": [
      "(100,)\n",
      "(100,)\n",
      "(100,)\n",
      "(100,)\n",
      "(100,)\n"
     ]
    }
   ],
   "source": [
    "for vector in vectors:\n",
    "    print(vector.shape)"
   ]
  },
  {
   "attachments": {},
   "cell_type": "markdown",
   "metadata": {},
   "source": [
    "### Evaluation of the model"
   ]
  },
  {
   "cell_type": "code",
   "execution_count": 29,
   "metadata": {},
   "outputs": [
    {
     "name": "stderr",
     "output_type": "stream",
     "text": [
      "/tmp/ipykernel_2295969/2664624457.py:3: RuntimeWarning: invalid value encountered in arccosh\n",
      "  return np.arccosh(1 + 2 * np.linalg.norm(x-y)**2 / ((1 - np.linalg.norm(x)**2) * (1 - np.linalg.norm(y)**2)))\n"
     ]
    },
    {
     "ename": "KeyboardInterrupt",
     "evalue": "",
     "output_type": "error",
     "traceback": [
      "\u001b[0;31m---------------------------------------------------------------------------\u001b[0m",
      "\u001b[0;31mKeyboardInterrupt\u001b[0m                         Traceback (most recent call last)",
      "Cell \u001b[0;32mIn[29], line 17\u001b[0m\n\u001b[1;32m     15\u001b[0m inputs \u001b[39m=\u001b[39m inputs\u001b[39m.\u001b[39mto(device)\n\u001b[1;32m     16\u001b[0m labels \u001b[39m=\u001b[39m labels\u001b[39m.\u001b[39mto(device)\n\u001b[0;32m---> 17\u001b[0m outputs \u001b[39m=\u001b[39m model(inputs)\n\u001b[1;32m     18\u001b[0m outputs \u001b[39m=\u001b[39m outputs\u001b[39m.\u001b[39mcpu()\u001b[39m.\u001b[39mnumpy()\n\u001b[1;32m     19\u001b[0m labels \u001b[39m=\u001b[39m labels\u001b[39m.\u001b[39mcpu()\u001b[39m.\u001b[39mnumpy()\n",
      "File \u001b[0;32m~/miniconda3/lib/python3.10/site-packages/torch/nn/modules/module.py:1501\u001b[0m, in \u001b[0;36mModule._call_impl\u001b[0;34m(self, *args, **kwargs)\u001b[0m\n\u001b[1;32m   1496\u001b[0m \u001b[39m# If we don't have any hooks, we want to skip the rest of the logic in\u001b[39;00m\n\u001b[1;32m   1497\u001b[0m \u001b[39m# this function, and just call forward.\u001b[39;00m\n\u001b[1;32m   1498\u001b[0m \u001b[39mif\u001b[39;00m \u001b[39mnot\u001b[39;00m (\u001b[39mself\u001b[39m\u001b[39m.\u001b[39m_backward_hooks \u001b[39mor\u001b[39;00m \u001b[39mself\u001b[39m\u001b[39m.\u001b[39m_backward_pre_hooks \u001b[39mor\u001b[39;00m \u001b[39mself\u001b[39m\u001b[39m.\u001b[39m_forward_hooks \u001b[39mor\u001b[39;00m \u001b[39mself\u001b[39m\u001b[39m.\u001b[39m_forward_pre_hooks\n\u001b[1;32m   1499\u001b[0m         \u001b[39mor\u001b[39;00m _global_backward_pre_hooks \u001b[39mor\u001b[39;00m _global_backward_hooks\n\u001b[1;32m   1500\u001b[0m         \u001b[39mor\u001b[39;00m _global_forward_hooks \u001b[39mor\u001b[39;00m _global_forward_pre_hooks):\n\u001b[0;32m-> 1501\u001b[0m     \u001b[39mreturn\u001b[39;00m forward_call(\u001b[39m*\u001b[39;49margs, \u001b[39m*\u001b[39;49m\u001b[39m*\u001b[39;49mkwargs)\n\u001b[1;32m   1502\u001b[0m \u001b[39m# Do not call functions when jit is used\u001b[39;00m\n\u001b[1;32m   1503\u001b[0m full_backward_hooks, non_full_backward_hooks \u001b[39m=\u001b[39m [], []\n",
      "Cell \u001b[0;32mIn[7], line 15\u001b[0m, in \u001b[0;36mBiLSTM.forward\u001b[0;34m(self, x)\u001b[0m\n\u001b[1;32m     12\u001b[0m x \u001b[39m=\u001b[39m x\u001b[39m.\u001b[39mview(x\u001b[39m.\u001b[39msize(\u001b[39m0\u001b[39m), \u001b[39m20\u001b[39m, \u001b[39m300\u001b[39m)\n\u001b[1;32m     14\u001b[0m \u001b[39m# Forward propagate LSTM\u001b[39;00m\n\u001b[0;32m---> 15\u001b[0m out, _ \u001b[39m=\u001b[39m \u001b[39mself\u001b[39;49m\u001b[39m.\u001b[39;49mlstm(x)  \u001b[39m# out: tensor of shape (batch_size, seq_length, hidden_size*2)\u001b[39;00m\n\u001b[1;32m     17\u001b[0m \u001b[39m# Decode the hidden state of the last time step\u001b[39;00m\n\u001b[1;32m     18\u001b[0m out \u001b[39m=\u001b[39m \u001b[39mself\u001b[39m\u001b[39m.\u001b[39mfc(out[:, \u001b[39m-\u001b[39m\u001b[39m1\u001b[39m, :])\n",
      "File \u001b[0;32m~/miniconda3/lib/python3.10/site-packages/torch/nn/modules/module.py:1501\u001b[0m, in \u001b[0;36mModule._call_impl\u001b[0;34m(self, *args, **kwargs)\u001b[0m\n\u001b[1;32m   1496\u001b[0m \u001b[39m# If we don't have any hooks, we want to skip the rest of the logic in\u001b[39;00m\n\u001b[1;32m   1497\u001b[0m \u001b[39m# this function, and just call forward.\u001b[39;00m\n\u001b[1;32m   1498\u001b[0m \u001b[39mif\u001b[39;00m \u001b[39mnot\u001b[39;00m (\u001b[39mself\u001b[39m\u001b[39m.\u001b[39m_backward_hooks \u001b[39mor\u001b[39;00m \u001b[39mself\u001b[39m\u001b[39m.\u001b[39m_backward_pre_hooks \u001b[39mor\u001b[39;00m \u001b[39mself\u001b[39m\u001b[39m.\u001b[39m_forward_hooks \u001b[39mor\u001b[39;00m \u001b[39mself\u001b[39m\u001b[39m.\u001b[39m_forward_pre_hooks\n\u001b[1;32m   1499\u001b[0m         \u001b[39mor\u001b[39;00m _global_backward_pre_hooks \u001b[39mor\u001b[39;00m _global_backward_hooks\n\u001b[1;32m   1500\u001b[0m         \u001b[39mor\u001b[39;00m _global_forward_hooks \u001b[39mor\u001b[39;00m _global_forward_pre_hooks):\n\u001b[0;32m-> 1501\u001b[0m     \u001b[39mreturn\u001b[39;00m forward_call(\u001b[39m*\u001b[39;49margs, \u001b[39m*\u001b[39;49m\u001b[39m*\u001b[39;49mkwargs)\n\u001b[1;32m   1502\u001b[0m \u001b[39m# Do not call functions when jit is used\u001b[39;00m\n\u001b[1;32m   1503\u001b[0m full_backward_hooks, non_full_backward_hooks \u001b[39m=\u001b[39m [], []\n",
      "File \u001b[0;32m~/miniconda3/lib/python3.10/site-packages/torch/nn/modules/rnn.py:812\u001b[0m, in \u001b[0;36mLSTM.forward\u001b[0;34m(self, input, hx)\u001b[0m\n\u001b[1;32m    810\u001b[0m \u001b[39mself\u001b[39m\u001b[39m.\u001b[39mcheck_forward_args(\u001b[39minput\u001b[39m, hx, batch_sizes)\n\u001b[1;32m    811\u001b[0m \u001b[39mif\u001b[39;00m batch_sizes \u001b[39mis\u001b[39;00m \u001b[39mNone\u001b[39;00m:\n\u001b[0;32m--> 812\u001b[0m     result \u001b[39m=\u001b[39m _VF\u001b[39m.\u001b[39;49mlstm(\u001b[39minput\u001b[39;49m, hx, \u001b[39mself\u001b[39;49m\u001b[39m.\u001b[39;49m_flat_weights, \u001b[39mself\u001b[39;49m\u001b[39m.\u001b[39;49mbias, \u001b[39mself\u001b[39;49m\u001b[39m.\u001b[39;49mnum_layers,\n\u001b[1;32m    813\u001b[0m                       \u001b[39mself\u001b[39;49m\u001b[39m.\u001b[39;49mdropout, \u001b[39mself\u001b[39;49m\u001b[39m.\u001b[39;49mtraining, \u001b[39mself\u001b[39;49m\u001b[39m.\u001b[39;49mbidirectional, \u001b[39mself\u001b[39;49m\u001b[39m.\u001b[39;49mbatch_first)\n\u001b[1;32m    814\u001b[0m \u001b[39melse\u001b[39;00m:\n\u001b[1;32m    815\u001b[0m     result \u001b[39m=\u001b[39m _VF\u001b[39m.\u001b[39mlstm(\u001b[39minput\u001b[39m, batch_sizes, hx, \u001b[39mself\u001b[39m\u001b[39m.\u001b[39m_flat_weights, \u001b[39mself\u001b[39m\u001b[39m.\u001b[39mbias,\n\u001b[1;32m    816\u001b[0m                       \u001b[39mself\u001b[39m\u001b[39m.\u001b[39mnum_layers, \u001b[39mself\u001b[39m\u001b[39m.\u001b[39mdropout, \u001b[39mself\u001b[39m\u001b[39m.\u001b[39mtraining, \u001b[39mself\u001b[39m\u001b[39m.\u001b[39mbidirectional)\n",
      "\u001b[0;31mKeyboardInterrupt\u001b[0m: "
     ]
    }
   ],
   "source": [
    "#load the model\n",
    "model = BiLSTM(input_size=300, hidden_size=300, output_size=100)\n",
    "model.load_state_dict(torch.load('/workspaces/master_thesis/model_50epochs.ckpt'))\n",
    "#device\n",
    "device = torch.device('cuda' if torch.cuda.is_available() else 'cpu')\n",
    "model.eval() \n",
    "k_values = [1, 5, 10, 20, 50]\n",
    "accuracy_values = []\n",
    "\n",
    "with torch.no_grad():\n",
    "    for k in k_values:\n",
    "        correct = 0\n",
    "        total = 0\n",
    "        for inputs, labels in test_loader:\n",
    "            inputs = inputs.to(device)\n",
    "            labels = labels.to(device)\n",
    "            outputs = model(inputs)\n",
    "            outputs = outputs.cpu().numpy()\n",
    "            labels = labels.cpu().numpy()\n",
    "            for i in range(len(outputs)):\n",
    "                distances = []\n",
    "                for j in range(len(labels)):\n",
    "                    distances.append(hyporbolic_distance(outputs[i], labels[j]))\n",
    "                # get the indices of the k nearest neighbors\n",
    "                indices = np.argsort(distances)[:k]\n",
    "                # get the labels of the k nearest neighbors\n",
    "                nearest_neighbors = labels[indices]\n",
    "                # check if the true label is among the k nearest neighbors\n",
    "                true_label = labels[i]\n",
    "                if true_label in nearest_neighbors:\n",
    "                    correct += 1\n",
    "                total += 1\n",
    "        accuracy = correct / total\n",
    "        accuracy_values.append(accuracy)\n",
    "        \n",
    "for i, accuracy in zip(k_values, accuracy_values):\n",
    "    print(f\"Accuracy for k={i}: {accuracy * 100}%\")"
   ]
  },
  {
   "cell_type": "code",
   "execution_count": 13,
   "metadata": {},
   "outputs": [
    {
     "data": {
      "text/plain": [
       "array([ 0.19665678,  0.02667253, -0.02934773, -0.01337146,  0.04152124,\n",
       "       -0.05577108,  0.14011106,  0.09187503, -0.12093822,  0.02160995,\n",
       "       -0.0131025 , -0.08683918,  0.00625619,  0.06242204, -0.08745344,\n",
       "       -0.05218282,  0.12236204, -0.01187435,  0.05717341, -0.04063322,\n",
       "       -0.05357431,  0.25135383, -0.11989627,  0.00989363, -0.15431452,\n",
       "       -0.10989917,  0.16160643, -0.05924424,  0.03936768,  0.03939102,\n",
       "       -0.06837179, -0.03936594, -0.06925329,  0.0287062 , -0.02164807,\n",
       "       -0.01854842,  0.05298658, -0.10234008,  0.06967802, -0.11811987,\n",
       "        0.07652353, -0.01244717, -0.003803  , -0.02318858,  0.12595965,\n",
       "        0.13021925,  0.22862007,  0.12428559, -0.12883334,  0.19415568,\n",
       "        0.01169046, -0.13112605, -0.05151721, -0.24994433,  0.07567984,\n",
       "        0.10239729, -0.08897179,  0.07758136, -0.04398337, -0.07124443,\n",
       "       -0.00111799, -0.02667818,  0.01939244, -0.02062713, -0.04814637,\n",
       "        0.02442436,  0.02604907,  0.01920782, -0.11671887,  0.00665766,\n",
       "       -0.04097944, -0.1038496 ,  0.12020714,  0.07791598,  0.10391048,\n",
       "        0.10587917,  0.01782309,  0.00482031,  0.15374288, -0.10142292,\n",
       "        0.06838308, -0.02423601, -0.00284336,  0.09287741, -0.17311957,\n",
       "        0.01752887,  0.08447717,  0.1244464 ,  0.02001721, -0.07598609,\n",
       "       -0.08217418,  0.02521352,  0.00236057,  0.12204278,  0.0117182 ,\n",
       "        0.01229689, -0.1692374 ,  0.18277912,  0.03209405, -0.08987681],\n",
       "      dtype=float32)"
      ]
     },
     "execution_count": 13,
     "metadata": {},
     "output_type": "execute_result"
    }
   ],
   "source": [
    "labels[0]"
   ]
  },
  {
   "cell_type": "code",
   "execution_count": null,
   "metadata": {},
   "outputs": [],
   "source": []
  },
  {
   "cell_type": "code",
   "execution_count": 16,
   "metadata": {},
   "outputs": [
    {
     "name": "stderr",
     "output_type": "stream",
     "text": [
      "/tmp/ipykernel_1793303/2664624457.py:3: RuntimeWarning: invalid value encountered in arccosh\n",
      "  return np.arccosh(1 + 2 * np.linalg.norm(x-y)**2 / ((1 - np.linalg.norm(x)**2) * (1 - np.linalg.norm(y)**2)))\n"
     ]
    },
    {
     "ename": "KeyboardInterrupt",
     "evalue": "",
     "output_type": "error",
     "traceback": [
      "\u001b[0;31m---------------------------------------------------------------------------\u001b[0m",
      "\u001b[0;31mKeyboardInterrupt\u001b[0m                         Traceback (most recent call last)",
      "Cell \u001b[0;32mIn[16], line 29\u001b[0m\n\u001b[1;32m     27\u001b[0m distances \u001b[39m=\u001b[39m []\n\u001b[1;32m     28\u001b[0m \u001b[39mfor\u001b[39;00m j \u001b[39min\u001b[39;00m \u001b[39mrange\u001b[39m(\u001b[39mlen\u001b[39m(labels_all)):\n\u001b[0;32m---> 29\u001b[0m     distances\u001b[39m.\u001b[39mappend(hyporbolic_distance(outputs_all[i], labels_all[j]))\n\u001b[1;32m     30\u001b[0m \u001b[39m# get the indices of the k nearest neighbors\u001b[39;00m\n\u001b[1;32m     31\u001b[0m indices \u001b[39m=\u001b[39m np\u001b[39m.\u001b[39margsort(distances)[:k]\n",
      "Cell \u001b[0;32mIn[10], line 3\u001b[0m, in \u001b[0;36mhyporbolic_distance\u001b[0;34m(x, y)\u001b[0m\n\u001b[1;32m      1\u001b[0m \u001b[39mdef\u001b[39;00m \u001b[39mhyporbolic_distance\u001b[39m(x,y):\n\u001b[1;32m      2\u001b[0m     \u001b[39m#calculate hyporbolic distance between two vectors\u001b[39;00m\n\u001b[0;32m----> 3\u001b[0m     \u001b[39mreturn\u001b[39;00m np\u001b[39m.\u001b[39marccosh(\u001b[39m1\u001b[39m \u001b[39m+\u001b[39m \u001b[39m2\u001b[39m \u001b[39m*\u001b[39m np\u001b[39m.\u001b[39mlinalg\u001b[39m.\u001b[39mnorm(x\u001b[39m-\u001b[39my)\u001b[39m*\u001b[39m\u001b[39m*\u001b[39m\u001b[39m2\u001b[39m \u001b[39m/\u001b[39m ((\u001b[39m1\u001b[39m \u001b[39m-\u001b[39m np\u001b[39m.\u001b[39mlinalg\u001b[39m.\u001b[39mnorm(x)\u001b[39m*\u001b[39m\u001b[39m*\u001b[39m\u001b[39m2\u001b[39m) \u001b[39m*\u001b[39m (\u001b[39m1\u001b[39m \u001b[39m-\u001b[39m np\u001b[39m.\u001b[39;49mlinalg\u001b[39m.\u001b[39;49mnorm(y)\u001b[39m*\u001b[39m\u001b[39m*\u001b[39m\u001b[39m2\u001b[39m)))\n",
      "File \u001b[0;32m<__array_function__ internals>:180\u001b[0m, in \u001b[0;36mnorm\u001b[0;34m(*args, **kwargs)\u001b[0m\n",
      "File \u001b[0;32m~/miniconda3/lib/python3.10/site-packages/numpy/linalg/linalg.py:2338\u001b[0m, in \u001b[0;36m_norm_dispatcher\u001b[0;34m(x, ord, axis, keepdims)\u001b[0m\n\u001b[1;32m   2334\u001b[0m     result \u001b[39m=\u001b[39m op(svd(y, compute_uv\u001b[39m=\u001b[39m\u001b[39mFalse\u001b[39;00m), axis\u001b[39m=\u001b[39m\u001b[39m-\u001b[39m\u001b[39m1\u001b[39m)\n\u001b[1;32m   2335\u001b[0m     \u001b[39mreturn\u001b[39;00m result\n\u001b[0;32m-> 2338\u001b[0m \u001b[39mdef\u001b[39;00m \u001b[39m_norm_dispatcher\u001b[39m(x, \u001b[39mord\u001b[39m\u001b[39m=\u001b[39m\u001b[39mNone\u001b[39;00m, axis\u001b[39m=\u001b[39m\u001b[39mNone\u001b[39;00m, keepdims\u001b[39m=\u001b[39m\u001b[39mNone\u001b[39;00m):\n\u001b[1;32m   2339\u001b[0m     \u001b[39mreturn\u001b[39;00m (x,)\n\u001b[1;32m   2342\u001b[0m \u001b[39m@array_function_dispatch\u001b[39m(_norm_dispatcher)\n\u001b[1;32m   2343\u001b[0m \u001b[39mdef\u001b[39;00m \u001b[39mnorm\u001b[39m(x, \u001b[39mord\u001b[39m\u001b[39m=\u001b[39m\u001b[39mNone\u001b[39;00m, axis\u001b[39m=\u001b[39m\u001b[39mNone\u001b[39;00m, keepdims\u001b[39m=\u001b[39m\u001b[39mFalse\u001b[39;00m):\n",
      "\u001b[0;31mKeyboardInterrupt\u001b[0m: "
     ]
    }
   ],
   "source": [
    "model.eval()\n",
    "k_values = [1, 5, 10, 20, 50]\n",
    "accuracy_values = []\n",
    "\n",
    "with torch.no_grad():\n",
    "    # Load all data into memory\n",
    "    inputs_all = []\n",
    "    labels_all = []\n",
    "    for inputs, labels in test_loader:\n",
    "        inputs = inputs.to(device)\n",
    "        labels = labels.to(device)\n",
    "        inputs_all.append(inputs)\n",
    "        labels_all.append(labels)\n",
    "\n",
    "    inputs_all = torch.cat(inputs_all)\n",
    "    labels_all = torch.cat(labels_all)\n",
    "\n",
    "    # Compute outputs for all data\n",
    "    outputs_all = model(inputs_all)\n",
    "    outputs_all = outputs_all.cpu().numpy()\n",
    "    labels_all = labels_all.cpu().numpy()\n",
    "\n",
    "    for k in k_values:\n",
    "        correct = 0\n",
    "        total = 0\n",
    "        for i in range(len(outputs_all)):\n",
    "            distances = []\n",
    "            for j in range(len(labels_all)):\n",
    "                distances.append(hyporbolic_distance(outputs_all[i], labels_all[j]))\n",
    "            # get the indices of the k nearest neighbors\n",
    "            indices = np.argsort(distances)[:k]\n",
    "            # get the labels of the k nearest neighbors\n",
    "            nearest_neighbors = labels_all[indices]\n",
    "            # check if the true label is among the k nearest neighbors\n",
    "            true_label = labels_all[i]\n",
    "            if true_label in nearest_neighbors:\n",
    "                correct += 1\n",
    "            total += 1\n",
    "        accuracy = correct / total\n",
    "        accuracy_values.append(accuracy)\n",
    "\n",
    "for i, accuracy in zip(k_values, accuracy_values):\n",
    "    print(f\"Accuracy for k={i}: {accuracy * 100}%\")"
   ]
  },
  {
   "cell_type": "code",
   "execution_count": 16,
   "metadata": {},
   "outputs": [
    {
     "name": "stdout",
     "output_type": "stream",
     "text": [
      "[[ 0.15149002 -0.00588327 -0.01927167 ...  0.13347381  0.05824211\n",
      "  -0.110452  ]\n",
      " [ 0.09172472  0.01436075  0.04251928 ... -0.04174102  0.03248358\n",
      "  -0.01895724]\n",
      " [ 0.03682062  0.01093031  0.01620699 ...  0.02730098  0.00170489\n",
      "  -0.02050288]\n",
      " ...\n",
      " [ 0.13538103  0.09132892 -0.00368471 ...  0.16022784 -0.01432297\n",
      "   0.05173496]\n",
      " [-0.0598892   0.07564677 -0.04869265 ... -0.0221441   0.00432681\n",
      "   0.13782363]\n",
      " [ 0.02208643  0.06257834 -0.00210662 ...  0.08658007 -0.00262798\n",
      "  -0.01696791]]\n",
      "(64, 100)\n",
      "[[ 0.19665678  0.02667253 -0.02934773 ...  0.18277912  0.03209405\n",
      "  -0.08987681]\n",
      " [ 0.18238278  0.15877901  0.08966684 ...  0.02679526 -0.00069893\n",
      "  -0.07635263]\n",
      " [ 0.04590896 -0.00326635  0.1301228  ... -0.10906892  0.13626042\n",
      "  -0.28794193]\n",
      " ...\n",
      " [ 0.1141592   0.08765475  0.00559242 ...  0.09552231 -0.05993672\n",
      "   0.04217599]\n",
      " [-0.07532855  0.06801189 -0.0207578  ...  0.01642261 -0.00719422\n",
      "   0.10086993]\n",
      " [ 0.08028945  0.04673268  0.05113677 ...  0.03378233 -0.10373269\n",
      "  -0.0321836 ]]\n",
      "(64, 100)\n",
      "0.3595875122028344\n"
     ]
    }
   ],
   "source": [
    "#load the model\n",
    "model = BiLSTM(input_size=300, hidden_size=300, output_size=100)\n",
    "model.load_state_dict(torch.load('model.ckpt'))\n",
    "#device\n",
    "device = torch.device('cuda' if torch.cuda.is_available() else 'cpu')\n",
    "#get predicted label from the model and calculate the distance between the predicted label and the true label\n",
    "model.eval() \n",
    "with torch.no_grad():\n",
    "    for inputs, labels in test_loader:\n",
    "        inputs = inputs.to(device)\n",
    "        labels = labels.to(device)\n",
    "        outputs = model(inputs)\n",
    "        outputs = outputs.cpu().numpy()\n",
    "        print(outputs)\n",
    "        print(outputs.shape)\n",
    "        labels = labels.cpu().numpy()\n",
    "        print(labels)\n",
    "        print(labels.shape)\n",
    "        distance = hyporbolic_distance(outputs, labels)\n",
    "        print(distance)\n",
    "        #stop after one iteration\n",
    "        break"
   ]
  }
 ],
 "metadata": {
  "kernelspec": {
   "display_name": "base",
   "language": "python",
   "name": "python3"
  },
  "language_info": {
   "codemirror_mode": {
    "name": "ipython",
    "version": 3
   },
   "file_extension": ".py",
   "mimetype": "text/x-python",
   "name": "python",
   "nbconvert_exporter": "python",
   "pygments_lexer": "ipython3",
   "version": "3.10.10"
  },
  "orig_nbformat": 4
 },
 "nbformat": 4,
 "nbformat_minor": 2
}
