{
 "cells": [
  {
   "cell_type": "code",
   "execution_count": 27,
   "metadata": {},
   "outputs": [],
   "source": [
    "test_data=[\n",
    "'What artery was this detected at?'\n",
    ",'Atrioventricular block'\n",
    ",'Atrioventricular block degree'\n",
    ",'Are you aware of a coronary heart disease diagnosed by your doctor?'\n",
    ",'Has a cardioversion already been performed on you?'\n",
    ",'Congenital heart disease'\n",
    ",'Was contrast agent used for cardio magnetic resonance imaging?'\n",
    ",'Have you been in control echocardiography for the last 12 months?'\n",
    ",'Have you ever been diagnosed with atrial fibrillation by a doctor?'\n",
    ",'Have you ever been diagnosed with deep vein thrombosis by a doctor?'\n",
    ",'Have you ever been diagnosed by a doctor with a sagging of another artery (aneurysm)?'\n",
    ",'Have you ever been diagnosed by a doctor with window disease or blood circulation disorder in your legs, also called Claudicatio or arterial disease?'\n",
    ",'Have you ever been diagnosed with a heart attack by a doctor?'\n",
    ",'Have you ever been diagnosed with \"open legs\" by a doctor or an Ulcus cruris?'\n",
    ",'Is a mobile electrocardiogram issued?'\n",
    ",'How old were you when the diagnosis of atrial fibrillation was made?'\n",
    ",'Do you have pain in one or both legs while walking?'\n",
    ",'Riva-Rocci systolic before examination'\n",
    ",'Sclerosis of the mitral valve']"
   ]
  },
  {
   "cell_type": "code",
   "execution_count": 28,
   "metadata": {},
   "outputs": [],
   "source": [
    "import spacy\n",
    "import pandas as pd\n",
    "import numpy as np\n",
    "nlp = spacy.load(\"en_core_web_sm\")"
   ]
  },
  {
   "cell_type": "code",
   "execution_count": 29,
   "metadata": {},
   "outputs": [],
   "source": [
    "def preprocessing_without_stemming(sample):\n",
    "    if isinstance(sample, str):\n",
    "        sample = sample.lower()\n",
    "        token_list = []\n",
    "        doc = nlp(sample)\n",
    "        token_list = [token.text\n",
    "            for token in doc\n",
    "                if not token.is_stop and not token.is_punct\n",
    "            ]\n",
    "        sentence = \" \".join(token_list)\n",
    "        return sentence\n",
    "    else:\n",
    "        print(f\"Invalid input {sample}: expected a string.\")\n",
    "        return None"
   ]
  },
  {
   "cell_type": "code",
   "execution_count": 30,
   "metadata": {},
   "outputs": [],
   "source": [
    "#preprocessing of the data -> remove punctuation, stopwords, lowercase\n",
    "test_data = [preprocessing_without_stemming(x) for x in test_data]"
   ]
  },
  {
   "attachments": {},
   "cell_type": "markdown",
   "metadata": {},
   "source": [
    "## Initialise model BiLSTM"
   ]
  },
  {
   "cell_type": "code",
   "execution_count": 31,
   "metadata": {},
   "outputs": [],
   "source": [
    "import torch.nn as nn\n",
    "import torch\n",
    "\n",
    "class BiLSTM(nn.Module):\n",
    "    def __init__(self, input_size, hidden_size, output_size):\n",
    "        super(BiLSTM, self).__init__()\n",
    "        self.hidden_size = hidden_size\n",
    "        self.lstm = nn.LSTM(input_size, hidden_size, batch_first=True, bidirectional=True)\n",
    "        self.fc = nn.Linear(hidden_size * 2, output_size)  # 2 for bidirection\n",
    "\n",
    "    def forward(self, x):\n",
    "        # Reshape the input to (batch_size, seq_len, features)\n",
    "        x = x.view(x.size(0), 20, 300)\n",
    "\n",
    "        # Forward propagate LSTM\n",
    "        out, _ = self.lstm(x)  # out: tensor of shape (batch_size, seq_length, hidden_size*2)\n",
    "\n",
    "        # Decode the hidden state of the last time step\n",
    "        out = self.fc(out[:, -1, :])\n",
    "        return out"
   ]
  },
  {
   "cell_type": "code",
   "execution_count": 32,
   "metadata": {},
   "outputs": [],
   "source": [
    "model = BiLSTM(input_size=300, hidden_size=300, output_size=100)\n",
    "criterion = nn.MSELoss()\n",
    "optimizer = torch.optim.Adam(model.parameters())"
   ]
  },
  {
   "cell_type": "code",
   "execution_count": 33,
   "metadata": {},
   "outputs": [
    {
     "data": {
      "text/plain": [
       "BiLSTM(\n",
       "  (lstm): LSTM(300, 300, batch_first=True, bidirectional=True)\n",
       "  (fc): Linear(in_features=600, out_features=100, bias=True)\n",
       ")"
      ]
     },
     "execution_count": 33,
     "metadata": {},
     "output_type": "execute_result"
    }
   ],
   "source": [
    "model.load_state_dict(torch.load('/workspaces/master_thesis/model_50epochs_conceptid.ckpt'))\n",
    "#model.load_state_dict(torch.load('/workspaces/master_thesis/model_50epochs_conceptid_deepwalk.ckpt'))\n",
    "#device\n",
    "device = torch.device('cuda' if torch.cuda.is_available() else 'cpu')\n",
    "model.eval() "
   ]
  },
  {
   "cell_type": "code",
   "execution_count": 34,
   "metadata": {},
   "outputs": [],
   "source": [
    "from gensim.models import Word2Vec\n",
    "from gensim.models.poincare import PoincareModel\n",
    "w2v_model = Word2Vec.load(\"/workspaces/master_thesis/word2vec_pubmed.model\")\n",
    "poincare_model = PoincareModel.load('/workspaces/master_thesis/poincare_100d_concept_id')\n",
    "#deepwalk_model = Word2Vec.load(\"/workspaces/master_thesis/deepwalk_snomed.model\")"
   ]
  },
  {
   "cell_type": "code",
   "execution_count": 35,
   "metadata": {},
   "outputs": [],
   "source": [
    "def get_phrase_vector(phrase, model, max_len):\n",
    "    words = str(phrase).split()\n",
    "    phrase_vector = np.zeros((max_len, model.vector_size))\n",
    "    for i in range(max_len):\n",
    "        if i < len(words) and words[i] in model.wv:\n",
    "            phrase_vector[i] = model.wv[words[i]]\n",
    "    phrase_vector = phrase_vector.flatten()\n",
    "    \n",
    "    return torch.tensor(phrase_vector, dtype=torch.float)"
   ]
  },
  {
   "cell_type": "code",
   "execution_count": 36,
   "metadata": {},
   "outputs": [
    {
     "name": "stderr",
     "output_type": "stream",
     "text": [
      "/opt/conda/lib/python3.8/site-packages/IPython/core/interactiveshell.py:3398: DtypeWarning: Columns (6,9) have mixed types.Specify dtype option on import or set low_memory=False.\n",
      "  exec(code_obj, self.user_global_ns, self.user_ns)\n"
     ]
    }
   ],
   "source": [
    "df_concept=pd.read_csv('/workspaces/master_thesis/CONCEPT.csv', on_bad_lines='skip', sep='\\t')"
   ]
  },
  {
   "cell_type": "code",
   "execution_count": 39,
   "metadata": {},
   "outputs": [],
   "source": [
    "df_overall_results = pd.DataFrame()\n",
    "\n",
    "for n in test_data:\n",
    "    x = get_phrase_vector(n, w2v_model, 20)\n",
    "    x = x.unsqueeze(0)\n",
    "    output = model(x)\n",
    "    #result = deepwalk_model.wv.most_similar([output.detach().numpy()[0]], topn=5)\n",
    "    result = poincare_model.kv.most_similar([output.detach().numpy()[0]], topn=5)\n",
    "    \n",
    "    for i in range(len(result)):\n",
    "        # create a new dataframe for each result\n",
    "        df_temp = df_concept[df_concept['concept_id'] == int(result[i][0])].copy()\n",
    "        df_temp['score'] = result[i][1]\n",
    "        df_temp['sourcename'] = n\n",
    "        \n",
    "        # concatenate this dataframe with df_overall_results\n",
    "        df_overall_results = pd.concat([df_overall_results, df_temp[['sourcename', 'concept_id', 'concept_name', 'domain_id', 'score']]])"
   ]
  },
  {
   "cell_type": "code",
   "execution_count": 40,
   "metadata": {},
   "outputs": [
    {
     "data": {
      "text/html": [
       "<div>\n",
       "<style scoped>\n",
       "    .dataframe tbody tr th:only-of-type {\n",
       "        vertical-align: middle;\n",
       "    }\n",
       "\n",
       "    .dataframe tbody tr th {\n",
       "        vertical-align: top;\n",
       "    }\n",
       "\n",
       "    .dataframe thead th {\n",
       "        text-align: right;\n",
       "    }\n",
       "</style>\n",
       "<table border=\"1\" class=\"dataframe\">\n",
       "  <thead>\n",
       "    <tr style=\"text-align: right;\">\n",
       "      <th></th>\n",
       "      <th>sourcename</th>\n",
       "      <th>concept_id</th>\n",
       "      <th>concept_name</th>\n",
       "      <th>domain_id</th>\n",
       "      <th>score</th>\n",
       "    </tr>\n",
       "  </thead>\n",
       "  <tbody>\n",
       "    <tr>\n",
       "      <th>723234</th>\n",
       "      <td>artery detected</td>\n",
       "      <td>4114166</td>\n",
       "      <td>Systemic arterial finding</td>\n",
       "      <td>Condition</td>\n",
       "      <td>0.603746</td>\n",
       "    </tr>\n",
       "    <tr>\n",
       "      <th>284416</th>\n",
       "      <td>artery detected</td>\n",
       "      <td>4042836</td>\n",
       "      <td>Disorder of head</td>\n",
       "      <td>Condition</td>\n",
       "      <td>0.732165</td>\n",
       "    </tr>\n",
       "    <tr>\n",
       "      <th>828468</th>\n",
       "      <td>artery detected</td>\n",
       "      <td>321887</td>\n",
       "      <td>Disorder of artery</td>\n",
       "      <td>Condition</td>\n",
       "      <td>0.737198</td>\n",
       "    </tr>\n",
       "    <tr>\n",
       "      <th>908023</th>\n",
       "      <td>artery detected</td>\n",
       "      <td>321052</td>\n",
       "      <td>Peripheral vascular disease</td>\n",
       "      <td>Condition</td>\n",
       "      <td>0.739125</td>\n",
       "    </tr>\n",
       "    <tr>\n",
       "      <th>723610</th>\n",
       "      <td>artery detected</td>\n",
       "      <td>4115390</td>\n",
       "      <td>Mediastinal finding</td>\n",
       "      <td>Condition</td>\n",
       "      <td>0.758339</td>\n",
       "    </tr>\n",
       "    <tr>\n",
       "      <th>...</th>\n",
       "      <td>...</td>\n",
       "      <td>...</td>\n",
       "      <td>...</td>\n",
       "      <td>...</td>\n",
       "      <td>...</td>\n",
       "    </tr>\n",
       "    <tr>\n",
       "      <th>300179</th>\n",
       "      <td>sclerosis mitral valve</td>\n",
       "      <td>4048213</td>\n",
       "      <td>Heart valve stenosis and regurgitation</td>\n",
       "      <td>Condition</td>\n",
       "      <td>1.459595</td>\n",
       "    </tr>\n",
       "    <tr>\n",
       "      <th>1039427</th>\n",
       "      <td>sclerosis mitral valve</td>\n",
       "      <td>4189343</td>\n",
       "      <td>Aortic valve stenosis</td>\n",
       "      <td>Condition</td>\n",
       "      <td>1.467915</td>\n",
       "    </tr>\n",
       "    <tr>\n",
       "      <th>659653</th>\n",
       "      <td>sclerosis mitral valve</td>\n",
       "      <td>4158911</td>\n",
       "      <td>Non-rheumatic heart valve disorder</td>\n",
       "      <td>Condition</td>\n",
       "      <td>1.501683</td>\n",
       "    </tr>\n",
       "    <tr>\n",
       "      <th>1158915</th>\n",
       "      <td>sclerosis mitral valve</td>\n",
       "      <td>315273</td>\n",
       "      <td>Mitral valve stenosis</td>\n",
       "      <td>Condition</td>\n",
       "      <td>1.530830</td>\n",
       "    </tr>\n",
       "    <tr>\n",
       "      <th>1189969</th>\n",
       "      <td>sclerosis mitral valve</td>\n",
       "      <td>314054</td>\n",
       "      <td>Aortic valve disorder</td>\n",
       "      <td>Condition</td>\n",
       "      <td>1.574363</td>\n",
       "    </tr>\n",
       "  </tbody>\n",
       "</table>\n",
       "<p>95 rows × 5 columns</p>\n",
       "</div>"
      ],
      "text/plain": [
       "                     sourcename  concept_id  \\\n",
       "723234          artery detected     4114166   \n",
       "284416          artery detected     4042836   \n",
       "828468          artery detected      321887   \n",
       "908023          artery detected      321052   \n",
       "723610          artery detected     4115390   \n",
       "...                         ...         ...   \n",
       "300179   sclerosis mitral valve     4048213   \n",
       "1039427  sclerosis mitral valve     4189343   \n",
       "659653   sclerosis mitral valve     4158911   \n",
       "1158915  sclerosis mitral valve      315273   \n",
       "1189969  sclerosis mitral valve      314054   \n",
       "\n",
       "                                   concept_name  domain_id     score  \n",
       "723234                Systemic arterial finding  Condition  0.603746  \n",
       "284416                         Disorder of head  Condition  0.732165  \n",
       "828468                       Disorder of artery  Condition  0.737198  \n",
       "908023              Peripheral vascular disease  Condition  0.739125  \n",
       "723610                      Mediastinal finding  Condition  0.758339  \n",
       "...                                         ...        ...       ...  \n",
       "300179   Heart valve stenosis and regurgitation  Condition  1.459595  \n",
       "1039427                   Aortic valve stenosis  Condition  1.467915  \n",
       "659653       Non-rheumatic heart valve disorder  Condition  1.501683  \n",
       "1158915                   Mitral valve stenosis  Condition  1.530830  \n",
       "1189969                   Aortic valve disorder  Condition  1.574363  \n",
       "\n",
       "[95 rows x 5 columns]"
      ]
     },
     "execution_count": 40,
     "metadata": {},
     "output_type": "execute_result"
    }
   ],
   "source": [
    "df_overall_results"
   ]
  },
  {
   "cell_type": "code",
   "execution_count": 26,
   "metadata": {},
   "outputs": [],
   "source": [
    "#to excel\n",
    "#df_overall_results.to_excel('/workspaces/master_thesis/results_deepwalk_bilstm_1706.xlsx')\n",
    "df_overall_results.to_excel('/workspaces/master_thesis/results_poincare_bilstm_1706.xlsx')"
   ]
  },
  {
   "cell_type": "code",
   "execution_count": 25,
   "metadata": {},
   "outputs": [
    {
     "name": "stdout",
     "output_type": "stream",
     "text": [
      "Looking in indexes: https://pypi.org/simple, https://pypi.ngc.nvidia.com\n",
      "Collecting openpyxl\n",
      "  Downloading openpyxl-3.1.2-py2.py3-none-any.whl (249 kB)\n",
      "\u001b[2K     \u001b[90m━━━━━━━━━━━━━━━━━━━━━━━━━━━━━━━━━━━━━━━\u001b[0m \u001b[32m250.0/250.0 kB\u001b[0m \u001b[31m3.8 MB/s\u001b[0m eta \u001b[36m0:00:00\u001b[0ma \u001b[36m0:00:01\u001b[0m\n",
      "\u001b[?25hCollecting et-xmlfile (from openpyxl)\n",
      "  Downloading et_xmlfile-1.1.0-py3-none-any.whl (4.7 kB)\n",
      "Installing collected packages: et-xmlfile, openpyxl\n",
      "Successfully installed et-xmlfile-1.1.0 openpyxl-3.1.2\n",
      "\u001b[33mWARNING: Running pip as the 'root' user can result in broken permissions and conflicting behaviour with the system package manager. It is recommended to use a virtual environment instead: https://pip.pypa.io/warnings/venv\u001b[0m\u001b[33m\n",
      "\u001b[0m\n",
      "\u001b[1m[\u001b[0m\u001b[34;49mnotice\u001b[0m\u001b[1;39;49m]\u001b[0m\u001b[39;49m A new release of pip is available: \u001b[0m\u001b[31;49m23.1.2\u001b[0m\u001b[39;49m -> \u001b[0m\u001b[32;49m23.2\u001b[0m\n",
      "\u001b[1m[\u001b[0m\u001b[34;49mnotice\u001b[0m\u001b[1;39;49m]\u001b[0m\u001b[39;49m To update, run: \u001b[0m\u001b[32;49mpip install --upgrade pip\u001b[0m\n",
      "Note: you may need to restart the kernel to use updated packages.\n"
     ]
    }
   ],
   "source": [
    "pip install openpyxl"
   ]
  }
 ],
 "metadata": {
  "kernelspec": {
   "display_name": "base",
   "language": "python",
   "name": "python3"
  },
  "language_info": {
   "codemirror_mode": {
    "name": "ipython",
    "version": 3
   },
   "file_extension": ".py",
   "mimetype": "text/x-python",
   "name": "python",
   "nbconvert_exporter": "python",
   "pygments_lexer": "ipython3",
   "version": "3.8.13"
  },
  "orig_nbformat": 4
 },
 "nbformat": 4,
 "nbformat_minor": 2
}
