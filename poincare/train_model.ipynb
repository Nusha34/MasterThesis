{
 "cells": [
  {
   "cell_type": "code",
   "execution_count": 4,
   "metadata": {},
   "outputs": [],
   "source": [
    "import pandas as pd\n",
    "import matplotlib.pyplot as plt\n",
    "from puancare_train import Trainer"
   ]
  },
  {
   "cell_type": "code",
   "execution_count": 5,
   "metadata": {},
   "outputs": [],
   "source": [
    "tr=Trainer('/workspaces/master_thesis/CONCEPT_RELATIONSHIP.csv', '/workspaces/master_thesis/CONCEPT.csv')"
   ]
  },
  {
   "cell_type": "code",
   "execution_count": 6,
   "metadata": {},
   "outputs": [
    {
     "name": "stderr",
     "output_type": "stream",
     "text": [
      "/workspaces/master_thesis/poincare/build_graph.py:11: DtypeWarning: Columns (6,9) have mixed types. Specify dtype option on import or set low_memory=False.\n",
      "  self.data_concept = pd.read_csv(path_concept, on_bad_lines='skip', sep='\\t')\n",
      "/workspaces/master_thesis/poincare/build_graph.py:18: UserWarning: Boolean Series key will be reindexed to match DataFrame index.\n",
      "  data_merge_2=data_merge_2[data_merge_2.standard_concept_x=='S'][data_merge_2.standard_concept_y=='S']\n"
     ]
    }
   ],
   "source": [
    "model_two=tr.trainer(10)"
   ]
  },
  {
   "cell_type": "code",
   "execution_count": 7,
   "metadata": {},
   "outputs": [
    {
     "data": {
      "text/plain": [
       "<gensim.models.poincare.PoincareKeyedVectors at 0x7f4628f08e50>"
      ]
     },
     "execution_count": 7,
     "metadata": {},
     "output_type": "execute_result"
    }
   ],
   "source": [
    "model_two.kv"
   ]
  },
  {
   "cell_type": "code",
   "execution_count": 1,
   "metadata": {},
   "outputs": [],
   "source": [
    "from build_graph import Builder"
   ]
  },
  {
   "cell_type": "code",
   "execution_count": 2,
   "metadata": {},
   "outputs": [
    {
     "name": "stderr",
     "output_type": "stream",
     "text": [
      "/workspaces/master_thesis/poincare/build_graph.py:11: DtypeWarning: Columns (6,9) have mixed types. Specify dtype option on import or set low_memory=False.\n",
      "  self.data_concept = pd.read_csv(path_concept, on_bad_lines='skip', sep='\\t')\n"
     ]
    }
   ],
   "source": [
    "relationship_build=Builder('/workspaces/master_thesis/CONCEPT_RELATIONSHIP.csv', '/workspaces/master_thesis/CONCEPT.csv')"
   ]
  },
  {
   "cell_type": "code",
   "execution_count": 3,
   "metadata": {},
   "outputs": [
    {
     "name": "stderr",
     "output_type": "stream",
     "text": [
      "/workspaces/master_thesis/poincare/build_graph.py:18: UserWarning: Boolean Series key will be reindexed to match DataFrame index.\n",
      "  data_merge_2=data_merge_2[data_merge_2.standard_concept_x=='S'][data_merge_2.standard_concept_y=='S']\n"
     ]
    }
   ],
   "source": [
    "connection_list=list(relationship_build())"
   ]
  },
  {
   "cell_type": "code",
   "execution_count": 11,
   "metadata": {},
   "outputs": [],
   "source": [
    "import pandas as pd\n",
    "df=pd.DataFrame(connection_list)"
   ]
  },
  {
   "cell_type": "code",
   "execution_count": 12,
   "metadata": {},
   "outputs": [],
   "source": [
    "from sklearn.model_selection import train_test_split\n",
    "\n",
    "train, test = train_test_split(df, test_size=0.2)"
   ]
  },
  {
   "cell_type": "code",
   "execution_count": 13,
   "metadata": {},
   "outputs": [],
   "source": [
    "train.to_csv('relationships_train_1.csv', index=False, sep='\\t')"
   ]
  },
  {
   "cell_type": "code",
   "execution_count": 14,
   "metadata": {},
   "outputs": [],
   "source": [
    "test.to_csv('relationships_test_1.csv', index=False, sep='\\t')"
   ]
  },
  {
   "cell_type": "code",
   "execution_count": 15,
   "metadata": {},
   "outputs": [],
   "source": [
    "from gensim.models.poincare import LinkPredictionEvaluation"
   ]
  },
  {
   "cell_type": "code",
   "execution_count": 16,
   "metadata": {},
   "outputs": [],
   "source": [
    "result=LinkPredictionEvaluation('/workspaces/master_thesis/poincare/relationships_train_1.csv','/workspaces/master_thesis/poincare/relationships_test_1.csv', model_two.kv)"
   ]
  },
  {
   "cell_type": "code",
   "execution_count": 17,
   "metadata": {},
   "outputs": [
    {
     "data": {
      "text/html": [
       "<div>\n",
       "<style scoped>\n",
       "    .dataframe tbody tr th:only-of-type {\n",
       "        vertical-align: middle;\n",
       "    }\n",
       "\n",
       "    .dataframe tbody tr th {\n",
       "        vertical-align: top;\n",
       "    }\n",
       "\n",
       "    .dataframe thead th {\n",
       "        text-align: right;\n",
       "    }\n",
       "</style>\n",
       "<table border=\"1\" class=\"dataframe\">\n",
       "  <thead>\n",
       "    <tr style=\"text-align: right;\">\n",
       "      <th></th>\n",
       "      <th>0</th>\n",
       "      <th>1</th>\n",
       "    </tr>\n",
       "  </thead>\n",
       "  <tbody>\n",
       "    <tr>\n",
       "      <th>0</th>\n",
       "      <td>Primary squamous cell carcinoma of lingual tonsil</td>\n",
       "      <td>Carcinoma of pharynx</td>\n",
       "    </tr>\n",
       "    <tr>\n",
       "      <th>1</th>\n",
       "      <td>Secondary malignant neoplasm of soft tissues o...</td>\n",
       "      <td>Secondary malignant neoplasm of upper limb</td>\n",
       "    </tr>\n",
       "    <tr>\n",
       "      <th>2</th>\n",
       "      <td>Entire prepericardial lymph node</td>\n",
       "      <td>Entire lymph node of thorax</td>\n",
       "    </tr>\n",
       "    <tr>\n",
       "      <th>3</th>\n",
       "      <td>Sigvaris Style Transparent (15-20mmHg) tights ...</td>\n",
       "      <td>NHS dm+d actual appliance pack</td>\n",
       "    </tr>\n",
       "    <tr>\n",
       "      <th>4</th>\n",
       "      <td>Congenital absence of scapula</td>\n",
       "      <td>Congenital anomaly of bone of shoulder girdle</td>\n",
       "    </tr>\n",
       "    <tr>\n",
       "      <th>...</th>\n",
       "      <td>...</td>\n",
       "      <td>...</td>\n",
       "    </tr>\n",
       "    <tr>\n",
       "      <th>889437</th>\n",
       "      <td>Lacks capacity to give consent (Mental Capacit...</td>\n",
       "      <td>Finding of capacity to give consent</td>\n",
       "    </tr>\n",
       "    <tr>\n",
       "      <th>889438</th>\n",
       "      <td>Wichita Falls</td>\n",
       "      <td>Wichita County</td>\n",
       "    </tr>\n",
       "    <tr>\n",
       "      <th>889439</th>\n",
       "      <td>Juzo Soft class 1 (18-21mmHg) thigh length ope...</td>\n",
       "      <td>NHS dm+d actual appliance pack</td>\n",
       "    </tr>\n",
       "    <tr>\n",
       "      <th>889440</th>\n",
       "      <td>Cobrieux</td>\n",
       "      <td>Lille</td>\n",
       "    </tr>\n",
       "    <tr>\n",
       "      <th>889441</th>\n",
       "      <td>Altiven class 1 (18-21mmHg) thigh length open ...</td>\n",
       "      <td>NHS dm+d actual appliance</td>\n",
       "    </tr>\n",
       "  </tbody>\n",
       "</table>\n",
       "<p>889442 rows × 2 columns</p>\n",
       "</div>"
      ],
      "text/plain": [
       "                                                        0  \\\n",
       "0       Primary squamous cell carcinoma of lingual tonsil   \n",
       "1       Secondary malignant neoplasm of soft tissues o...   \n",
       "2                        Entire prepericardial lymph node   \n",
       "3       Sigvaris Style Transparent (15-20mmHg) tights ...   \n",
       "4                           Congenital absence of scapula   \n",
       "...                                                   ...   \n",
       "889437  Lacks capacity to give consent (Mental Capacit...   \n",
       "889438                                      Wichita Falls   \n",
       "889439  Juzo Soft class 1 (18-21mmHg) thigh length ope...   \n",
       "889440                                           Cobrieux   \n",
       "889441  Altiven class 1 (18-21mmHg) thigh length open ...   \n",
       "\n",
       "                                                    1  \n",
       "0                                Carcinoma of pharynx  \n",
       "1          Secondary malignant neoplasm of upper limb  \n",
       "2                         Entire lymph node of thorax  \n",
       "3                      NHS dm+d actual appliance pack  \n",
       "4       Congenital anomaly of bone of shoulder girdle  \n",
       "...                                               ...  \n",
       "889437            Finding of capacity to give consent  \n",
       "889438                                 Wichita County  \n",
       "889439                 NHS dm+d actual appliance pack  \n",
       "889440                                          Lille  \n",
       "889441                      NHS dm+d actual appliance  \n",
       "\n",
       "[889442 rows x 2 columns]"
      ]
     },
     "execution_count": 17,
     "metadata": {},
     "output_type": "execute_result"
    }
   ],
   "source": [
    "pd.read_csv('/workspaces/master_thesis/poincare/relationships_train_1.csv', on_bad_lines='skip', sep='\\t')"
   ]
  },
  {
   "cell_type": "code",
   "execution_count": 18,
   "metadata": {},
   "outputs": [],
   "source": [
    "evaluation=result.evaluate()"
   ]
  },
  {
   "cell_type": "code",
   "execution_count": 19,
   "metadata": {},
   "outputs": [
    {
     "data": {
      "text/plain": [
       "{'mean_rank': 114705.13429687008, 'MAP': 0.004722360435121225}"
      ]
     },
     "execution_count": 19,
     "metadata": {},
     "output_type": "execute_result"
    }
   ],
   "source": [
    "evaluation"
   ]
  }
 ],
 "metadata": {
  "kernelspec": {
   "display_name": "base",
   "language": "python",
   "name": "python3"
  },
  "language_info": {
   "codemirror_mode": {
    "name": "ipython",
    "version": 3
   },
   "file_extension": ".py",
   "mimetype": "text/x-python",
   "name": "python",
   "nbconvert_exporter": "python",
   "pygments_lexer": "ipython3",
   "version": "3.9.13"
  },
  "orig_nbformat": 4,
  "vscode": {
   "interpreter": {
    "hash": "d4d1e4263499bec80672ea0156c357c1ee493ec2b1c70f0acce89fc37c4a6abe"
   }
  }
 },
 "nbformat": 4,
 "nbformat_minor": 2
}
