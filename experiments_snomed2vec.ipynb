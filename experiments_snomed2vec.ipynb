{
 "cells": [
  {
   "cell_type": "code",
   "execution_count": 1,
   "metadata": {},
   "outputs": [],
   "source": [
    "import pandas as pd\n"
   ]
  },
  {
   "cell_type": "markdown",
   "metadata": {},
   "source": [
    "This notebook represents experiments with the implementation of part of the code from the article \"Snomed2Vec: RandomWalk and Poincaré Embeddings of a Clinical Knowledge Base for Healthcare Analytics\"   \n",
    "\n",
    "source: https://gitlab.com/agarwal.khushbu/Snomed2Vec/-/blob/master/src/embedding_learning/poincare.py \n"
   ]
  },
  {
   "cell_type": "code",
   "execution_count": 8,
   "metadata": {},
   "outputs": [],
   "source": [
    "df=pd.read_csv('C://Users/Nusha/Desktop/Passaustudying/fouth semester/master/master_thesis/snomed/CONCEPT_RELATIONSHIP.csv', sep='\\t')"
   ]
  },
  {
   "cell_type": "code",
   "execution_count": 20,
   "metadata": {},
   "outputs": [],
   "source": [
    "df=df[df.relationship_id=='Is a']"
   ]
  },
  {
   "cell_type": "code",
   "execution_count": 14,
   "metadata": {},
   "outputs": [
    {
     "name": "stderr",
     "output_type": "stream",
     "text": [
      "c:\\Users\\Nusha\\anaconda3\\lib\\site-packages\\IPython\\core\\interactiveshell.py:3165: DtypeWarning: Columns (6,9) have mixed types.Specify dtype option on import or set low_memory=False.\n",
      "  has_raised = await self.run_ast_nodes(code_ast.body, cell_name,\n"
     ]
    }
   ],
   "source": [
    "df_concept=pd.read_csv('C://Users/Nusha/Desktop/Passaustudying/fouth semester/master/master_thesis/snomed/CONCEPT.csv', sep='\\t')"
   ]
  },
  {
   "cell_type": "code",
   "execution_count": 16,
   "metadata": {},
   "outputs": [
    {
     "data": {
      "text/html": [
       "<div>\n",
       "<style scoped>\n",
       "    .dataframe tbody tr th:only-of-type {\n",
       "        vertical-align: middle;\n",
       "    }\n",
       "\n",
       "    .dataframe tbody tr th {\n",
       "        vertical-align: top;\n",
       "    }\n",
       "\n",
       "    .dataframe thead th {\n",
       "        text-align: right;\n",
       "    }\n",
       "</style>\n",
       "<table border=\"1\" class=\"dataframe\">\n",
       "  <thead>\n",
       "    <tr style=\"text-align: right;\">\n",
       "      <th></th>\n",
       "      <th>concept_id</th>\n",
       "      <th>concept_name</th>\n",
       "      <th>domain_id</th>\n",
       "      <th>vocabulary_id</th>\n",
       "      <th>concept_class_id</th>\n",
       "      <th>standard_concept</th>\n",
       "      <th>concept_code</th>\n",
       "      <th>valid_start_date</th>\n",
       "      <th>valid_end_date</th>\n",
       "      <th>invalid_reason</th>\n",
       "    </tr>\n",
       "  </thead>\n",
       "  <tbody>\n",
       "    <tr>\n",
       "      <th>1241008</th>\n",
       "      <td>281</td>\n",
       "      <td>Medicare Managed Care</td>\n",
       "      <td>Payer</td>\n",
       "      <td>SOPT</td>\n",
       "      <td>Payer</td>\n",
       "      <td>S</td>\n",
       "      <td>11</td>\n",
       "      <td>19700101</td>\n",
       "      <td>20991231</td>\n",
       "      <td>NaN</td>\n",
       "    </tr>\n",
       "  </tbody>\n",
       "</table>\n",
       "</div>"
      ],
      "text/plain": [
       "         concept_id           concept_name domain_id vocabulary_id  \\\n",
       "1241008         281  Medicare Managed Care     Payer          SOPT   \n",
       "\n",
       "        concept_class_id standard_concept concept_code  valid_start_date  \\\n",
       "1241008            Payer                S           11          19700101   \n",
       "\n",
       "         valid_end_date invalid_reason  \n",
       "1241008        20991231            NaN  "
      ]
     },
     "execution_count": 16,
     "metadata": {},
     "output_type": "execute_result"
    }
   ],
   "source": [
    "df_concept[df_concept.concept_id==281]"
   ]
  },
  {
   "cell_type": "code",
   "execution_count": 21,
   "metadata": {},
   "outputs": [],
   "source": [
    "df_merge=df.merge(df_concept, left_on='concept_id_1', right_on='concept_id', how='left')"
   ]
  },
  {
   "cell_type": "code",
   "execution_count": 23,
   "metadata": {},
   "outputs": [],
   "source": [
    "df_merge_2=df_merge.merge(df_concept, left_on='concept_id_2', right_on='concept_id', how='left')"
   ]
  },
  {
   "cell_type": "code",
   "execution_count": 27,
   "metadata": {},
   "outputs": [],
   "source": [
    "df_for_relationships=df_merge_2[['concept_id_1', 'concept_name_x', 'concept_id_2', 'concept_name_y', 'relationship_id']]"
   ]
  },
  {
   "cell_type": "code",
   "execution_count": 28,
   "metadata": {},
   "outputs": [
    {
     "data": {
      "text/html": [
       "<div>\n",
       "<style scoped>\n",
       "    .dataframe tbody tr th:only-of-type {\n",
       "        vertical-align: middle;\n",
       "    }\n",
       "\n",
       "    .dataframe tbody tr th {\n",
       "        vertical-align: top;\n",
       "    }\n",
       "\n",
       "    .dataframe thead th {\n",
       "        text-align: right;\n",
       "    }\n",
       "</style>\n",
       "<table border=\"1\" class=\"dataframe\">\n",
       "  <thead>\n",
       "    <tr style=\"text-align: right;\">\n",
       "      <th></th>\n",
       "      <th>concept_id_1</th>\n",
       "      <th>concept_name_x</th>\n",
       "      <th>concept_id_2</th>\n",
       "      <th>concept_name_y</th>\n",
       "      <th>relationship_id</th>\n",
       "    </tr>\n",
       "  </thead>\n",
       "  <tbody>\n",
       "    <tr>\n",
       "      <th>0</th>\n",
       "      <td>281</td>\n",
       "      <td>Medicare Managed Care</td>\n",
       "      <td>280</td>\n",
       "      <td>Medicare</td>\n",
       "      <td>Is a</td>\n",
       "    </tr>\n",
       "    <tr>\n",
       "      <th>1</th>\n",
       "      <td>282</td>\n",
       "      <td>Medicare Health Maintenance Organization (HMO)</td>\n",
       "      <td>281</td>\n",
       "      <td>Medicare Managed Care</td>\n",
       "      <td>Is a</td>\n",
       "    </tr>\n",
       "    <tr>\n",
       "      <th>2</th>\n",
       "      <td>283</td>\n",
       "      <td>Medicare Preferred Provider Organization (PPO)</td>\n",
       "      <td>281</td>\n",
       "      <td>Medicare Managed Care</td>\n",
       "      <td>Is a</td>\n",
       "    </tr>\n",
       "    <tr>\n",
       "      <th>3</th>\n",
       "      <td>284</td>\n",
       "      <td>Medicare Point of Service (POS)</td>\n",
       "      <td>281</td>\n",
       "      <td>Medicare Managed Care</td>\n",
       "      <td>Is a</td>\n",
       "    </tr>\n",
       "    <tr>\n",
       "      <th>4</th>\n",
       "      <td>285</td>\n",
       "      <td>Medicare Non-managed Care</td>\n",
       "      <td>280</td>\n",
       "      <td>Medicare</td>\n",
       "      <td>Is a</td>\n",
       "    </tr>\n",
       "    <tr>\n",
       "      <th>...</th>\n",
       "      <td>...</td>\n",
       "      <td>...</td>\n",
       "      <td>...</td>\n",
       "      <td>...</td>\n",
       "      <td>...</td>\n",
       "    </tr>\n",
       "    <tr>\n",
       "      <th>1695762</th>\n",
       "      <td>3661632</td>\n",
       "      <td>Thrombocytopenia due to Severe acute respirato...</td>\n",
       "      <td>37311061</td>\n",
       "      <td>COVID-19</td>\n",
       "      <td>Is a</td>\n",
       "    </tr>\n",
       "    <tr>\n",
       "      <th>1695763</th>\n",
       "      <td>3655975</td>\n",
       "      <td>Sepsis due to disease caused by Severe acute r...</td>\n",
       "      <td>37311061</td>\n",
       "      <td>COVID-19</td>\n",
       "      <td>Is a</td>\n",
       "    </tr>\n",
       "    <tr>\n",
       "      <th>1695764</th>\n",
       "      <td>3661748</td>\n",
       "      <td>Acute kidney injury due to disease caused by S...</td>\n",
       "      <td>37311061</td>\n",
       "      <td>COVID-19</td>\n",
       "      <td>Is a</td>\n",
       "    </tr>\n",
       "    <tr>\n",
       "      <th>1695765</th>\n",
       "      <td>3655976</td>\n",
       "      <td>Acute hypoxemic respiratory failure due to dis...</td>\n",
       "      <td>37311061</td>\n",
       "      <td>COVID-19</td>\n",
       "      <td>Is a</td>\n",
       "    </tr>\n",
       "    <tr>\n",
       "      <th>1695766</th>\n",
       "      <td>3655977</td>\n",
       "      <td>Rhabdomyolysis due to disease caused by Severe...</td>\n",
       "      <td>37311061</td>\n",
       "      <td>COVID-19</td>\n",
       "      <td>Is a</td>\n",
       "    </tr>\n",
       "  </tbody>\n",
       "</table>\n",
       "<p>1695767 rows × 5 columns</p>\n",
       "</div>"
      ],
      "text/plain": [
       "         concept_id_1                                     concept_name_x  \\\n",
       "0                 281                              Medicare Managed Care   \n",
       "1                 282     Medicare Health Maintenance Organization (HMO)   \n",
       "2                 283     Medicare Preferred Provider Organization (PPO)   \n",
       "3                 284                    Medicare Point of Service (POS)   \n",
       "4                 285                          Medicare Non-managed Care   \n",
       "...               ...                                                ...   \n",
       "1695762       3661632  Thrombocytopenia due to Severe acute respirato...   \n",
       "1695763       3655975  Sepsis due to disease caused by Severe acute r...   \n",
       "1695764       3661748  Acute kidney injury due to disease caused by S...   \n",
       "1695765       3655976  Acute hypoxemic respiratory failure due to dis...   \n",
       "1695766       3655977  Rhabdomyolysis due to disease caused by Severe...   \n",
       "\n",
       "         concept_id_2         concept_name_y relationship_id  \n",
       "0                 280               Medicare            Is a  \n",
       "1                 281  Medicare Managed Care            Is a  \n",
       "2                 281  Medicare Managed Care            Is a  \n",
       "3                 281  Medicare Managed Care            Is a  \n",
       "4                 280               Medicare            Is a  \n",
       "...               ...                    ...             ...  \n",
       "1695762      37311061               COVID-19            Is a  \n",
       "1695763      37311061               COVID-19            Is a  \n",
       "1695764      37311061               COVID-19            Is a  \n",
       "1695765      37311061               COVID-19            Is a  \n",
       "1695766      37311061               COVID-19            Is a  \n",
       "\n",
       "[1695767 rows x 5 columns]"
      ]
     },
     "execution_count": 28,
     "metadata": {},
     "output_type": "execute_result"
    }
   ],
   "source": [
    "df_for_relationships"
   ]
  },
  {
   "cell_type": "code",
   "execution_count": null,
   "metadata": {},
   "outputs": [],
   "source": []
  }
 ],
 "metadata": {
  "kernelspec": {
   "display_name": "Python 3.8.8 ('base')",
   "language": "python",
   "name": "python3"
  },
  "language_info": {
   "codemirror_mode": {
    "name": "ipython",
    "version": 3
   },
   "file_extension": ".py",
   "mimetype": "text/x-python",
   "name": "python",
   "nbconvert_exporter": "python",
   "pygments_lexer": "ipython3",
   "version": "3.8.8"
  },
  "orig_nbformat": 4,
  "vscode": {
   "interpreter": {
    "hash": "0d9f4de9683cfd3ae83f052b72a6177cb56793a14e04c16f5a78e2b56390f02b"
   }
  }
 },
 "nbformat": 4,
 "nbformat_minor": 2
}
