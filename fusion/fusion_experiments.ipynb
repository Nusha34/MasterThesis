{
 "cells": [
  {
   "cell_type": "code",
   "execution_count": 2,
   "metadata": {},
   "outputs": [],
   "source": [
    "from gensim.models import KeyedVectors\n",
    "from gensim import models\n",
    "from gensim.models import Word2Vec"
   ]
  },
  {
   "cell_type": "code",
   "execution_count": 3,
   "metadata": {},
   "outputs": [],
   "source": [
    "word2vec_model = Word2Vec.load(\"/workspaces/master_thesis/word2vec_wiki_snomed.model\")"
   ]
  },
  {
   "cell_type": "code",
   "execution_count": 35,
   "metadata": {},
   "outputs": [
    {
     "data": {
      "text/plain": [
       "0.10416862"
      ]
     },
     "execution_count": 35,
     "metadata": {},
     "output_type": "execute_result"
    }
   ],
   "source": [
    "word2vec_model.wv.similarity('avot', 'dijon')"
   ]
  },
  {
   "cell_type": "code",
   "execution_count": 29,
   "metadata": {},
   "outputs": [
    {
     "data": {
      "text/plain": [
       "array([ 1.76556423e-01,  1.22530675e+00, -1.72580287e-01, -6.73240498e-02,\n",
       "        5.20348966e-01,  6.29719377e-01,  7.20458031e-01, -3.05321455e-01,\n",
       "        1.45751178e+00, -2.09997669e-01,  4.04270291e-01,  2.51234949e-01,\n",
       "        8.22188854e-01,  9.00556326e-01, -7.56555080e-01,  1.21418917e+00,\n",
       "        1.91926628e-01,  1.22920871e+00,  2.68604517e-01,  9.59346116e-01,\n",
       "        5.05876005e-01,  1.49255157e-01,  5.88420451e-01,  4.02819872e-01,\n",
       "       -9.78538275e-01, -4.33753878e-01,  2.01710391e+00, -4.06773329e-01,\n",
       "       -6.38177693e-01, -1.00323009e+00,  7.80601874e-02, -6.62689507e-01,\n",
       "        1.37022567e+00, -2.19973460e-01, -3.05089424e-03, -7.29766548e-01,\n",
       "        1.63546950e-01, -3.57925087e-01, -7.70990491e-01,  4.84835148e-01,\n",
       "       -1.09738791e+00,  1.95524716e+00, -6.99554563e-01, -7.45082200e-01,\n",
       "        1.98428586e-01,  1.99803066e+00,  1.88664222e+00,  7.90294766e-01,\n",
       "       -1.74721408e+00, -7.98870325e-01, -1.19160938e+00,  2.73862511e-01,\n",
       "        6.68703735e-01, -6.82195067e-01,  1.23220122e+00,  7.30679989e-01,\n",
       "       -8.69910181e-01,  2.21538186e-01,  3.28510553e-01,  1.21034682e-01,\n",
       "       -1.74598396e-01, -7.85241127e-01,  1.86824471e-01, -5.17261982e-01,\n",
       "        8.47817585e-02, -2.25015834e-01,  1.99080661e-01,  2.46002883e-01,\n",
       "        1.45698106e+00,  1.04672432e+00, -1.18707621e+00, -9.58826184e-01,\n",
       "        1.53175771e-01,  9.55676615e-01,  3.08153391e-01,  3.36516351e-01,\n",
       "        2.86420077e-01, -5.07090390e-01, -2.09194481e-01, -4.94562209e-01,\n",
       "       -2.10511398e+00,  4.53266174e-01, -8.50674212e-01,  1.62496555e+00,\n",
       "        2.05903634e-01,  1.74441367e-01, -3.32124978e-01, -9.11666632e-01,\n",
       "        6.38877928e-01,  1.13173807e+00,  1.52868712e+00, -1.37127519e-01,\n",
       "       -3.74864757e-01, -3.79414529e-01,  3.90113592e-02, -2.73928583e-01,\n",
       "        1.01221788e+00, -4.26943898e-01,  1.21448612e+00, -3.47591072e-01,\n",
       "        3.10870498e-01,  1.74125206e+00, -8.09903979e-01, -8.05180490e-01,\n",
       "       -5.92184603e-01,  7.02240229e-01,  1.99285042e+00, -7.59304240e-02,\n",
       "        1.45640403e-01,  6.66303262e-02, -1.07576609e+00, -7.08774447e-01,\n",
       "       -9.67305005e-02, -1.44467998e+00,  1.46850920e+00, -1.94497153e-01,\n",
       "        2.43399096e+00, -4.11281496e-01, -1.96261391e-01, -2.24074036e-01,\n",
       "       -1.64873481e+00,  2.88038039e+00, -5.16990662e-01, -1.45306218e+00,\n",
       "        1.22379947e+00, -6.39394298e-02,  3.87930870e-01,  6.35769546e-01,\n",
       "       -5.52324235e-01,  1.77524686e-01,  8.10147166e-01, -1.47352248e-01,\n",
       "       -5.44074476e-01,  6.80299342e-01,  3.88523608e-01,  5.11644125e-01,\n",
       "       -6.68404758e-01, -2.21764827e+00, -3.04277062e-01, -1.89259207e+00,\n",
       "       -1.50993550e+00, -1.78452715e-01,  1.10611641e+00, -9.33285177e-01,\n",
       "        1.37505186e+00,  7.64037132e-01, -9.51477826e-01, -1.48914307e-01,\n",
       "       -1.51948482e-01,  1.09815143e-01,  1.00246823e+00,  7.77462423e-01,\n",
       "        2.64255375e-01,  1.20158434e+00,  9.01328564e-01, -3.09703171e-01,\n",
       "        3.86950537e-03, -3.37585747e-01, -4.69563931e-01, -1.62865132e-01,\n",
       "        1.39199781e+00,  1.15228319e+00,  3.93435448e-01, -1.19711518e-01,\n",
       "        8.75318229e-01,  2.66734242e-01, -6.88158572e-02,  6.44987106e-01,\n",
       "       -9.82556283e-01, -5.79107225e-01, -3.58546138e-01,  1.05939496e+00,\n",
       "       -1.09483528e+00, -4.37887728e-01, -8.18660438e-01, -1.10044158e+00,\n",
       "        1.15481257e+00, -2.77364478e-02,  1.02341294e+00, -1.07868791e+00,\n",
       "       -1.24248289e-01,  7.81046748e-01,  6.35320842e-01, -8.32267404e-01,\n",
       "       -3.20802741e-02,  4.07938391e-01, -5.78640342e-01, -3.91737342e-01,\n",
       "       -7.63141870e-01, -3.11793894e-01,  2.30794191e+00, -5.96027732e-01,\n",
       "       -4.58956450e-01, -8.81835669e-02, -2.36047909e-01,  5.80339581e-02,\n",
       "       -2.74534106e-01, -1.16919029e+00,  1.78619519e-01, -1.88410890e+00,\n",
       "        3.35148305e-01, -2.74699479e-01,  1.01469266e+00,  1.24984324e-01,\n",
       "        7.31849253e-01,  1.11176029e-01,  1.97371811e-01, -4.80009824e-01,\n",
       "        9.89962339e-01, -1.31747246e+00, -1.08786941e+00,  7.35945284e-01,\n",
       "        5.14515340e-01,  2.20064133e-01,  3.22755545e-01, -9.52990353e-01,\n",
       "       -9.56854582e-01, -1.18747950e+00, -1.59368038e-01, -5.33192575e-01,\n",
       "        1.26071405e+00, -7.85385549e-01, -2.53172541e+00, -1.92484927e+00,\n",
       "        1.50812730e-01, -1.20537055e+00, -3.61267506e-04, -2.92720973e-01,\n",
       "       -1.40040100e-01,  3.86699215e-02, -1.35797888e-01,  7.80899167e-01,\n",
       "        1.65558740e-01,  1.42700851e-01,  1.06743932e+00, -7.61167258e-02,\n",
       "       -4.36345488e-01, -1.60766804e+00, -2.72269517e-01, -5.16542614e-01,\n",
       "        3.82894039e-01,  1.61691412e-01, -3.49347115e-01, -5.22068799e-01,\n",
       "       -2.28559285e-01, -1.36220384e+00, -5.95339835e-01,  2.36983433e-01,\n",
       "       -5.11239231e-01,  1.01049292e+00,  3.30725491e-01, -1.54105425e+00,\n",
       "        7.36257583e-02, -8.12315047e-01, -2.56762654e-01,  2.18225822e-01,\n",
       "       -1.86960176e-02,  1.48687348e-01, -1.38467863e-01, -2.66643345e-01,\n",
       "        5.01129985e-01,  5.96739948e-01,  1.00565255e+00, -9.41347480e-01,\n",
       "       -1.26954281e+00, -2.73863465e-01, -1.29483223e-01,  1.12794137e+00,\n",
       "       -1.66135776e+00,  1.44857609e+00, -2.97951579e-01, -1.99445367e+00,\n",
       "       -1.31861115e+00, -4.41035181e-01,  1.43648398e+00, -4.17628139e-02,\n",
       "        4.30833906e-01,  3.91683519e-01, -6.39600515e-01,  3.75131182e-02,\n",
       "        8.12338114e-01,  1.39173591e+00, -2.41787553e+00, -1.07810307e+00,\n",
       "       -3.12451959e-01,  3.99781942e-01,  3.48450243e-01,  1.94744959e-01,\n",
       "        7.58556649e-02, -6.87436998e-01, -1.42917067e-01,  1.57354248e+00,\n",
       "        4.08465773e-01,  1.38973498e+00, -1.43305409e+00, -7.73855895e-02,\n",
       "       -7.29523957e-01,  1.62030578e-01,  6.63989663e-01,  6.49209142e-01],\n",
       "      dtype=float32)"
      ]
     },
     "execution_count": 29,
     "metadata": {},
     "output_type": "execute_result"
    }
   ],
   "source": [
    "word2vec_model.wv['avot']"
   ]
  },
  {
   "cell_type": "code",
   "execution_count": 4,
   "metadata": {},
   "outputs": [],
   "source": [
    "from gensim.models.poincare import PoincareModel"
   ]
  },
  {
   "cell_type": "code",
   "execution_count": 5,
   "metadata": {},
   "outputs": [],
   "source": [
    "poincare_model=PoincareModel.load('/workspaces/master_thesis/results/puancare/model_100d')"
   ]
  },
  {
   "cell_type": "code",
   "execution_count": 33,
   "metadata": {},
   "outputs": [
    {
     "data": {
      "text/plain": [
       "0.4897928977141584"
      ]
     },
     "execution_count": 33,
     "metadata": {},
     "output_type": "execute_result"
    }
   ],
   "source": [
    "poincare_model.kv.similarity('Avot', 'Dijon')"
   ]
  },
  {
   "cell_type": "code",
   "execution_count": 30,
   "metadata": {},
   "outputs": [
    {
     "data": {
      "text/plain": [
       "array([-0.08389134,  0.1114864 ,  0.04217516,  0.00199859, -0.06328259,\n",
       "       -0.12383458, -0.08507348,  0.04255969, -0.01183353,  0.07332032,\n",
       "        0.08628249,  0.03848448,  0.00441259,  0.10029024, -0.01154187,\n",
       "        0.09438747, -0.11658436, -0.0210274 ,  0.01362469,  0.0400596 ,\n",
       "        0.07636972,  0.05898428, -0.1247623 ,  0.00367067,  0.00081765,\n",
       "       -0.13218013, -0.01032512,  0.01569635,  0.13048347,  0.01337907,\n",
       "        0.1610362 , -0.0037734 ,  0.00645836,  0.06069575, -0.09953769,\n",
       "       -0.04943236,  0.11499581,  0.14530608, -0.03261876, -0.06654171,\n",
       "        0.0399922 ,  0.02374402,  0.02754846,  0.04812787,  0.0143187 ,\n",
       "       -0.13611723,  0.08916763,  0.15677083, -0.20548391,  0.06973467,\n",
       "        0.0820266 , -0.07685656,  0.03028366, -0.08372852,  0.05180035,\n",
       "       -0.05596963,  0.26912282, -0.13039634, -0.05926144, -0.00028031,\n",
       "       -0.10776609, -0.11271653, -0.11675788, -0.18310407,  0.09373676,\n",
       "        0.0033668 ,  0.0655952 , -0.1281692 ,  0.11773567, -0.08402117,\n",
       "       -0.12228609,  0.02632623,  0.08598956,  0.03464184,  0.15617991,\n",
       "        0.02302549,  0.07874928, -0.03183749, -0.01338446,  0.16346868,\n",
       "        0.06119065,  0.11955476, -0.02609127, -0.05454264,  0.04822492,\n",
       "        0.01163839, -0.01089124,  0.05937673, -0.13605411,  0.01667991,\n",
       "       -0.03767466,  0.03780887,  0.18625206,  0.00520417, -0.07612497,\n",
       "        0.08390143, -0.05697413,  0.0272632 , -0.00895268, -0.00584221])"
      ]
     },
     "execution_count": 30,
     "metadata": {},
     "output_type": "execute_result"
    }
   ],
   "source": [
    "poincare_model.kv['Avot']"
   ]
  },
  {
   "cell_type": "code",
   "execution_count": 6,
   "metadata": {},
   "outputs": [],
   "source": [
    "import pandas as pd"
   ]
  },
  {
   "cell_type": "code",
   "execution_count": 9,
   "metadata": {},
   "outputs": [],
   "source": [
    "relationships=pd.read_csv('/workspaces/master_thesis/poincare/relationship_test.csv', delimiter='\\t')"
   ]
  },
  {
   "cell_type": "code",
   "execution_count": null,
   "metadata": {},
   "outputs": [],
   "source": [
    "Ivergny\tArras\n",
    "Avot\tDijon\n",
    "Chabrac\tConfolens\n",
    "Luchem\tLangerwehe"
   ]
  },
  {
   "cell_type": "code",
   "execution_count": 19,
   "metadata": {},
   "outputs": [],
   "source": [
    "from scipy.spatial.distance import cosine\n",
    "# Define a function to calculate cosine similarity\n",
    "def cosine_similarity(vec1, vec2):\n",
    "    return 1 - cosine(vec1, vec2)"
   ]
  },
  {
   "cell_type": "code",
   "execution_count": 22,
   "metadata": {},
   "outputs": [],
   "source": [
    "from sklearn.preprocessing import normalize\n",
    "import numpy as np\n",
    "# Define a function to normalize Poincare embeddings\n",
    "def normalize_poincare(poincare_vec):\n",
    "    norm = np.linalg.norm(poincare_vec)\n",
    "    return 2 * poincare_vec / (1 + norm**2)"
   ]
  },
  {
   "cell_type": "code",
   "execution_count": 31,
   "metadata": {},
   "outputs": [],
   "source": [
    "# Late fusion of Word2Vec and Poincare embeddings\n",
    "def fused_similarity(word1, word2, alpha=0.5):\n",
    "    # Get Word2Vec embeddings\n",
    "    word2vec_vec1 = word2vec_model.wv[word1]\n",
    "    word2vec_vec2 = word2vec_model.wv[word2]\n",
    "\n",
    "    # Get Poincare embeddings\n",
    "    poincare_vec1 = normalize_poincare(poincare_model.kv[word1])\n",
    "    poincare_vec2 = normalize_poincare(poincare_model.kv[word2])\n",
    "\n",
    "    # Calculate similarities\n",
    "    word2vec_similarity = cosine_similarity(word2vec_vec1, word2vec_vec2)\n",
    "    poincare_similarity = cosine_similarity(poincare_vec1, poincare_vec2)\n",
    "\n",
    "    # Fuse the similarities using a weighted average (alpha for Word2Vec, 1-alpha for Poincare)\n",
    "    fused_similarity = alpha * word2vec_similarity + (1 - alpha) * poincare_similarity\n",
    "\n",
    "    return fused_similarity"
   ]
  },
  {
   "cell_type": "code",
   "execution_count": null,
   "metadata": {},
   "outputs": [],
   "source": [
    "fused_similarity('avot', 'dijon')"
   ]
  },
  {
   "cell_type": "code",
   "execution_count": null,
   "metadata": {},
   "outputs": [],
   "source": []
  },
  {
   "cell_type": "code",
   "execution_count": null,
   "metadata": {},
   "outputs": [],
   "source": []
  },
  {
   "cell_type": "code",
   "execution_count": null,
   "metadata": {},
   "outputs": [],
   "source": [
    "import numpy as np\n",
    "from gensim.models import KeyedVectors\n",
    "from scipy.spatial.distance import cosine\n",
    "from sklearn.preprocessing import normalize\n",
    "\n",
    "# Load pre-trained Word2Vec embeddings\n",
    "word2vec_model = KeyedVectors.load_word2vec_format('word2vec_model.bin', binary=True)\n",
    "\n",
    "# Load pre-trained Poincare embeddings\n",
    "poincare_model = KeyedVectors.load('poincare_model.kv')\n",
    "\n",
    "# Define a function to calculate cosine similarity\n",
    "def cosine_similarity(vec1, vec2):\n",
    "    return 1 - cosine(vec1, vec2)\n",
    "\n",
    "# Define a function to normalize Poincare embeddings\n",
    "def normalize_poincare(poincare_vec):\n",
    "    norm = np.linalg.norm(poincare_vec)\n",
    "    return 2 * poincare_vec / (1 + norm**2)\n",
    "\n",
    "# Late fusion of Word2Vec and Poincare embeddings\n",
    "def fused_similarity(word1, word2, alpha=0.5):\n",
    "    # Get Word2Vec embeddings\n",
    "    word2vec_vec1 = word2vec_model[word1]\n",
    "    word2vec_vec2 = word2vec_model[word2]\n",
    "\n",
    "    # Get Poincare embeddings\n",
    "    poincare_vec1 = normalize_poincare(poincare_model[word1])\n",
    "    poincare_vec2 = normalize_poincare(poincare_model[word2])\n",
    "\n",
    "    # Calculate similarities\n",
    "    word2vec_similarity = cosine_similarity(word2vec_vec1, word2vec_vec2)\n",
    "    poincare_similarity = cosine_similarity(poincare_vec1, poincare_vec2)\n",
    "\n",
    "    # Fuse the similarities using a weighted average (alpha for Word2Vec, 1-alpha for Poincare)\n",
    "    fused_similarity = alpha * word2vec_similarity + (1 - alpha) * poincare_similarity\n",
    "\n",
    "    return fused_similarity\n",
    "\n",
    "# Example usage\n",
    "word1 = 'cat'\n",
    "word2 = 'dog'\n",
    "\n",
    "similarity = fused_similarity(word1, word2)\n",
    "print(f\"The fused similarity between '{word1}' and '{word2}' is: {similarity:.4f}\")\n"
   ]
  }
 ],
 "metadata": {
  "kernelspec": {
   "display_name": "base",
   "language": "python",
   "name": "python3"
  },
  "language_info": {
   "codemirror_mode": {
    "name": "ipython",
    "version": 3
   },
   "file_extension": ".py",
   "mimetype": "text/x-python",
   "name": "python",
   "nbconvert_exporter": "python",
   "pygments_lexer": "ipython3",
   "version": "3.9.13"
  },
  "orig_nbformat": 4
 },
 "nbformat": 4,
 "nbformat_minor": 2
}
