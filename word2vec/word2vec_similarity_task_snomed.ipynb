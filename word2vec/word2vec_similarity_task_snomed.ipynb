{
 "cells": [
  {
   "cell_type": "code",
   "execution_count": 1,
   "metadata": {},
   "outputs": [],
   "source": [
    "from gensim.models import KeyedVectors\n",
    "from gensim import models\n",
    "from gensim.models import Word2Vec"
   ]
  },
  {
   "cell_type": "code",
   "execution_count": 1,
   "metadata": {},
   "outputs": [],
   "source": [
    "import pandas as pd"
   ]
  },
  {
   "cell_type": "code",
   "execution_count": 3,
   "metadata": {},
   "outputs": [],
   "source": [
    "model = Word2Vec.load('/workspaces/master_thesis/word2vec/word2vec_window5.model')"
   ]
  },
  {
   "cell_type": "code",
   "execution_count": 5,
   "metadata": {},
   "outputs": [],
   "source": [
    "umnsrs_sim=pd.read_csv('/workspaces/master_thesis/UMNSRS_similarity_mod449_word2vec.csv')"
   ]
  },
  {
   "cell_type": "code",
   "execution_count": 6,
   "metadata": {},
   "outputs": [
    {
     "data": {
      "text/html": [
       "<div>\n",
       "<style scoped>\n",
       "    .dataframe tbody tr th:only-of-type {\n",
       "        vertical-align: middle;\n",
       "    }\n",
       "\n",
       "    .dataframe tbody tr th {\n",
       "        vertical-align: top;\n",
       "    }\n",
       "\n",
       "    .dataframe thead th {\n",
       "        text-align: right;\n",
       "    }\n",
       "</style>\n",
       "<table border=\"1\" class=\"dataframe\">\n",
       "  <thead>\n",
       "    <tr style=\"text-align: right;\">\n",
       "      <th></th>\n",
       "      <th>Mean</th>\n",
       "      <th>Stdev</th>\n",
       "      <th>Term1</th>\n",
       "      <th>Term2</th>\n",
       "      <th>CUI1</th>\n",
       "      <th>CUI2</th>\n",
       "    </tr>\n",
       "  </thead>\n",
       "  <tbody>\n",
       "    <tr>\n",
       "      <th>92</th>\n",
       "      <td>1299.25</td>\n",
       "      <td>179.174728</td>\n",
       "      <td>dehydration</td>\n",
       "      <td>dysentery</td>\n",
       "      <td>C0011175</td>\n",
       "      <td>C0013369</td>\n",
       "    </tr>\n",
       "    <tr>\n",
       "      <th>229</th>\n",
       "      <td>1417.25</td>\n",
       "      <td>19.085335</td>\n",
       "      <td>obesity</td>\n",
       "      <td>diabetes</td>\n",
       "      <td>C0028754</td>\n",
       "      <td>C0011847</td>\n",
       "    </tr>\n",
       "    <tr>\n",
       "      <th>384</th>\n",
       "      <td>1285.75</td>\n",
       "      <td>271.120361</td>\n",
       "      <td>fibrillation</td>\n",
       "      <td>thrombus</td>\n",
       "      <td>C0232197</td>\n",
       "      <td>C0087086</td>\n",
       "    </tr>\n",
       "    <tr>\n",
       "      <th>126</th>\n",
       "      <td>1247.00</td>\n",
       "      <td>138.074859</td>\n",
       "      <td>encephalitis</td>\n",
       "      <td>meningism</td>\n",
       "      <td>C0014038</td>\n",
       "      <td>C0025287</td>\n",
       "    </tr>\n",
       "    <tr>\n",
       "      <th>52</th>\n",
       "      <td>416.00</td>\n",
       "      <td>304.161141</td>\n",
       "      <td>atherosclerosis</td>\n",
       "      <td>influenzae</td>\n",
       "      <td>C0004153</td>\n",
       "      <td>C0021400</td>\n",
       "    </tr>\n",
       "  </tbody>\n",
       "</table>\n",
       "</div>"
      ],
      "text/plain": [
       "        Mean       Stdev            Term1       Term2      CUI1      CUI2\n",
       "92   1299.25  179.174728      dehydration   dysentery  C0011175  C0013369\n",
       "229  1417.25   19.085335          obesity    diabetes  C0028754  C0011847\n",
       "384  1285.75  271.120361     fibrillation    thrombus  C0232197  C0087086\n",
       "126  1247.00  138.074859     encephalitis   meningism  C0014038  C0025287\n",
       "52    416.00  304.161141  atherosclerosis  influenzae  C0004153  C0021400"
      ]
     },
     "execution_count": 6,
     "metadata": {},
     "output_type": "execute_result"
    }
   ],
   "source": [
    "umnsrs_sim.sample(5)"
   ]
  },
  {
   "cell_type": "code",
   "execution_count": 6,
   "metadata": {},
   "outputs": [],
   "source": [
    "from scipy.stats import spearmanr"
   ]
  },
  {
   "cell_type": "code",
   "execution_count": 7,
   "metadata": {},
   "outputs": [],
   "source": [
    "human_scores=[]\n",
    "model_scores=[]"
   ]
  },
  {
   "cell_type": "code",
   "execution_count": 8,
   "metadata": {},
   "outputs": [],
   "source": [
    "for i in range(umnsrs_sim.shape[0]):\n",
    "    try:\n",
    "        model_score=model.wv.similarity(umnsrs_sim['Term1'][i], umnsrs_sim['Term2'][i])\n",
    "    except: \n",
    "        model_score=0\n",
    "    human_scores.append(umnsrs_sim['Mean'][i])\n",
    "    model_scores.append(model_score)\n",
    "    "
   ]
  },
  {
   "cell_type": "code",
   "execution_count": 9,
   "metadata": {},
   "outputs": [],
   "source": [
    "correlation_sim, _ = spearmanr(human_scores, model_scores)"
   ]
  },
  {
   "cell_type": "code",
   "execution_count": 10,
   "metadata": {},
   "outputs": [
    {
     "data": {
      "text/plain": [
       "0.1731687044673062"
      ]
     },
     "execution_count": 10,
     "metadata": {},
     "output_type": "execute_result"
    }
   ],
   "source": [
    "correlation_sim"
   ]
  },
  {
   "cell_type": "code",
   "execution_count": 7,
   "metadata": {},
   "outputs": [],
   "source": [
    "umnsrs_rel=pd.read_csv('/workspaces/master_thesis/UMNSRS_relatedness_mod458_word2vec.csv')"
   ]
  },
  {
   "cell_type": "code",
   "execution_count": 9,
   "metadata": {},
   "outputs": [
    {
     "data": {
      "text/html": [
       "<div>\n",
       "<style scoped>\n",
       "    .dataframe tbody tr th:only-of-type {\n",
       "        vertical-align: middle;\n",
       "    }\n",
       "\n",
       "    .dataframe tbody tr th {\n",
       "        vertical-align: top;\n",
       "    }\n",
       "\n",
       "    .dataframe thead th {\n",
       "        text-align: right;\n",
       "    }\n",
       "</style>\n",
       "<table border=\"1\" class=\"dataframe\">\n",
       "  <thead>\n",
       "    <tr style=\"text-align: right;\">\n",
       "      <th></th>\n",
       "      <th>Mean</th>\n",
       "      <th>Stdev</th>\n",
       "      <th>Term1</th>\n",
       "      <th>Term2</th>\n",
       "      <th>CUI1</th>\n",
       "      <th>CUI2</th>\n",
       "    </tr>\n",
       "  </thead>\n",
       "  <tbody>\n",
       "    <tr>\n",
       "      <th>372</th>\n",
       "      <td>704.75</td>\n",
       "      <td>449.447346</td>\n",
       "      <td>ketonuria</td>\n",
       "      <td>chyluria</td>\n",
       "      <td>C0162275</td>\n",
       "      <td>C0159075</td>\n",
       "    </tr>\n",
       "    <tr>\n",
       "      <th>386</th>\n",
       "      <td>1249.00</td>\n",
       "      <td>295.460093</td>\n",
       "      <td>thirsty</td>\n",
       "      <td>hunger</td>\n",
       "      <td>C0232471</td>\n",
       "      <td>C0020175</td>\n",
       "    </tr>\n",
       "    <tr>\n",
       "      <th>134</th>\n",
       "      <td>818.50</td>\n",
       "      <td>311.309599</td>\n",
       "      <td>epilepsy</td>\n",
       "      <td>actonel</td>\n",
       "      <td>C0014544</td>\n",
       "      <td>C0246719</td>\n",
       "    </tr>\n",
       "    <tr>\n",
       "      <th>142</th>\n",
       "      <td>959.50</td>\n",
       "      <td>460.343712</td>\n",
       "      <td>flumazenil</td>\n",
       "      <td>valium</td>\n",
       "      <td>C0016293</td>\n",
       "      <td>C0012010</td>\n",
       "    </tr>\n",
       "    <tr>\n",
       "      <th>211</th>\n",
       "      <td>742.00</td>\n",
       "      <td>431.274854</td>\n",
       "      <td>metatarsalgia</td>\n",
       "      <td>colchicine</td>\n",
       "      <td>C0025587</td>\n",
       "      <td>C0009262</td>\n",
       "    </tr>\n",
       "  </tbody>\n",
       "</table>\n",
       "</div>"
      ],
      "text/plain": [
       "        Mean       Stdev          Term1       Term2      CUI1      CUI2\n",
       "372   704.75  449.447346      ketonuria    chyluria  C0162275  C0159075\n",
       "386  1249.00  295.460093        thirsty      hunger  C0232471  C0020175\n",
       "134   818.50  311.309599       epilepsy     actonel  C0014544  C0246719\n",
       "142   959.50  460.343712     flumazenil      valium  C0016293  C0012010\n",
       "211   742.00  431.274854  metatarsalgia  colchicine  C0025587  C0009262"
      ]
     },
     "execution_count": 9,
     "metadata": {},
     "output_type": "execute_result"
    }
   ],
   "source": [
    "umnsrs_rel.sample(5)"
   ]
  },
  {
   "cell_type": "code",
   "execution_count": null,
   "metadata": {},
   "outputs": [],
   "source": []
  },
  {
   "cell_type": "code",
   "execution_count": 12,
   "metadata": {},
   "outputs": [],
   "source": [
    "human_scores=[]\n",
    "model_scores=[]"
   ]
  },
  {
   "cell_type": "code",
   "execution_count": 13,
   "metadata": {},
   "outputs": [],
   "source": [
    "for i in range(umnsrs_rel.shape[0]):\n",
    "    try:\n",
    "        model_score=model.wv.similarity(umnsrs_rel['Term1'][i], umnsrs_rel['Term2'][i])\n",
    "    except: \n",
    "        model_score=0\n",
    "    human_scores.append(umnsrs_rel['Mean'][i])\n",
    "    model_scores.append(model_score)"
   ]
  },
  {
   "cell_type": "code",
   "execution_count": 14,
   "metadata": {},
   "outputs": [],
   "source": [
    "correlation_rel, _ = spearmanr(human_scores, model_scores)"
   ]
  },
  {
   "cell_type": "code",
   "execution_count": 15,
   "metadata": {},
   "outputs": [
    {
     "data": {
      "text/plain": [
       "0.22439186547357828"
      ]
     },
     "execution_count": 15,
     "metadata": {},
     "output_type": "execute_result"
    }
   ],
   "source": [
    "correlation_rel"
   ]
  },
  {
   "cell_type": "code",
   "execution_count": 16,
   "metadata": {},
   "outputs": [],
   "source": [
    "from scipy.stats import pearsonr"
   ]
  },
  {
   "cell_type": "code",
   "execution_count": 17,
   "metadata": {},
   "outputs": [],
   "source": [
    "pearson_score, _ = pearsonr(human_scores, model_scores)"
   ]
  },
  {
   "cell_type": "code",
   "execution_count": 18,
   "metadata": {},
   "outputs": [
    {
     "data": {
      "text/plain": [
       "0.22208560583562048"
      ]
     },
     "execution_count": 18,
     "metadata": {},
     "output_type": "execute_result"
    }
   ],
   "source": [
    "pearson_score"
   ]
  }
 ],
 "metadata": {
  "kernelspec": {
   "display_name": "Python 3",
   "language": "python",
   "name": "python3"
  },
  "language_info": {
   "codemirror_mode": {
    "name": "ipython",
    "version": 3
   },
   "file_extension": ".py",
   "mimetype": "text/x-python",
   "name": "python",
   "nbconvert_exporter": "python",
   "pygments_lexer": "ipython3",
   "version": "3.9.13"
  },
  "orig_nbformat": 4
 },
 "nbformat": 4,
 "nbformat_minor": 2
}
