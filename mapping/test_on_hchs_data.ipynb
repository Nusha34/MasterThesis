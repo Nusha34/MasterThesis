{
 "cells": [
  {
   "cell_type": "code",
   "execution_count": 1,
   "metadata": {},
   "outputs": [],
   "source": [
    "test_data=[\n",
    "'What artery was this detected at?'\n",
    ",'Atrioventricular block'\n",
    ",'Atrioventricular block degree'\n",
    ",'Are you aware of a coronary heart disease diagnosed by your doctor?'\n",
    ",'Has a cardioversion already been performed on you?'\n",
    ",'Congenital heart disease'\n",
    ",'Was contrast agent used for cardio magnetic resonance imaging?'\n",
    ",'Have you been in control echocardiography for the last 12 months?'\n",
    ",'Have you ever been diagnosed with atrial fibrillation by a doctor?'\n",
    ",'Have you ever been diagnosed with deep vein thrombosis by a doctor?'\n",
    ",'Have you ever been diagnosed by a doctor with a sagging of another artery (aneurysm)?'\n",
    ",'Have you ever been diagnosed by a doctor with window disease or blood circulation disorder in your legs, also called Claudicatio or arterial disease?'\n",
    ",'Have you ever been diagnosed with a heart attack by a doctor?'\n",
    ",'Have you ever been diagnosed with \"open legs\" by a doctor or an Ulcus cruris?'\n",
    ",'Is a mobile electrocardiogram issued?'\n",
    ",'How old were you when the diagnosis of atrial fibrillation was made?'\n",
    ",'Do you have pain in one or both legs while walking?'\n",
    ",'Riva-Rocci systolic before examination'\n",
    ",'Sclerosis of the mitral valve']"
   ]
  },
  {
   "cell_type": "code",
   "execution_count": 2,
   "metadata": {},
   "outputs": [],
   "source": [
    "import spacy\n",
    "import pandas as pd\n",
    "import numpy as np\n",
    "nlp = spacy.load(\"en_core_web_sm\")"
   ]
  },
  {
   "cell_type": "code",
   "execution_count": 3,
   "metadata": {},
   "outputs": [],
   "source": [
    "def preprocessing_without_stemming(sample):\n",
    "    if isinstance(sample, str):\n",
    "        sample = sample.lower()\n",
    "        token_list = []\n",
    "        doc = nlp(sample)\n",
    "        token_list = [token.text\n",
    "            for token in doc\n",
    "                if not token.is_stop and not token.is_punct\n",
    "            ]\n",
    "        sentence = \" \".join(token_list)\n",
    "        return sentence\n",
    "    else:\n",
    "        print(f\"Invalid input {sample}: expected a string.\")\n",
    "        return None"
   ]
  },
  {
   "cell_type": "code",
   "execution_count": 4,
   "metadata": {},
   "outputs": [],
   "source": [
    "#preprocessing of the data -> remove punctuation, stopwords, lowercase\n",
    "test_data = [preprocessing_without_stemming(x) for x in test_data]"
   ]
  },
  {
   "attachments": {},
   "cell_type": "markdown",
   "metadata": {},
   "source": [
    "## Initialise model BiLSTM"
   ]
  },
  {
   "cell_type": "code",
   "execution_count": 31,
   "metadata": {},
   "outputs": [],
   "source": [
    "import torch.nn as nn\n",
    "import torch\n",
    "\n",
    "class BiLSTM(nn.Module):\n",
    "    def __init__(self, input_size, hidden_size, output_size):\n",
    "        super(BiLSTM, self).__init__()\n",
    "        self.hidden_size = hidden_size\n",
    "        self.lstm = nn.LSTM(input_size, hidden_size, batch_first=True, bidirectional=True)\n",
    "        self.fc = nn.Linear(hidden_size * 2, output_size)  # 2 for bidirection\n",
    "\n",
    "    def forward(self, x):\n",
    "        # Reshape the input to (batch_size, seq_len, features)\n",
    "        x = x.view(x.size(0), 20, 300)\n",
    "\n",
    "        # Forward propagate LSTM\n",
    "        out, _ = self.lstm(x)  # out: tensor of shape (batch_size, seq_length, hidden_size*2)\n",
    "\n",
    "        # Decode the hidden state of the last time step\n",
    "        out = self.fc(out[:, -1, :])\n",
    "        return out"
   ]
  },
  {
   "cell_type": "code",
   "execution_count": 32,
   "metadata": {},
   "outputs": [],
   "source": [
    "model = BiLSTM(input_size=300, hidden_size=300, output_size=100)\n",
    "criterion = nn.MSELoss()\n",
    "optimizer = torch.optim.Adam(model.parameters())"
   ]
  },
  {
   "cell_type": "code",
   "execution_count": 33,
   "metadata": {},
   "outputs": [
    {
     "data": {
      "text/plain": [
       "BiLSTM(\n",
       "  (lstm): LSTM(300, 300, batch_first=True, bidirectional=True)\n",
       "  (fc): Linear(in_features=600, out_features=100, bias=True)\n",
       ")"
      ]
     },
     "execution_count": 33,
     "metadata": {},
     "output_type": "execute_result"
    }
   ],
   "source": [
    "#model.load_state_dict(torch.load('/workspaces/master_thesis/model_50epochs_conceptid.ckpt'))\n",
    "model.load_state_dict(torch.load('/workspaces/master_thesis/model_50epochs_conceptid_deepwalk.ckpt'))\n",
    "#device\n",
    "device = torch.device('cuda' if torch.cuda.is_available() else 'cpu')\n",
    "model.eval() "
   ]
  },
  {
   "cell_type": "code",
   "execution_count": 34,
   "metadata": {},
   "outputs": [],
   "source": [
    "from gensim.models import Word2Vec\n",
    "from gensim.models.poincare import PoincareModel\n",
    "w2v_model = Word2Vec.load(\"/workspaces/master_thesis/word2vec_pubmed.model\")\n",
    "#poincare_model = PoincareModel.load('/workspaces/master_thesis/poincare_100d_concept_id')\n",
    "deepwalk_model = Word2Vec.load(\"/workspaces/master_thesis/deepwalk_snomed.model\")"
   ]
  },
  {
   "cell_type": "code",
   "execution_count": 35,
   "metadata": {},
   "outputs": [],
   "source": [
    "def get_phrase_vector(phrase, model, max_len):\n",
    "    words = str(phrase).split()\n",
    "    phrase_vector = np.zeros((max_len, model.vector_size))\n",
    "    for i in range(max_len):\n",
    "        if i < len(words) and words[i] in model.wv:\n",
    "            phrase_vector[i] = model.wv[words[i]]\n",
    "    phrase_vector = phrase_vector.flatten()\n",
    "    \n",
    "    return torch.tensor(phrase_vector, dtype=torch.float)"
   ]
  },
  {
   "cell_type": "code",
   "execution_count": 36,
   "metadata": {},
   "outputs": [
    {
     "name": "stderr",
     "output_type": "stream",
     "text": [
      "/tmp/ipykernel_1024392/1399977619.py:1: DtypeWarning: Columns (6,9) have mixed types. Specify dtype option on import or set low_memory=False.\n",
      "  df_concept=pd.read_csv('/workspaces/master_thesis/CONCEPT.csv', on_bad_lines='skip', sep='\\t')\n"
     ]
    }
   ],
   "source": [
    "df_concept=pd.read_csv('/workspaces/master_thesis/CONCEPT.csv', on_bad_lines='skip', sep='\\t')"
   ]
  },
  {
   "cell_type": "code",
   "execution_count": 37,
   "metadata": {},
   "outputs": [],
   "source": [
    "df_overall_results = pd.DataFrame()\n",
    "for n in test_data:\n",
    "    x=get_phrase_vector(n, w2v_model, 20)\n",
    "    x=x.unsqueeze(0)\n",
    "    output = model(x)\n",
    "    #result=poincare_model.kv.most_similar(output.detach().numpy(), topn=5)\n",
    "    result = deepwalk_model.wv.most_similar([output.detach().numpy()[0]], topn=5)\n",
    "    for i in range(len(result)):\n",
    "    #concatenate dataframes with results \n",
    "        if i == 0:\n",
    "            #df_result = df_concept[df_concept['concept_id'] == result[i][0]]\n",
    "            df_result = df_concept[df_concept['concept_id'] == int(result[i][0])]\n",
    "        else:\n",
    "            #df_result = pd.concat([df_result, df_concept[df_concept['concept_id'] == result[i][0]]])\n",
    "            df_result = pd.concat([df_result, df_concept[df_concept['concept_id'] == int(result[i][0])]])\n",
    "    df_result['sourcename']=[n] * 5\n",
    "    df_overall_results = pd.concat([df_overall_results, df_result[['sourcename','concept_id', 'concept_name', 'domain_id']]])\n",
    "    "
   ]
  },
  {
   "cell_type": "code",
   "execution_count": 38,
   "metadata": {},
   "outputs": [
    {
     "data": {
      "text/html": [
       "<div>\n",
       "<style scoped>\n",
       "    .dataframe tbody tr th:only-of-type {\n",
       "        vertical-align: middle;\n",
       "    }\n",
       "\n",
       "    .dataframe tbody tr th {\n",
       "        vertical-align: top;\n",
       "    }\n",
       "\n",
       "    .dataframe thead th {\n",
       "        text-align: right;\n",
       "    }\n",
       "</style>\n",
       "<table border=\"1\" class=\"dataframe\">\n",
       "  <thead>\n",
       "    <tr style=\"text-align: right;\">\n",
       "      <th></th>\n",
       "      <th>sourcename</th>\n",
       "      <th>concept_id</th>\n",
       "      <th>concept_name</th>\n",
       "      <th>domain_id</th>\n",
       "    </tr>\n",
       "  </thead>\n",
       "  <tbody>\n",
       "    <tr>\n",
       "      <th>723234</th>\n",
       "      <td>artery detected</td>\n",
       "      <td>4114166</td>\n",
       "      <td>Systemic arterial finding</td>\n",
       "      <td>Condition</td>\n",
       "    </tr>\n",
       "    <tr>\n",
       "      <th>601086</th>\n",
       "      <td>artery detected</td>\n",
       "      <td>4095634</td>\n",
       "      <td>Venous finding</td>\n",
       "      <td>Condition</td>\n",
       "    </tr>\n",
       "    <tr>\n",
       "      <th>601065</th>\n",
       "      <td>artery detected</td>\n",
       "      <td>4095631</td>\n",
       "      <td>Arterial finding</td>\n",
       "      <td>Condition</td>\n",
       "    </tr>\n",
       "    <tr>\n",
       "      <th>967068</th>\n",
       "      <td>artery detected</td>\n",
       "      <td>40484044</td>\n",
       "      <td>Surgically constructed radioulnar arteriovenou...</td>\n",
       "      <td>Condition</td>\n",
       "    </tr>\n",
       "    <tr>\n",
       "      <th>962922</th>\n",
       "      <td>artery detected</td>\n",
       "      <td>4207595</td>\n",
       "      <td>Surgically constructed ulnar to cephalic arter...</td>\n",
       "      <td>Condition</td>\n",
       "    </tr>\n",
       "    <tr>\n",
       "      <th>...</th>\n",
       "      <td>...</td>\n",
       "      <td>...</td>\n",
       "      <td>...</td>\n",
       "      <td>...</td>\n",
       "    </tr>\n",
       "    <tr>\n",
       "      <th>848706</th>\n",
       "      <td>sclerosis mitral valve</td>\n",
       "      <td>4281749</td>\n",
       "      <td>Heart valve disorder</td>\n",
       "      <td>Condition</td>\n",
       "    </tr>\n",
       "    <tr>\n",
       "      <th>282915</th>\n",
       "      <td>sclerosis mitral valve</td>\n",
       "      <td>319843</td>\n",
       "      <td>Mitral valve disorder</td>\n",
       "      <td>Condition</td>\n",
       "    </tr>\n",
       "    <tr>\n",
       "      <th>914279</th>\n",
       "      <td>sclerosis mitral valve</td>\n",
       "      <td>4230774</td>\n",
       "      <td>Heart valve regurgitation</td>\n",
       "      <td>Condition</td>\n",
       "    </tr>\n",
       "    <tr>\n",
       "      <th>976328</th>\n",
       "      <td>sclerosis mitral valve</td>\n",
       "      <td>40491478</td>\n",
       "      <td>Abnormality of aortic valve</td>\n",
       "      <td>Condition</td>\n",
       "    </tr>\n",
       "    <tr>\n",
       "      <th>659653</th>\n",
       "      <td>sclerosis mitral valve</td>\n",
       "      <td>4158911</td>\n",
       "      <td>Non-rheumatic heart valve disorder</td>\n",
       "      <td>Condition</td>\n",
       "    </tr>\n",
       "  </tbody>\n",
       "</table>\n",
       "<p>95 rows × 4 columns</p>\n",
       "</div>"
      ],
      "text/plain": [
       "                    sourcename  concept_id   \n",
       "723234         artery detected     4114166  \\\n",
       "601086         artery detected     4095634   \n",
       "601065         artery detected     4095631   \n",
       "967068         artery detected    40484044   \n",
       "962922         artery detected     4207595   \n",
       "...                        ...         ...   \n",
       "848706  sclerosis mitral valve     4281749   \n",
       "282915  sclerosis mitral valve      319843   \n",
       "914279  sclerosis mitral valve     4230774   \n",
       "976328  sclerosis mitral valve    40491478   \n",
       "659653  sclerosis mitral valve     4158911   \n",
       "\n",
       "                                             concept_name  domain_id  \n",
       "723234                          Systemic arterial finding  Condition  \n",
       "601086                                     Venous finding  Condition  \n",
       "601065                                   Arterial finding  Condition  \n",
       "967068  Surgically constructed radioulnar arteriovenou...  Condition  \n",
       "962922  Surgically constructed ulnar to cephalic arter...  Condition  \n",
       "...                                                   ...        ...  \n",
       "848706                               Heart valve disorder  Condition  \n",
       "282915                              Mitral valve disorder  Condition  \n",
       "914279                          Heart valve regurgitation  Condition  \n",
       "976328                        Abnormality of aortic valve  Condition  \n",
       "659653                 Non-rheumatic heart valve disorder  Condition  \n",
       "\n",
       "[95 rows x 4 columns]"
      ]
     },
     "execution_count": 38,
     "metadata": {},
     "output_type": "execute_result"
    }
   ],
   "source": [
    "df_overall_results"
   ]
  },
  {
   "cell_type": "code",
   "execution_count": 39,
   "metadata": {},
   "outputs": [],
   "source": [
    "#to excel\n",
    "df_overall_results.to_excel('/workspaces/master_thesis/results_deepwalk_bilstm_0206.xlsx')"
   ]
  },
  {
   "cell_type": "code",
   "execution_count": 26,
   "metadata": {},
   "outputs": [
    {
     "name": "stdout",
     "output_type": "stream",
     "text": [
      "Collecting openpyxl\n",
      "  Downloading openpyxl-3.1.2-py2.py3-none-any.whl (249 kB)\n",
      "\u001b[2K     \u001b[90m━━━━━━━━━━━━━━━━━━━━━━━━━━━━━━━━━━━━━━━\u001b[0m \u001b[32m250.0/250.0 kB\u001b[0m \u001b[31m3.0 MB/s\u001b[0m eta \u001b[36m0:00:00\u001b[0ma \u001b[36m0:00:01\u001b[0m\n",
      "\u001b[?25hCollecting et-xmlfile (from openpyxl)\n",
      "  Downloading et_xmlfile-1.1.0-py3-none-any.whl (4.7 kB)\n",
      "Installing collected packages: et-xmlfile, openpyxl\n",
      "Successfully installed et-xmlfile-1.1.0 openpyxl-3.1.2\n",
      "Note: you may need to restart the kernel to use updated packages.\n"
     ]
    }
   ],
   "source": [
    "pip install openpyxl"
   ]
  }
 ],
 "metadata": {
  "kernelspec": {
   "display_name": "base",
   "language": "python",
   "name": "python3"
  },
  "language_info": {
   "codemirror_mode": {
    "name": "ipython",
    "version": 3
   },
   "file_extension": ".py",
   "mimetype": "text/x-python",
   "name": "python",
   "nbconvert_exporter": "python",
   "pygments_lexer": "ipython3",
   "version": "3.10.10"
  },
  "orig_nbformat": 4
 },
 "nbformat": 4,
 "nbformat_minor": 2
}
