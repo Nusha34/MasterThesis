{
 "cells": [
  {
   "cell_type": "code",
   "execution_count": 63,
   "metadata": {},
   "outputs": [
    {
     "name": "stderr",
     "output_type": "stream",
     "text": [
      "/tmp/ipykernel_3741181/1727553608.py:4: DtypeWarning: Columns (6,9) have mixed types. Specify dtype option on import or set low_memory=False.\n",
      "  concepts_df = pd.read_csv('/workspaces/master_thesis/CONCEPT.csv', on_bad_lines='skip', sep='\\t')\n"
     ]
    }
   ],
   "source": [
    "import pandas as pd\n",
    "\n",
    "# Load the csv files\n",
    "concepts_df = pd.read_csv('/workspaces/master_thesis/CONCEPT.csv', on_bad_lines='skip', sep='\\t')\n",
    "concept_synonyms_df = pd.read_csv('/workspaces/master_thesis/CONCEPT_SYNONYM.csv', on_bad_lines='skip', sep='\\t')\n"
   ]
  },
  {
   "cell_type": "code",
   "execution_count": 64,
   "metadata": {},
   "outputs": [
    {
     "data": {
      "text/html": [
       "<div>\n",
       "<style scoped>\n",
       "    .dataframe tbody tr th:only-of-type {\n",
       "        vertical-align: middle;\n",
       "    }\n",
       "\n",
       "    .dataframe tbody tr th {\n",
       "        vertical-align: top;\n",
       "    }\n",
       "\n",
       "    .dataframe thead th {\n",
       "        text-align: right;\n",
       "    }\n",
       "</style>\n",
       "<table border=\"1\" class=\"dataframe\">\n",
       "  <thead>\n",
       "    <tr style=\"text-align: right;\">\n",
       "      <th></th>\n",
       "      <th>concept_id</th>\n",
       "      <th>concept_name</th>\n",
       "      <th>domain_id</th>\n",
       "      <th>vocabulary_id</th>\n",
       "      <th>concept_class_id</th>\n",
       "      <th>standard_concept</th>\n",
       "      <th>concept_code</th>\n",
       "      <th>valid_start_date</th>\n",
       "      <th>valid_end_date</th>\n",
       "      <th>invalid_reason</th>\n",
       "    </tr>\n",
       "  </thead>\n",
       "  <tbody>\n",
       "    <tr>\n",
       "      <th>0</th>\n",
       "      <td>1146945</td>\n",
       "      <td>concept.concept_id</td>\n",
       "      <td>Metadata</td>\n",
       "      <td>CDM</td>\n",
       "      <td>Field</td>\n",
       "      <td>S</td>\n",
       "      <td>CDM1</td>\n",
       "      <td>20141111</td>\n",
       "      <td>20991231</td>\n",
       "      <td>NaN</td>\n",
       "    </tr>\n",
       "    <tr>\n",
       "      <th>1</th>\n",
       "      <td>1146954</td>\n",
       "      <td>concept.invalid_reason</td>\n",
       "      <td>Metadata</td>\n",
       "      <td>CDM</td>\n",
       "      <td>Field</td>\n",
       "      <td>S</td>\n",
       "      <td>CDM10</td>\n",
       "      <td>20141111</td>\n",
       "      <td>20991231</td>\n",
       "      <td>NaN</td>\n",
       "    </tr>\n",
       "    <tr>\n",
       "      <th>2</th>\n",
       "      <td>1147044</td>\n",
       "      <td>observation_period.observation_period_id</td>\n",
       "      <td>Metadata</td>\n",
       "      <td>CDM</td>\n",
       "      <td>Field</td>\n",
       "      <td>S</td>\n",
       "      <td>CDM100</td>\n",
       "      <td>20141111</td>\n",
       "      <td>20991231</td>\n",
       "      <td>NaN</td>\n",
       "    </tr>\n",
       "    <tr>\n",
       "      <th>3</th>\n",
       "      <td>756315</td>\n",
       "      <td>metadata.metadata_type_concept_id</td>\n",
       "      <td>Metadata</td>\n",
       "      <td>CDM</td>\n",
       "      <td>Field</td>\n",
       "      <td>S</td>\n",
       "      <td>CDM1000</td>\n",
       "      <td>20210925</td>\n",
       "      <td>20991231</td>\n",
       "      <td>NaN</td>\n",
       "    </tr>\n",
       "    <tr>\n",
       "      <th>4</th>\n",
       "      <td>756316</td>\n",
       "      <td>metadata.name</td>\n",
       "      <td>Metadata</td>\n",
       "      <td>CDM</td>\n",
       "      <td>Field</td>\n",
       "      <td>S</td>\n",
       "      <td>CDM1001</td>\n",
       "      <td>20210925</td>\n",
       "      <td>20991231</td>\n",
       "      <td>NaN</td>\n",
       "    </tr>\n",
       "  </tbody>\n",
       "</table>\n",
       "</div>"
      ],
      "text/plain": [
       "   concept_id                              concept_name domain_id  \\\n",
       "0     1146945                        concept.concept_id  Metadata   \n",
       "1     1146954                    concept.invalid_reason  Metadata   \n",
       "2     1147044  observation_period.observation_period_id  Metadata   \n",
       "3      756315         metadata.metadata_type_concept_id  Metadata   \n",
       "4      756316                             metadata.name  Metadata   \n",
       "\n",
       "  vocabulary_id concept_class_id standard_concept concept_code  \\\n",
       "0           CDM            Field                S         CDM1   \n",
       "1           CDM            Field                S        CDM10   \n",
       "2           CDM            Field                S       CDM100   \n",
       "3           CDM            Field                S      CDM1000   \n",
       "4           CDM            Field                S      CDM1001   \n",
       "\n",
       "   valid_start_date  valid_end_date invalid_reason  \n",
       "0          20141111        20991231            NaN  \n",
       "1          20141111        20991231            NaN  \n",
       "2          20141111        20991231            NaN  \n",
       "3          20210925        20991231            NaN  \n",
       "4          20210925        20991231            NaN  "
      ]
     },
     "execution_count": 64,
     "metadata": {},
     "output_type": "execute_result"
    }
   ],
   "source": [
    "concepts_df.head()"
   ]
  },
  {
   "cell_type": "code",
   "execution_count": 65,
   "metadata": {},
   "outputs": [
    {
     "data": {
      "text/plain": [
       "(1242840, 10)"
      ]
     },
     "execution_count": 65,
     "metadata": {},
     "output_type": "execute_result"
    }
   ],
   "source": [
    "concepts_df.shape"
   ]
  },
  {
   "cell_type": "code",
   "execution_count": 66,
   "metadata": {},
   "outputs": [],
   "source": [
    "# Assuming your SNOMED dataframe is named as snomed_df\n",
    "concepts_df = concepts_df.loc[concepts_df['domain_id'] != 'Metadata']"
   ]
  },
  {
   "cell_type": "code",
   "execution_count": 67,
   "metadata": {},
   "outputs": [
    {
     "data": {
      "text/plain": [
       "(1238453, 10)"
      ]
     },
     "execution_count": 67,
     "metadata": {},
     "output_type": "execute_result"
    }
   ],
   "source": [
    "concepts_df.shape"
   ]
  },
  {
   "cell_type": "code",
   "execution_count": 69,
   "metadata": {},
   "outputs": [],
   "source": [
    "# Define the list of medical terminology domains\n",
    "medical_domains = ['Condition', 'Drug', 'Measurement', 'Procedure', 'Observation']\n",
    "\n",
    "# Filter the DataFrame\n",
    "concepts_df = concepts_df[concepts_df['domain_id'].isin(medical_domains)]"
   ]
  },
  {
   "cell_type": "code",
   "execution_count": 70,
   "metadata": {},
   "outputs": [
    {
     "data": {
      "text/plain": [
       "array(['Drug', 'Condition', 'Measurement', 'Observation', 'Procedure'],\n",
       "      dtype=object)"
      ]
     },
     "execution_count": 70,
     "metadata": {},
     "output_type": "execute_result"
    }
   ],
   "source": [
    "concepts_df.domain_id.unique()"
   ]
  },
  {
   "cell_type": "code",
   "execution_count": 71,
   "metadata": {},
   "outputs": [
    {
     "data": {
      "text/html": [
       "<div>\n",
       "<style scoped>\n",
       "    .dataframe tbody tr th:only-of-type {\n",
       "        vertical-align: middle;\n",
       "    }\n",
       "\n",
       "    .dataframe tbody tr th {\n",
       "        vertical-align: top;\n",
       "    }\n",
       "\n",
       "    .dataframe thead th {\n",
       "        text-align: right;\n",
       "    }\n",
       "</style>\n",
       "<table border=\"1\" class=\"dataframe\">\n",
       "  <thead>\n",
       "    <tr style=\"text-align: right;\">\n",
       "      <th></th>\n",
       "      <th>concept_id</th>\n",
       "      <th>concept_synonym_name</th>\n",
       "      <th>language_concept_id</th>\n",
       "    </tr>\n",
       "  </thead>\n",
       "  <tbody>\n",
       "    <tr>\n",
       "      <th>0</th>\n",
       "      <td>36674183</td>\n",
       "      <td>Goal Attainment Scaling-Light score</td>\n",
       "      <td>4180186</td>\n",
       "    </tr>\n",
       "    <tr>\n",
       "      <th>1</th>\n",
       "      <td>36674183</td>\n",
       "      <td>Goal Attainment Scaling-Light score (observabl...</td>\n",
       "      <td>4180186</td>\n",
       "    </tr>\n",
       "    <tr>\n",
       "      <th>2</th>\n",
       "      <td>36674184</td>\n",
       "      <td>Assessment using Goal Attainment Scaling-Light</td>\n",
       "      <td>4180186</td>\n",
       "    </tr>\n",
       "    <tr>\n",
       "      <th>3</th>\n",
       "      <td>36674184</td>\n",
       "      <td>Assessment using Goal Attainment Scaling-Light...</td>\n",
       "      <td>4180186</td>\n",
       "    </tr>\n",
       "    <tr>\n",
       "      <th>4</th>\n",
       "      <td>36674185</td>\n",
       "      <td>Burn of eye proper (disorder)</td>\n",
       "      <td>4180186</td>\n",
       "    </tr>\n",
       "  </tbody>\n",
       "</table>\n",
       "</div>"
      ],
      "text/plain": [
       "   concept_id                               concept_synonym_name  \\\n",
       "0    36674183                Goal Attainment Scaling-Light score   \n",
       "1    36674183  Goal Attainment Scaling-Light score (observabl...   \n",
       "2    36674184     Assessment using Goal Attainment Scaling-Light   \n",
       "3    36674184  Assessment using Goal Attainment Scaling-Light...   \n",
       "4    36674185                      Burn of eye proper (disorder)   \n",
       "\n",
       "   language_concept_id  \n",
       "0              4180186  \n",
       "1              4180186  \n",
       "2              4180186  \n",
       "3              4180186  \n",
       "4              4180186  "
      ]
     },
     "execution_count": 71,
     "metadata": {},
     "output_type": "execute_result"
    }
   ],
   "source": [
    "concept_synonyms_df.head()"
   ]
  },
  {
   "cell_type": "code",
   "execution_count": 72,
   "metadata": {},
   "outputs": [
    {
     "data": {
      "text/plain": [
       "array([4180186, 4182503, 4181536, 4180190, 4182948, 4180183, 4182504,\n",
       "       4181374, 4180047, 4182507, 4181524, 4175771, 4182511, 4175777])"
      ]
     },
     "execution_count": 72,
     "metadata": {},
     "output_type": "execute_result"
    }
   ],
   "source": [
    "concept_synonyms_df.language_concept_id.unique()"
   ]
  },
  {
   "cell_type": "code",
   "execution_count": 73,
   "metadata": {},
   "outputs": [
    {
     "data": {
      "text/plain": [
       "(1273479, 3)"
      ]
     },
     "execution_count": 73,
     "metadata": {},
     "output_type": "execute_result"
    }
   ],
   "source": [
    "concept_synonyms_df.shape"
   ]
  },
  {
   "cell_type": "code",
   "execution_count": 74,
   "metadata": {},
   "outputs": [],
   "source": [
    "#filter by language_concept_id = 4180186 (English)\n",
    "concept_synonyms_df = concept_synonyms_df[concept_synonyms_df.language_concept_id == 4180186]"
   ]
  },
  {
   "cell_type": "code",
   "execution_count": 75,
   "metadata": {},
   "outputs": [
    {
     "data": {
      "text/plain": [
       "(1255441, 3)"
      ]
     },
     "execution_count": 75,
     "metadata": {},
     "output_type": "execute_result"
    }
   ],
   "source": [
    "concept_synonyms_df.shape"
   ]
  },
  {
   "cell_type": "code",
   "execution_count": 76,
   "metadata": {},
   "outputs": [],
   "source": [
    "# Filter the concepts to only include standard concepts\n",
    "standard_concepts_df = concepts_df[concepts_df['standard_concept'] == 'S']\n"
   ]
  },
  {
   "cell_type": "code",
   "execution_count": 77,
   "metadata": {},
   "outputs": [
    {
     "data": {
      "text/plain": [
       "(299903, 10)"
      ]
     },
     "execution_count": 77,
     "metadata": {},
     "output_type": "execute_result"
    }
   ],
   "source": [
    "standard_concepts_df.shape"
   ]
  },
  {
   "cell_type": "code",
   "execution_count": 78,
   "metadata": {},
   "outputs": [],
   "source": [
    "#do a left join on concept_id to get all synonyms for each concept and keep id of the synonym too\n",
    "standard_concepts_with_synonyms_df = standard_concepts_df.merge(concept_synonyms_df, left_on='concept_id', right_on='concept_id', how='inner')"
   ]
  },
  {
   "cell_type": "code",
   "execution_count": 79,
   "metadata": {},
   "outputs": [
    {
     "data": {
      "text/html": [
       "<div>\n",
       "<style scoped>\n",
       "    .dataframe tbody tr th:only-of-type {\n",
       "        vertical-align: middle;\n",
       "    }\n",
       "\n",
       "    .dataframe tbody tr th {\n",
       "        vertical-align: top;\n",
       "    }\n",
       "\n",
       "    .dataframe thead th {\n",
       "        text-align: right;\n",
       "    }\n",
       "</style>\n",
       "<table border=\"1\" class=\"dataframe\">\n",
       "  <thead>\n",
       "    <tr style=\"text-align: right;\">\n",
       "      <th></th>\n",
       "      <th>concept_id</th>\n",
       "      <th>concept_name</th>\n",
       "      <th>domain_id</th>\n",
       "      <th>vocabulary_id</th>\n",
       "      <th>concept_class_id</th>\n",
       "      <th>standard_concept</th>\n",
       "      <th>concept_code</th>\n",
       "      <th>valid_start_date</th>\n",
       "      <th>valid_end_date</th>\n",
       "      <th>invalid_reason</th>\n",
       "      <th>concept_synonym_name</th>\n",
       "      <th>language_concept_id</th>\n",
       "    </tr>\n",
       "  </thead>\n",
       "  <tbody>\n",
       "    <tr>\n",
       "      <th>116981</th>\n",
       "      <td>4329847</td>\n",
       "      <td>Myocardial infarction</td>\n",
       "      <td>Condition</td>\n",
       "      <td>SNOMED</td>\n",
       "      <td>Clinical Finding</td>\n",
       "      <td>S</td>\n",
       "      <td>22298006</td>\n",
       "      <td>20020131</td>\n",
       "      <td>20991231</td>\n",
       "      <td>NaN</td>\n",
       "      <td>Cardiac infarction</td>\n",
       "      <td>4180186</td>\n",
       "    </tr>\n",
       "    <tr>\n",
       "      <th>116982</th>\n",
       "      <td>4329847</td>\n",
       "      <td>Myocardial infarction</td>\n",
       "      <td>Condition</td>\n",
       "      <td>SNOMED</td>\n",
       "      <td>Clinical Finding</td>\n",
       "      <td>S</td>\n",
       "      <td>22298006</td>\n",
       "      <td>20020131</td>\n",
       "      <td>20991231</td>\n",
       "      <td>NaN</td>\n",
       "      <td>Heart attack</td>\n",
       "      <td>4180186</td>\n",
       "    </tr>\n",
       "    <tr>\n",
       "      <th>116983</th>\n",
       "      <td>4329847</td>\n",
       "      <td>Myocardial infarction</td>\n",
       "      <td>Condition</td>\n",
       "      <td>SNOMED</td>\n",
       "      <td>Clinical Finding</td>\n",
       "      <td>S</td>\n",
       "      <td>22298006</td>\n",
       "      <td>20020131</td>\n",
       "      <td>20991231</td>\n",
       "      <td>NaN</td>\n",
       "      <td>Myocardial infarct</td>\n",
       "      <td>4180186</td>\n",
       "    </tr>\n",
       "    <tr>\n",
       "      <th>116984</th>\n",
       "      <td>4329847</td>\n",
       "      <td>Myocardial infarction</td>\n",
       "      <td>Condition</td>\n",
       "      <td>SNOMED</td>\n",
       "      <td>Clinical Finding</td>\n",
       "      <td>S</td>\n",
       "      <td>22298006</td>\n",
       "      <td>20020131</td>\n",
       "      <td>20991231</td>\n",
       "      <td>NaN</td>\n",
       "      <td>Myocardial infarction (disorder)</td>\n",
       "      <td>4180186</td>\n",
       "    </tr>\n",
       "    <tr>\n",
       "      <th>116985</th>\n",
       "      <td>4329847</td>\n",
       "      <td>Myocardial infarction</td>\n",
       "      <td>Condition</td>\n",
       "      <td>SNOMED</td>\n",
       "      <td>Clinical Finding</td>\n",
       "      <td>S</td>\n",
       "      <td>22298006</td>\n",
       "      <td>20020131</td>\n",
       "      <td>20991231</td>\n",
       "      <td>NaN</td>\n",
       "      <td>Infarction of heart</td>\n",
       "      <td>4180186</td>\n",
       "    </tr>\n",
       "    <tr>\n",
       "      <th>116986</th>\n",
       "      <td>4329847</td>\n",
       "      <td>Myocardial infarction</td>\n",
       "      <td>Condition</td>\n",
       "      <td>SNOMED</td>\n",
       "      <td>Clinical Finding</td>\n",
       "      <td>S</td>\n",
       "      <td>22298006</td>\n",
       "      <td>20020131</td>\n",
       "      <td>20991231</td>\n",
       "      <td>NaN</td>\n",
       "      <td>MI - myocardial infarction</td>\n",
       "      <td>4180186</td>\n",
       "    </tr>\n",
       "  </tbody>\n",
       "</table>\n",
       "</div>"
      ],
      "text/plain": [
       "        concept_id           concept_name  domain_id vocabulary_id  \\\n",
       "116981     4329847  Myocardial infarction  Condition        SNOMED   \n",
       "116982     4329847  Myocardial infarction  Condition        SNOMED   \n",
       "116983     4329847  Myocardial infarction  Condition        SNOMED   \n",
       "116984     4329847  Myocardial infarction  Condition        SNOMED   \n",
       "116985     4329847  Myocardial infarction  Condition        SNOMED   \n",
       "116986     4329847  Myocardial infarction  Condition        SNOMED   \n",
       "\n",
       "        concept_class_id standard_concept concept_code  valid_start_date  \\\n",
       "116981  Clinical Finding                S     22298006          20020131   \n",
       "116982  Clinical Finding                S     22298006          20020131   \n",
       "116983  Clinical Finding                S     22298006          20020131   \n",
       "116984  Clinical Finding                S     22298006          20020131   \n",
       "116985  Clinical Finding                S     22298006          20020131   \n",
       "116986  Clinical Finding                S     22298006          20020131   \n",
       "\n",
       "        valid_end_date invalid_reason              concept_synonym_name  \\\n",
       "116981        20991231            NaN                Cardiac infarction   \n",
       "116982        20991231            NaN                      Heart attack   \n",
       "116983        20991231            NaN                Myocardial infarct   \n",
       "116984        20991231            NaN  Myocardial infarction (disorder)   \n",
       "116985        20991231            NaN               Infarction of heart   \n",
       "116986        20991231            NaN        MI - myocardial infarction   \n",
       "\n",
       "        language_concept_id  \n",
       "116981              4180186  \n",
       "116982              4180186  \n",
       "116983              4180186  \n",
       "116984              4180186  \n",
       "116985              4180186  \n",
       "116986              4180186  "
      ]
     },
     "execution_count": 79,
     "metadata": {},
     "output_type": "execute_result"
    }
   ],
   "source": [
    "#check on the exampple of concept_id = 4329847\n",
    "standard_concepts_with_synonyms_df[standard_concepts_with_synonyms_df.concept_id == 4329847]"
   ]
  },
  {
   "cell_type": "code",
   "execution_count": 80,
   "metadata": {},
   "outputs": [
    {
     "data": {
      "text/plain": [
       "(491645, 12)"
      ]
     },
     "execution_count": 80,
     "metadata": {},
     "output_type": "execute_result"
    }
   ],
   "source": [
    "standard_concepts_with_synonyms_df.shape"
   ]
  },
  {
   "cell_type": "code",
   "execution_count": 81,
   "metadata": {},
   "outputs": [
    {
     "data": {
      "text/html": [
       "<div>\n",
       "<style scoped>\n",
       "    .dataframe tbody tr th:only-of-type {\n",
       "        vertical-align: middle;\n",
       "    }\n",
       "\n",
       "    .dataframe tbody tr th {\n",
       "        vertical-align: top;\n",
       "    }\n",
       "\n",
       "    .dataframe thead th {\n",
       "        text-align: right;\n",
       "    }\n",
       "</style>\n",
       "<table border=\"1\" class=\"dataframe\">\n",
       "  <thead>\n",
       "    <tr style=\"text-align: right;\">\n",
       "      <th></th>\n",
       "      <th>concept_id</th>\n",
       "      <th>concept_name</th>\n",
       "      <th>domain_id</th>\n",
       "      <th>vocabulary_id</th>\n",
       "      <th>concept_class_id</th>\n",
       "      <th>standard_concept</th>\n",
       "      <th>concept_code</th>\n",
       "      <th>valid_start_date</th>\n",
       "      <th>valid_end_date</th>\n",
       "      <th>invalid_reason</th>\n",
       "      <th>concept_synonym_name</th>\n",
       "      <th>language_concept_id</th>\n",
       "    </tr>\n",
       "  </thead>\n",
       "  <tbody>\n",
       "    <tr>\n",
       "      <th>0</th>\n",
       "      <td>4001098</td>\n",
       "      <td>Radiating chest pain</td>\n",
       "      <td>Condition</td>\n",
       "      <td>SNOMED</td>\n",
       "      <td>Clinical Finding</td>\n",
       "      <td>S</td>\n",
       "      <td>10000006</td>\n",
       "      <td>20020131</td>\n",
       "      <td>20991231</td>\n",
       "      <td>NaN</td>\n",
       "      <td>Radiating chest pain (finding)</td>\n",
       "      <td>4180186</td>\n",
       "    </tr>\n",
       "    <tr>\n",
       "      <th>1</th>\n",
       "      <td>37392117</td>\n",
       "      <td>Urine tryptophan:creatinine ratio</td>\n",
       "      <td>Measurement</td>\n",
       "      <td>SNOMED</td>\n",
       "      <td>Observable Entity</td>\n",
       "      <td>S</td>\n",
       "      <td>1000001000000103</td>\n",
       "      <td>20160401</td>\n",
       "      <td>20991231</td>\n",
       "      <td>NaN</td>\n",
       "      <td>Urine tryptophan:creatinine ratio (observable ...</td>\n",
       "      <td>4180186</td>\n",
       "    </tr>\n",
       "    <tr>\n",
       "      <th>2</th>\n",
       "      <td>37398455</td>\n",
       "      <td>Urine threonine:creatinine ratio</td>\n",
       "      <td>Measurement</td>\n",
       "      <td>SNOMED</td>\n",
       "      <td>Observable Entity</td>\n",
       "      <td>S</td>\n",
       "      <td>1000011000000101</td>\n",
       "      <td>20160401</td>\n",
       "      <td>20991231</td>\n",
       "      <td>NaN</td>\n",
       "      <td>Urine threonine:creatinine ratio (observable e...</td>\n",
       "      <td>4180186</td>\n",
       "    </tr>\n",
       "    <tr>\n",
       "      <th>3</th>\n",
       "      <td>37392118</td>\n",
       "      <td>Urine taurine:creatinine ratio</td>\n",
       "      <td>Measurement</td>\n",
       "      <td>SNOMED</td>\n",
       "      <td>Observable Entity</td>\n",
       "      <td>S</td>\n",
       "      <td>1000021000000107</td>\n",
       "      <td>20160401</td>\n",
       "      <td>20991231</td>\n",
       "      <td>NaN</td>\n",
       "      <td>Urine taurine:creatinine ratio (observable ent...</td>\n",
       "      <td>4180186</td>\n",
       "    </tr>\n",
       "    <tr>\n",
       "      <th>4</th>\n",
       "      <td>37392119</td>\n",
       "      <td>Urine phenylalanine:creatinine ratio</td>\n",
       "      <td>Measurement</td>\n",
       "      <td>SNOMED</td>\n",
       "      <td>Observable Entity</td>\n",
       "      <td>S</td>\n",
       "      <td>1000031000000109</td>\n",
       "      <td>20160401</td>\n",
       "      <td>20991231</td>\n",
       "      <td>NaN</td>\n",
       "      <td>Urine phenylalanine:creatinine ratio (observab...</td>\n",
       "      <td>4180186</td>\n",
       "    </tr>\n",
       "    <tr>\n",
       "      <th>...</th>\n",
       "      <td>...</td>\n",
       "      <td>...</td>\n",
       "      <td>...</td>\n",
       "      <td>...</td>\n",
       "      <td>...</td>\n",
       "      <td>...</td>\n",
       "      <td>...</td>\n",
       "      <td>...</td>\n",
       "      <td>...</td>\n",
       "      <td>...</td>\n",
       "      <td>...</td>\n",
       "      <td>...</td>\n",
       "    </tr>\n",
       "    <tr>\n",
       "      <th>491640</th>\n",
       "      <td>37398450</td>\n",
       "      <td>Urine homocysteine:creatinine ratio</td>\n",
       "      <td>Measurement</td>\n",
       "      <td>SNOMED</td>\n",
       "      <td>Observable Entity</td>\n",
       "      <td>S</td>\n",
       "      <td>999951000000101</td>\n",
       "      <td>20160401</td>\n",
       "      <td>20991231</td>\n",
       "      <td>NaN</td>\n",
       "      <td>Urine homocysteine:creatinine ratio (observabl...</td>\n",
       "      <td>4180186</td>\n",
       "    </tr>\n",
       "    <tr>\n",
       "      <th>491641</th>\n",
       "      <td>37398451</td>\n",
       "      <td>Urine aspartate:creatinine ratio</td>\n",
       "      <td>Measurement</td>\n",
       "      <td>SNOMED</td>\n",
       "      <td>Observable Entity</td>\n",
       "      <td>S</td>\n",
       "      <td>999961000000103</td>\n",
       "      <td>20160401</td>\n",
       "      <td>20991231</td>\n",
       "      <td>NaN</td>\n",
       "      <td>Urine aspartate:creatinine ratio (observable e...</td>\n",
       "      <td>4180186</td>\n",
       "    </tr>\n",
       "    <tr>\n",
       "      <th>491642</th>\n",
       "      <td>37398452</td>\n",
       "      <td>Urine alanine:creatinine ratio</td>\n",
       "      <td>Measurement</td>\n",
       "      <td>SNOMED</td>\n",
       "      <td>Observable Entity</td>\n",
       "      <td>S</td>\n",
       "      <td>999971000000105</td>\n",
       "      <td>20160401</td>\n",
       "      <td>20991231</td>\n",
       "      <td>NaN</td>\n",
       "      <td>Urine alanine:creatinine ratio (observable ent...</td>\n",
       "      <td>4180186</td>\n",
       "    </tr>\n",
       "    <tr>\n",
       "      <th>491643</th>\n",
       "      <td>37398453</td>\n",
       "      <td>Urine valine:creatinine ratio</td>\n",
       "      <td>Measurement</td>\n",
       "      <td>SNOMED</td>\n",
       "      <td>Observable Entity</td>\n",
       "      <td>S</td>\n",
       "      <td>999981000000107</td>\n",
       "      <td>20160401</td>\n",
       "      <td>20991231</td>\n",
       "      <td>NaN</td>\n",
       "      <td>Urine valine:creatinine ratio (observable entity)</td>\n",
       "      <td>4180186</td>\n",
       "    </tr>\n",
       "    <tr>\n",
       "      <th>491644</th>\n",
       "      <td>37398454</td>\n",
       "      <td>Urine tyrosine:creatinine ratio</td>\n",
       "      <td>Measurement</td>\n",
       "      <td>SNOMED</td>\n",
       "      <td>Observable Entity</td>\n",
       "      <td>S</td>\n",
       "      <td>999991000000109</td>\n",
       "      <td>20160401</td>\n",
       "      <td>20991231</td>\n",
       "      <td>NaN</td>\n",
       "      <td>Urine tyrosine:creatinine ratio (observable en...</td>\n",
       "      <td>4180186</td>\n",
       "    </tr>\n",
       "  </tbody>\n",
       "</table>\n",
       "<p>491645 rows × 12 columns</p>\n",
       "</div>"
      ],
      "text/plain": [
       "        concept_id                          concept_name    domain_id  \\\n",
       "0          4001098                  Radiating chest pain    Condition   \n",
       "1         37392117     Urine tryptophan:creatinine ratio  Measurement   \n",
       "2         37398455      Urine threonine:creatinine ratio  Measurement   \n",
       "3         37392118        Urine taurine:creatinine ratio  Measurement   \n",
       "4         37392119  Urine phenylalanine:creatinine ratio  Measurement   \n",
       "...            ...                                   ...          ...   \n",
       "491640    37398450   Urine homocysteine:creatinine ratio  Measurement   \n",
       "491641    37398451      Urine aspartate:creatinine ratio  Measurement   \n",
       "491642    37398452        Urine alanine:creatinine ratio  Measurement   \n",
       "491643    37398453         Urine valine:creatinine ratio  Measurement   \n",
       "491644    37398454       Urine tyrosine:creatinine ratio  Measurement   \n",
       "\n",
       "       vocabulary_id   concept_class_id standard_concept      concept_code  \\\n",
       "0             SNOMED   Clinical Finding                S          10000006   \n",
       "1             SNOMED  Observable Entity                S  1000001000000103   \n",
       "2             SNOMED  Observable Entity                S  1000011000000101   \n",
       "3             SNOMED  Observable Entity                S  1000021000000107   \n",
       "4             SNOMED  Observable Entity                S  1000031000000109   \n",
       "...              ...                ...              ...               ...   \n",
       "491640        SNOMED  Observable Entity                S   999951000000101   \n",
       "491641        SNOMED  Observable Entity                S   999961000000103   \n",
       "491642        SNOMED  Observable Entity                S   999971000000105   \n",
       "491643        SNOMED  Observable Entity                S   999981000000107   \n",
       "491644        SNOMED  Observable Entity                S   999991000000109   \n",
       "\n",
       "        valid_start_date  valid_end_date invalid_reason  \\\n",
       "0               20020131        20991231            NaN   \n",
       "1               20160401        20991231            NaN   \n",
       "2               20160401        20991231            NaN   \n",
       "3               20160401        20991231            NaN   \n",
       "4               20160401        20991231            NaN   \n",
       "...                  ...             ...            ...   \n",
       "491640          20160401        20991231            NaN   \n",
       "491641          20160401        20991231            NaN   \n",
       "491642          20160401        20991231            NaN   \n",
       "491643          20160401        20991231            NaN   \n",
       "491644          20160401        20991231            NaN   \n",
       "\n",
       "                                     concept_synonym_name  language_concept_id  \n",
       "0                          Radiating chest pain (finding)              4180186  \n",
       "1       Urine tryptophan:creatinine ratio (observable ...              4180186  \n",
       "2       Urine threonine:creatinine ratio (observable e...              4180186  \n",
       "3       Urine taurine:creatinine ratio (observable ent...              4180186  \n",
       "4       Urine phenylalanine:creatinine ratio (observab...              4180186  \n",
       "...                                                   ...                  ...  \n",
       "491640  Urine homocysteine:creatinine ratio (observabl...              4180186  \n",
       "491641  Urine aspartate:creatinine ratio (observable e...              4180186  \n",
       "491642  Urine alanine:creatinine ratio (observable ent...              4180186  \n",
       "491643  Urine valine:creatinine ratio (observable entity)              4180186  \n",
       "491644  Urine tyrosine:creatinine ratio (observable en...              4180186  \n",
       "\n",
       "[491645 rows x 12 columns]"
      ]
     },
     "execution_count": 81,
     "metadata": {},
     "output_type": "execute_result"
    }
   ],
   "source": [
    "standard_concepts_with_synonyms_df"
   ]
  },
  {
   "cell_type": "code",
   "execution_count": 59,
   "metadata": {},
   "outputs": [
    {
     "data": {
      "text/html": [
       "<div>\n",
       "<style scoped>\n",
       "    .dataframe tbody tr th:only-of-type {\n",
       "        vertical-align: middle;\n",
       "    }\n",
       "\n",
       "    .dataframe tbody tr th {\n",
       "        vertical-align: top;\n",
       "    }\n",
       "\n",
       "    .dataframe thead th {\n",
       "        text-align: right;\n",
       "    }\n",
       "</style>\n",
       "<table border=\"1\" class=\"dataframe\">\n",
       "  <thead>\n",
       "    <tr style=\"text-align: right;\">\n",
       "      <th></th>\n",
       "      <th>concept_id</th>\n",
       "      <th>concept_name</th>\n",
       "      <th>domain_id</th>\n",
       "      <th>vocabulary_id</th>\n",
       "      <th>concept_class_id</th>\n",
       "      <th>standard_concept</th>\n",
       "      <th>concept_code</th>\n",
       "      <th>valid_start_date</th>\n",
       "      <th>valid_end_date</th>\n",
       "      <th>invalid_reason</th>\n",
       "      <th>concept_synonym_name</th>\n",
       "      <th>language_concept_id</th>\n",
       "    </tr>\n",
       "  </thead>\n",
       "  <tbody>\n",
       "  </tbody>\n",
       "</table>\n",
       "</div>"
      ],
      "text/plain": [
       "Empty DataFrame\n",
       "Columns: [concept_id, concept_name, domain_id, vocabulary_id, concept_class_id, standard_concept, concept_code, valid_start_date, valid_end_date, invalid_reason, concept_synonym_name, language_concept_id]\n",
       "Index: []"
      ]
     },
     "execution_count": 59,
     "metadata": {},
     "output_type": "execute_result"
    }
   ],
   "source": [
    "standard_concepts_with_synonyms_df[standard_concepts_with_synonyms_df.concept_synonym_name==np.nan]"
   ]
  },
  {
   "cell_type": "code",
   "execution_count": 82,
   "metadata": {},
   "outputs": [],
   "source": [
    "# We now have a DataFrame with each standard concept and its synonyms\n",
    "# Let's save out the pairs of concept and their synonyms to file with corresponding cocnept_id\n",
    "standard_concepts_with_synonyms_df[['concept_id', 'concept_name', 'concept_synonym_name']].to_csv('standard_concepts_with_synonyms.csv', index=False)"
   ]
  }
 ],
 "metadata": {
  "kernelspec": {
   "display_name": "base",
   "language": "python",
   "name": "python3"
  },
  "language_info": {
   "codemirror_mode": {
    "name": "ipython",
    "version": 3
   },
   "file_extension": ".py",
   "mimetype": "text/x-python",
   "name": "python",
   "nbconvert_exporter": "python",
   "pygments_lexer": "ipython3",
   "version": "3.9.13"
  },
  "orig_nbformat": 4
 },
 "nbformat": 4,
 "nbformat_minor": 2
}
