{
 "cells": [
  {
   "cell_type": "code",
   "execution_count": 1,
   "metadata": {},
   "outputs": [],
   "source": [
    "import pandas as pd\n"
   ]
  },
  {
   "cell_type": "markdown",
   "metadata": {},
   "source": [
    "This notebook represents experiments with the implementation of part of the code from the article \"Snomed2Vec: RandomWalk and Poincaré Embeddings of a Clinical Knowledge Base for Healthcare Analytics\"   \n",
    "\n",
    "source: https://gitlab.com/agarwal.khushbu/Snomed2Vec/-/blob/master/src/embedding_learning/poincare.py \n"
   ]
  },
  {
   "cell_type": "code",
   "execution_count": 8,
   "metadata": {},
   "outputs": [],
   "source": [
    "df=pd.read_csv('C://Users/Nusha/Desktop/Passaustudying/fouth semester/master/master_thesis/snomed/CONCEPT_RELATIONSHIP.csv', sep='\\t')"
   ]
  },
  {
   "cell_type": "code",
   "execution_count": 13,
   "metadata": {},
   "outputs": [
    {
     "data": {
      "text/html": [
       "<div>\n",
       "<style scoped>\n",
       "    .dataframe tbody tr th:only-of-type {\n",
       "        vertical-align: middle;\n",
       "    }\n",
       "\n",
       "    .dataframe tbody tr th {\n",
       "        vertical-align: top;\n",
       "    }\n",
       "\n",
       "    .dataframe thead th {\n",
       "        text-align: right;\n",
       "    }\n",
       "</style>\n",
       "<table border=\"1\" class=\"dataframe\">\n",
       "  <thead>\n",
       "    <tr style=\"text-align: right;\">\n",
       "      <th></th>\n",
       "      <th>concept_id_1</th>\n",
       "      <th>concept_id_2</th>\n",
       "      <th>relationship_id</th>\n",
       "      <th>valid_start_date</th>\n",
       "      <th>valid_end_date</th>\n",
       "      <th>invalid_reason</th>\n",
       "    </tr>\n",
       "  </thead>\n",
       "  <tbody>\n",
       "    <tr>\n",
       "      <th>67</th>\n",
       "      <td>281</td>\n",
       "      <td>280</td>\n",
       "      <td>Is a</td>\n",
       "      <td>19700101</td>\n",
       "      <td>20991231</td>\n",
       "      <td>NaN</td>\n",
       "    </tr>\n",
       "    <tr>\n",
       "      <th>74</th>\n",
       "      <td>282</td>\n",
       "      <td>281</td>\n",
       "      <td>Is a</td>\n",
       "      <td>19700101</td>\n",
       "      <td>20991231</td>\n",
       "      <td>NaN</td>\n",
       "    </tr>\n",
       "    <tr>\n",
       "      <th>77</th>\n",
       "      <td>283</td>\n",
       "      <td>281</td>\n",
       "      <td>Is a</td>\n",
       "      <td>19700101</td>\n",
       "      <td>20991231</td>\n",
       "      <td>NaN</td>\n",
       "    </tr>\n",
       "    <tr>\n",
       "      <th>80</th>\n",
       "      <td>284</td>\n",
       "      <td>281</td>\n",
       "      <td>Is a</td>\n",
       "      <td>19700101</td>\n",
       "      <td>20991231</td>\n",
       "      <td>NaN</td>\n",
       "    </tr>\n",
       "    <tr>\n",
       "      <th>83</th>\n",
       "      <td>285</td>\n",
       "      <td>280</td>\n",
       "      <td>Is a</td>\n",
       "      <td>19700101</td>\n",
       "      <td>20991231</td>\n",
       "      <td>NaN</td>\n",
       "    </tr>\n",
       "    <tr>\n",
       "      <th>...</th>\n",
       "      <td>...</td>\n",
       "      <td>...</td>\n",
       "      <td>...</td>\n",
       "      <td>...</td>\n",
       "      <td>...</td>\n",
       "      <td>...</td>\n",
       "    </tr>\n",
       "    <tr>\n",
       "      <th>12034931</th>\n",
       "      <td>3661632</td>\n",
       "      <td>37311061</td>\n",
       "      <td>Is a</td>\n",
       "      <td>20210129</td>\n",
       "      <td>20991231</td>\n",
       "      <td>NaN</td>\n",
       "    </tr>\n",
       "    <tr>\n",
       "      <th>12034932</th>\n",
       "      <td>3655975</td>\n",
       "      <td>37311061</td>\n",
       "      <td>Is a</td>\n",
       "      <td>20210129</td>\n",
       "      <td>20991231</td>\n",
       "      <td>NaN</td>\n",
       "    </tr>\n",
       "    <tr>\n",
       "      <th>12034933</th>\n",
       "      <td>3661748</td>\n",
       "      <td>37311061</td>\n",
       "      <td>Is a</td>\n",
       "      <td>20210129</td>\n",
       "      <td>20991231</td>\n",
       "      <td>NaN</td>\n",
       "    </tr>\n",
       "    <tr>\n",
       "      <th>12034934</th>\n",
       "      <td>3655976</td>\n",
       "      <td>37311061</td>\n",
       "      <td>Is a</td>\n",
       "      <td>20210129</td>\n",
       "      <td>20991231</td>\n",
       "      <td>NaN</td>\n",
       "    </tr>\n",
       "    <tr>\n",
       "      <th>12034935</th>\n",
       "      <td>3655977</td>\n",
       "      <td>37311061</td>\n",
       "      <td>Is a</td>\n",
       "      <td>20210129</td>\n",
       "      <td>20991231</td>\n",
       "      <td>NaN</td>\n",
       "    </tr>\n",
       "  </tbody>\n",
       "</table>\n",
       "<p>1695767 rows × 6 columns</p>\n",
       "</div>"
      ],
      "text/plain": [
       "          concept_id_1  concept_id_2 relationship_id  valid_start_date  \\\n",
       "67                 281           280            Is a          19700101   \n",
       "74                 282           281            Is a          19700101   \n",
       "77                 283           281            Is a          19700101   \n",
       "80                 284           281            Is a          19700101   \n",
       "83                 285           280            Is a          19700101   \n",
       "...                ...           ...             ...               ...   \n",
       "12034931       3661632      37311061            Is a          20210129   \n",
       "12034932       3655975      37311061            Is a          20210129   \n",
       "12034933       3661748      37311061            Is a          20210129   \n",
       "12034934       3655976      37311061            Is a          20210129   \n",
       "12034935       3655977      37311061            Is a          20210129   \n",
       "\n",
       "          valid_end_date  invalid_reason  \n",
       "67              20991231             NaN  \n",
       "74              20991231             NaN  \n",
       "77              20991231             NaN  \n",
       "80              20991231             NaN  \n",
       "83              20991231             NaN  \n",
       "...                  ...             ...  \n",
       "12034931        20991231             NaN  \n",
       "12034932        20991231             NaN  \n",
       "12034933        20991231             NaN  \n",
       "12034934        20991231             NaN  \n",
       "12034935        20991231             NaN  \n",
       "\n",
       "[1695767 rows x 6 columns]"
      ]
     },
     "execution_count": 13,
     "metadata": {},
     "output_type": "execute_result"
    }
   ],
   "source": [
    "df[df.relationship_id=='Is a']"
   ]
  },
  {
   "cell_type": "code",
   "execution_count": 14,
   "metadata": {},
   "outputs": [
    {
     "name": "stderr",
     "output_type": "stream",
     "text": [
      "c:\\Users\\Nusha\\anaconda3\\lib\\site-packages\\IPython\\core\\interactiveshell.py:3165: DtypeWarning: Columns (6,9) have mixed types.Specify dtype option on import or set low_memory=False.\n",
      "  has_raised = await self.run_ast_nodes(code_ast.body, cell_name,\n"
     ]
    }
   ],
   "source": [
    "df_concept=pd.read_csv('C://Users/Nusha/Desktop/Passaustudying/fouth semester/master/master_thesis/snomed/CONCEPT.csv', sep='\\t')"
   ]
  },
  {
   "cell_type": "code",
   "execution_count": 16,
   "metadata": {},
   "outputs": [
    {
     "data": {
      "text/html": [
       "<div>\n",
       "<style scoped>\n",
       "    .dataframe tbody tr th:only-of-type {\n",
       "        vertical-align: middle;\n",
       "    }\n",
       "\n",
       "    .dataframe tbody tr th {\n",
       "        vertical-align: top;\n",
       "    }\n",
       "\n",
       "    .dataframe thead th {\n",
       "        text-align: right;\n",
       "    }\n",
       "</style>\n",
       "<table border=\"1\" class=\"dataframe\">\n",
       "  <thead>\n",
       "    <tr style=\"text-align: right;\">\n",
       "      <th></th>\n",
       "      <th>concept_id</th>\n",
       "      <th>concept_name</th>\n",
       "      <th>domain_id</th>\n",
       "      <th>vocabulary_id</th>\n",
       "      <th>concept_class_id</th>\n",
       "      <th>standard_concept</th>\n",
       "      <th>concept_code</th>\n",
       "      <th>valid_start_date</th>\n",
       "      <th>valid_end_date</th>\n",
       "      <th>invalid_reason</th>\n",
       "    </tr>\n",
       "  </thead>\n",
       "  <tbody>\n",
       "    <tr>\n",
       "      <th>1241008</th>\n",
       "      <td>281</td>\n",
       "      <td>Medicare Managed Care</td>\n",
       "      <td>Payer</td>\n",
       "      <td>SOPT</td>\n",
       "      <td>Payer</td>\n",
       "      <td>S</td>\n",
       "      <td>11</td>\n",
       "      <td>19700101</td>\n",
       "      <td>20991231</td>\n",
       "      <td>NaN</td>\n",
       "    </tr>\n",
       "  </tbody>\n",
       "</table>\n",
       "</div>"
      ],
      "text/plain": [
       "         concept_id           concept_name domain_id vocabulary_id  \\\n",
       "1241008         281  Medicare Managed Care     Payer          SOPT   \n",
       "\n",
       "        concept_class_id standard_concept concept_code  valid_start_date  \\\n",
       "1241008            Payer                S           11          19700101   \n",
       "\n",
       "         valid_end_date invalid_reason  \n",
       "1241008        20991231            NaN  "
      ]
     },
     "execution_count": 16,
     "metadata": {},
     "output_type": "execute_result"
    }
   ],
   "source": [
    "df_concept[df_concept.concept_id==281]"
   ]
  },
  {
   "cell_type": "code",
   "execution_count": null,
   "metadata": {},
   "outputs": [],
   "source": []
  }
 ],
 "metadata": {
  "kernelspec": {
   "display_name": "Python 3.8.8 ('base')",
   "language": "python",
   "name": "python3"
  },
  "language_info": {
   "codemirror_mode": {
    "name": "ipython",
    "version": 3
   },
   "file_extension": ".py",
   "mimetype": "text/x-python",
   "name": "python",
   "nbconvert_exporter": "python",
   "pygments_lexer": "ipython3",
   "version": "3.8.8"
  },
  "orig_nbformat": 4,
  "vscode": {
   "interpreter": {
    "hash": "0d9f4de9683cfd3ae83f052b72a6177cb56793a14e04c16f5a78e2b56390f02b"
   }
  }
 },
 "nbformat": 4,
 "nbformat_minor": 2
}
