{
 "cells": [
  {
   "cell_type": "code",
   "execution_count": 16,
   "metadata": {},
   "outputs": [],
   "source": [
    "import pandas as pd\n",
    "from gensim.models import Word2Vec\n",
    "import networkx as nx"
   ]
  },
  {
   "cell_type": "code",
   "execution_count": 3,
   "metadata": {},
   "outputs": [],
   "source": [
    "import sys\n",
    "sys.path.append('/workspaces/master_thesis/poincare')\n",
    "from build_graph import Builder"
   ]
  },
  {
   "cell_type": "code",
   "execution_count": 4,
   "metadata": {},
   "outputs": [
    {
     "name": "stderr",
     "output_type": "stream",
     "text": [
      "/workspaces/master_thesis/poincare/build_graph.py:11: DtypeWarning: Columns (6,9) have mixed types. Specify dtype option on import or set low_memory=False.\n",
      "  self.data_concept = pd.read_csv(path_concept, on_bad_lines='skip', sep='\\t')\n",
      "/workspaces/master_thesis/poincare/build_graph.py:18: UserWarning: Boolean Series key will be reindexed to match DataFrame index.\n",
      "  data_merge_2=data_merge_2[data_merge_2.standard_concept_x=='S'][data_merge_2.standard_concept_y=='S']\n"
     ]
    }
   ],
   "source": [
    "relations=Builder('/workspaces/master_thesis/CONCEPT_RELATIONSHIP.csv', '/workspaces/master_thesis/CONCEPT.csv')\n",
    "relations=list(relations())"
   ]
  },
  {
   "cell_type": "code",
   "execution_count": 7,
   "metadata": {},
   "outputs": [
    {
     "data": {
      "text/plain": [
       "(281, 280)"
      ]
     },
     "execution_count": 7,
     "metadata": {},
     "output_type": "execute_result"
    }
   ],
   "source": [
    "relations[0]"
   ]
  },
  {
   "cell_type": "code",
   "execution_count": 11,
   "metadata": {},
   "outputs": [],
   "source": [
    "#take only part of relations\n",
    "relations=relations[:10000]"
   ]
  },
  {
   "cell_type": "code",
   "execution_count": 12,
   "metadata": {},
   "outputs": [],
   "source": [
    "G = nx.Graph()\n",
    "G.add_edges_from(relations)"
   ]
  },
  {
   "cell_type": "code",
   "execution_count": 13,
   "metadata": {},
   "outputs": [],
   "source": [
    "import random"
   ]
  },
  {
   "cell_type": "code",
   "execution_count": 14,
   "metadata": {},
   "outputs": [],
   "source": [
    "def get_random_walk(graph:nx.Graph, node:int, n_steps:int = 20):\n",
    "   \"\"\" Given a graph and a node, \n",
    "       return a random walk starting from the node \n",
    "   \"\"\"\n",
    "   local_path = [str(node),]\n",
    "   target_node = node\n",
    "   for _ in range(n_steps):\n",
    "      neighbors = list(nx.all_neighbors(graph, target_node))\n",
    "      target_node = random.choice(neighbors)\n",
    "      local_path.append(str(target_node))\n",
    "   return local_path\n",
    "\n",
    "\n",
    "walk_paths = []\n",
    "for node in G.nodes():\n",
    "   for _ in range(10):\n",
    "      walk_paths.append(get_random_walk(G, node))"
   ]
  },
  {
   "cell_type": "code",
   "execution_count": 15,
   "metadata": {},
   "outputs": [
    {
     "data": {
      "text/plain": [
       "['281',\n",
       " '362',\n",
       " '281',\n",
       " '280',\n",
       " '364',\n",
       " '280',\n",
       " '365',\n",
       " '366',\n",
       " '365',\n",
       " '280',\n",
       " '365',\n",
       " '280',\n",
       " '281',\n",
       " '280',\n",
       " '285',\n",
       " '308',\n",
       " '285',\n",
       " '363',\n",
       " '285',\n",
       " '286',\n",
       " '285']"
      ]
     },
     "execution_count": 15,
     "metadata": {},
     "output_type": "execute_result"
    }
   ],
   "source": [
    "walk_paths[0]"
   ]
  },
  {
   "cell_type": "code",
   "execution_count": 17,
   "metadata": {},
   "outputs": [
    {
     "data": {
      "text/plain": [
       "(35737800, 35737800)"
      ]
     },
     "execution_count": 17,
     "metadata": {},
     "output_type": "execute_result"
    }
   ],
   "source": [
    "# Instantiate word2vec model\n",
    "embedder = Word2Vec(\n",
    "   window=20, sg=1, hs=0, negative=10, alpha=0.03, min_alpha=0.0001,    \n",
    "   seed=42\n",
    ")\n",
    "# Build Vocabulary\n",
    "embedder.build_vocab(walk_paths, progress_per=2)\n",
    "# Train\n",
    "embedder.train(\n",
    "   walk_paths, total_examples=embedder.corpus_count, epochs=20, \n",
    "   report_delay=1\n",
    ")"
   ]
  },
  {
   "cell_type": "code",
   "execution_count": 18,
   "metadata": {},
   "outputs": [
    {
     "data": {
      "text/plain": [
       "[('282', 0.9989911913871765),\n",
       " ('284', 0.9988034963607788),\n",
       " ('326', 0.9984772801399231),\n",
       " ('280', 0.9984484910964966),\n",
       " ('283', 0.9984161257743835),\n",
       " ('348', 0.9981974959373474),\n",
       " ('362', 0.9980472326278687),\n",
       " ('292', 0.9979079961776733),\n",
       " ('293', 0.9969819784164429),\n",
       " ('409', 0.9969725012779236)]"
      ]
     },
     "execution_count": 18,
     "metadata": {},
     "output_type": "execute_result"
    }
   ],
   "source": [
    "embedder.wv.most_similar('281')"
   ]
  }
 ],
 "metadata": {
  "kernelspec": {
   "display_name": "base",
   "language": "python",
   "name": "python3"
  },
  "language_info": {
   "codemirror_mode": {
    "name": "ipython",
    "version": 3
   },
   "file_extension": ".py",
   "mimetype": "text/x-python",
   "name": "python",
   "nbconvert_exporter": "python",
   "pygments_lexer": "ipython3",
   "version": "3.10.10"
  },
  "orig_nbformat": 4
 },
 "nbformat": 4,
 "nbformat_minor": 2
}
