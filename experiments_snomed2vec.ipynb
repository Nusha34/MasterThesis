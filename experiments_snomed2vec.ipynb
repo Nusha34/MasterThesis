{
 "cells": [
  {
   "cell_type": "code",
   "execution_count": 23,
   "metadata": {},
   "outputs": [],
   "source": [
    "import pandas as pd\n",
    "import matplotlib.pyplot as plt\n"
   ]
  },
  {
   "cell_type": "markdown",
   "metadata": {},
   "source": [
    "This notebook represents experiments with the implementation of part of the code from the article \"Snomed2Vec: RandomWalk and Poincaré Embeddings of a Clinical Knowledge Base for Healthcare Analytics\"   \n",
    "\n",
    "source: https://gitlab.com/agarwal.khushbu/Snomed2Vec/-/blob/master/src/embedding_learning/poincare.py \n"
   ]
  },
  {
   "cell_type": "code",
   "execution_count": 26,
   "metadata": {},
   "outputs": [],
   "source": [
    "df=pd.read_csv('C://Users/Nusha/Desktop/Passaustudying/fouth semester/master/master_thesis/snomed/CONCEPT_RELATIONSHIP.csv', sep='\\t')"
   ]
  },
  {
   "cell_type": "code",
   "execution_count": 27,
   "metadata": {},
   "outputs": [
    {
     "data": {
      "text/plain": [
       "272"
      ]
     },
     "execution_count": 27,
     "metadata": {},
     "output_type": "execute_result"
    }
   ],
   "source": [
    "len(df['relationship_id'].unique())"
   ]
  },
  {
   "cell_type": "code",
   "execution_count": 75,
   "metadata": {},
   "outputs": [
    {
     "data": {
      "text/html": [
       "<div>\n",
       "<style scoped>\n",
       "    .dataframe tbody tr th:only-of-type {\n",
       "        vertical-align: middle;\n",
       "    }\n",
       "\n",
       "    .dataframe tbody tr th {\n",
       "        vertical-align: top;\n",
       "    }\n",
       "\n",
       "    .dataframe thead th {\n",
       "        text-align: right;\n",
       "    }\n",
       "</style>\n",
       "<table border=\"1\" class=\"dataframe\">\n",
       "  <thead>\n",
       "    <tr style=\"text-align: right;\">\n",
       "      <th></th>\n",
       "      <th>concept_id_1</th>\n",
       "      <th>concept_id_2</th>\n",
       "      <th>valid_start_date</th>\n",
       "      <th>valid_end_date</th>\n",
       "      <th>invalid_reason</th>\n",
       "    </tr>\n",
       "    <tr>\n",
       "      <th>relationship_id</th>\n",
       "      <th></th>\n",
       "      <th></th>\n",
       "      <th></th>\n",
       "      <th></th>\n",
       "      <th></th>\n",
       "    </tr>\n",
       "  </thead>\n",
       "  <tbody>\n",
       "    <tr>\n",
       "      <th>Relative to of</th>\n",
       "      <td>3</td>\n",
       "      <td>3</td>\n",
       "      <td>3</td>\n",
       "      <td>3</td>\n",
       "      <td>0</td>\n",
       "    </tr>\n",
       "    <tr>\n",
       "      <th>Relative to</th>\n",
       "      <td>3</td>\n",
       "      <td>3</td>\n",
       "      <td>3</td>\n",
       "      <td>3</td>\n",
       "      <td>0</td>\n",
       "    </tr>\n",
       "    <tr>\n",
       "      <th>Surf character of</th>\n",
       "      <td>4</td>\n",
       "      <td>4</td>\n",
       "      <td>4</td>\n",
       "      <td>4</td>\n",
       "      <td>0</td>\n",
       "    </tr>\n",
       "    <tr>\n",
       "      <th>Has surface char</th>\n",
       "      <td>4</td>\n",
       "      <td>4</td>\n",
       "      <td>4</td>\n",
       "      <td>4</td>\n",
       "      <td>0</td>\n",
       "    </tr>\n",
       "    <tr>\n",
       "      <th>Has relative part</th>\n",
       "      <td>6</td>\n",
       "      <td>6</td>\n",
       "      <td>6</td>\n",
       "      <td>6</td>\n",
       "      <td>0</td>\n",
       "    </tr>\n",
       "    <tr>\n",
       "      <th>...</th>\n",
       "      <td>...</td>\n",
       "      <td>...</td>\n",
       "      <td>...</td>\n",
       "      <td>...</td>\n",
       "      <td>...</td>\n",
       "    </tr>\n",
       "    <tr>\n",
       "      <th>Non-avail ind of</th>\n",
       "      <td>353342</td>\n",
       "      <td>353342</td>\n",
       "      <td>353342</td>\n",
       "      <td>353342</td>\n",
       "      <td>0</td>\n",
       "    </tr>\n",
       "    <tr>\n",
       "      <th>Maps to</th>\n",
       "      <td>884542</td>\n",
       "      <td>884542</td>\n",
       "      <td>884542</td>\n",
       "      <td>884542</td>\n",
       "      <td>0</td>\n",
       "    </tr>\n",
       "    <tr>\n",
       "      <th>Mapped from</th>\n",
       "      <td>884542</td>\n",
       "      <td>884542</td>\n",
       "      <td>884542</td>\n",
       "      <td>884542</td>\n",
       "      <td>0</td>\n",
       "    </tr>\n",
       "    <tr>\n",
       "      <th>Subsumes</th>\n",
       "      <td>1695767</td>\n",
       "      <td>1695767</td>\n",
       "      <td>1695767</td>\n",
       "      <td>1695767</td>\n",
       "      <td>0</td>\n",
       "    </tr>\n",
       "    <tr>\n",
       "      <th>Is a</th>\n",
       "      <td>1695767</td>\n",
       "      <td>1695767</td>\n",
       "      <td>1695767</td>\n",
       "      <td>1695767</td>\n",
       "      <td>0</td>\n",
       "    </tr>\n",
       "  </tbody>\n",
       "</table>\n",
       "<p>272 rows × 5 columns</p>\n",
       "</div>"
      ],
      "text/plain": [
       "                   concept_id_1  concept_id_2  valid_start_date  \\\n",
       "relationship_id                                                   \n",
       "Relative to of                3             3                 3   \n",
       "Relative to                   3             3                 3   \n",
       "Surf character of             4             4                 4   \n",
       "Has surface char              4             4                 4   \n",
       "Has relative part             6             6                 6   \n",
       "...                         ...           ...               ...   \n",
       "Non-avail ind of         353342        353342            353342   \n",
       "Maps to                  884542        884542            884542   \n",
       "Mapped from              884542        884542            884542   \n",
       "Subsumes                1695767       1695767           1695767   \n",
       "Is a                    1695767       1695767           1695767   \n",
       "\n",
       "                   valid_end_date  invalid_reason  \n",
       "relationship_id                                    \n",
       "Relative to of                  3               0  \n",
       "Relative to                     3               0  \n",
       "Surf character of               4               0  \n",
       "Has surface char                4               0  \n",
       "Has relative part               6               0  \n",
       "...                           ...             ...  \n",
       "Non-avail ind of           353342               0  \n",
       "Maps to                    884542               0  \n",
       "Mapped from                884542               0  \n",
       "Subsumes                  1695767               0  \n",
       "Is a                      1695767               0  \n",
       "\n",
       "[272 rows x 5 columns]"
      ]
     },
     "execution_count": 75,
     "metadata": {},
     "output_type": "execute_result"
    }
   ],
   "source": [
    "df.groupby(by=['relationship_id']).count().sort_values(by=['concept_id_1'])\n"
   ]
  },
  {
   "cell_type": "code",
   "execution_count": 76,
   "metadata": {},
   "outputs": [
    {
     "data": {
      "text/plain": [
       "False"
      ]
     },
     "execution_count": 76,
     "metadata": {},
     "output_type": "execute_result"
    }
   ],
   "source": [
    "#check if the columns with subsumes and is a equal to each other\n",
    "df[df.relationship_id=='Is a']['concept_id_1'].equals(df[df.relationship_id=='Subsumes']['concept_id_1'])"
   ]
  },
  {
   "cell_type": "code",
   "execution_count": 77,
   "metadata": {},
   "outputs": [],
   "source": [
    "df=df[df.relationship_id=='Is a']"
   ]
  },
  {
   "cell_type": "code",
   "execution_count": 78,
   "metadata": {},
   "outputs": [
    {
     "data": {
      "text/plain": [
       "995520"
      ]
     },
     "execution_count": 78,
     "metadata": {},
     "output_type": "execute_result"
    }
   ],
   "source": [
    "len(df.concept_id_1.unique())"
   ]
  },
  {
   "cell_type": "code",
   "execution_count": 6,
   "metadata": {},
   "outputs": [
    {
     "name": "stderr",
     "output_type": "stream",
     "text": [
      "c:\\Users\\Nusha\\anaconda3\\lib\\site-packages\\IPython\\core\\interactiveshell.py:3165: DtypeWarning: Columns (6,9) have mixed types.Specify dtype option on import or set low_memory=False.\n",
      "  has_raised = await self.run_ast_nodes(code_ast.body, cell_name,\n"
     ]
    }
   ],
   "source": [
    "df_concept=pd.read_csv('C://Users/Nusha/Desktop/Passaustudying/fouth semester/master/master_thesis/snomed/CONCEPT.csv', sep='\\t')"
   ]
  },
  {
   "cell_type": "code",
   "execution_count": 7,
   "metadata": {},
   "outputs": [
    {
     "data": {
      "text/html": [
       "<div>\n",
       "<style scoped>\n",
       "    .dataframe tbody tr th:only-of-type {\n",
       "        vertical-align: middle;\n",
       "    }\n",
       "\n",
       "    .dataframe tbody tr th {\n",
       "        vertical-align: top;\n",
       "    }\n",
       "\n",
       "    .dataframe thead th {\n",
       "        text-align: right;\n",
       "    }\n",
       "</style>\n",
       "<table border=\"1\" class=\"dataframe\">\n",
       "  <thead>\n",
       "    <tr style=\"text-align: right;\">\n",
       "      <th></th>\n",
       "      <th>concept_id</th>\n",
       "      <th>concept_name</th>\n",
       "      <th>domain_id</th>\n",
       "      <th>vocabulary_id</th>\n",
       "      <th>concept_class_id</th>\n",
       "      <th>standard_concept</th>\n",
       "      <th>concept_code</th>\n",
       "      <th>valid_start_date</th>\n",
       "      <th>valid_end_date</th>\n",
       "      <th>invalid_reason</th>\n",
       "    </tr>\n",
       "  </thead>\n",
       "  <tbody>\n",
       "    <tr>\n",
       "      <th>1241008</th>\n",
       "      <td>281</td>\n",
       "      <td>Medicare Managed Care</td>\n",
       "      <td>Payer</td>\n",
       "      <td>SOPT</td>\n",
       "      <td>Payer</td>\n",
       "      <td>S</td>\n",
       "      <td>11</td>\n",
       "      <td>19700101</td>\n",
       "      <td>20991231</td>\n",
       "      <td>NaN</td>\n",
       "    </tr>\n",
       "  </tbody>\n",
       "</table>\n",
       "</div>"
      ],
      "text/plain": [
       "         concept_id           concept_name domain_id vocabulary_id  \\\n",
       "1241008         281  Medicare Managed Care     Payer          SOPT   \n",
       "\n",
       "        concept_class_id standard_concept concept_code  valid_start_date  \\\n",
       "1241008            Payer                S           11          19700101   \n",
       "\n",
       "         valid_end_date invalid_reason  \n",
       "1241008        20991231            NaN  "
      ]
     },
     "execution_count": 7,
     "metadata": {},
     "output_type": "execute_result"
    }
   ],
   "source": [
    "df_concept[df_concept.concept_id==281]"
   ]
  },
  {
   "cell_type": "code",
   "execution_count": 8,
   "metadata": {},
   "outputs": [],
   "source": [
    "df_merge=df.merge(df_concept, left_on='concept_id_1', right_on='concept_id', how='left')"
   ]
  },
  {
   "cell_type": "code",
   "execution_count": 9,
   "metadata": {},
   "outputs": [],
   "source": [
    "df_merge_2=df_merge.merge(df_concept, left_on='concept_id_2', right_on='concept_id', how='left')"
   ]
  },
  {
   "cell_type": "code",
   "execution_count": 10,
   "metadata": {},
   "outputs": [],
   "source": [
    "\n",
    "df_for_relationships=df_merge_2[['concept_id_1', 'concept_name_x', 'concept_id_2', 'concept_name_y', 'relationship_id']]"
   ]
  },
  {
   "cell_type": "code",
   "execution_count": 11,
   "metadata": {},
   "outputs": [
    {
     "data": {
      "text/html": [
       "<div>\n",
       "<style scoped>\n",
       "    .dataframe tbody tr th:only-of-type {\n",
       "        vertical-align: middle;\n",
       "    }\n",
       "\n",
       "    .dataframe tbody tr th {\n",
       "        vertical-align: top;\n",
       "    }\n",
       "\n",
       "    .dataframe thead th {\n",
       "        text-align: right;\n",
       "    }\n",
       "</style>\n",
       "<table border=\"1\" class=\"dataframe\">\n",
       "  <thead>\n",
       "    <tr style=\"text-align: right;\">\n",
       "      <th></th>\n",
       "      <th>concept_id_1</th>\n",
       "      <th>concept_name_x</th>\n",
       "      <th>concept_id_2</th>\n",
       "      <th>concept_name_y</th>\n",
       "      <th>relationship_id</th>\n",
       "    </tr>\n",
       "  </thead>\n",
       "  <tbody>\n",
       "    <tr>\n",
       "      <th>0</th>\n",
       "      <td>281</td>\n",
       "      <td>Medicare Managed Care</td>\n",
       "      <td>280</td>\n",
       "      <td>Medicare</td>\n",
       "      <td>Is a</td>\n",
       "    </tr>\n",
       "    <tr>\n",
       "      <th>1</th>\n",
       "      <td>282</td>\n",
       "      <td>Medicare Health Maintenance Organization (HMO)</td>\n",
       "      <td>281</td>\n",
       "      <td>Medicare Managed Care</td>\n",
       "      <td>Is a</td>\n",
       "    </tr>\n",
       "    <tr>\n",
       "      <th>2</th>\n",
       "      <td>283</td>\n",
       "      <td>Medicare Preferred Provider Organization (PPO)</td>\n",
       "      <td>281</td>\n",
       "      <td>Medicare Managed Care</td>\n",
       "      <td>Is a</td>\n",
       "    </tr>\n",
       "    <tr>\n",
       "      <th>3</th>\n",
       "      <td>284</td>\n",
       "      <td>Medicare Point of Service (POS)</td>\n",
       "      <td>281</td>\n",
       "      <td>Medicare Managed Care</td>\n",
       "      <td>Is a</td>\n",
       "    </tr>\n",
       "    <tr>\n",
       "      <th>4</th>\n",
       "      <td>285</td>\n",
       "      <td>Medicare Non-managed Care</td>\n",
       "      <td>280</td>\n",
       "      <td>Medicare</td>\n",
       "      <td>Is a</td>\n",
       "    </tr>\n",
       "    <tr>\n",
       "      <th>...</th>\n",
       "      <td>...</td>\n",
       "      <td>...</td>\n",
       "      <td>...</td>\n",
       "      <td>...</td>\n",
       "      <td>...</td>\n",
       "    </tr>\n",
       "    <tr>\n",
       "      <th>1695762</th>\n",
       "      <td>3661632</td>\n",
       "      <td>Thrombocytopenia due to Severe acute respirato...</td>\n",
       "      <td>37311061</td>\n",
       "      <td>COVID-19</td>\n",
       "      <td>Is a</td>\n",
       "    </tr>\n",
       "    <tr>\n",
       "      <th>1695763</th>\n",
       "      <td>3655975</td>\n",
       "      <td>Sepsis due to disease caused by Severe acute r...</td>\n",
       "      <td>37311061</td>\n",
       "      <td>COVID-19</td>\n",
       "      <td>Is a</td>\n",
       "    </tr>\n",
       "    <tr>\n",
       "      <th>1695764</th>\n",
       "      <td>3661748</td>\n",
       "      <td>Acute kidney injury due to disease caused by S...</td>\n",
       "      <td>37311061</td>\n",
       "      <td>COVID-19</td>\n",
       "      <td>Is a</td>\n",
       "    </tr>\n",
       "    <tr>\n",
       "      <th>1695765</th>\n",
       "      <td>3655976</td>\n",
       "      <td>Acute hypoxemic respiratory failure due to dis...</td>\n",
       "      <td>37311061</td>\n",
       "      <td>COVID-19</td>\n",
       "      <td>Is a</td>\n",
       "    </tr>\n",
       "    <tr>\n",
       "      <th>1695766</th>\n",
       "      <td>3655977</td>\n",
       "      <td>Rhabdomyolysis due to disease caused by Severe...</td>\n",
       "      <td>37311061</td>\n",
       "      <td>COVID-19</td>\n",
       "      <td>Is a</td>\n",
       "    </tr>\n",
       "  </tbody>\n",
       "</table>\n",
       "<p>1695767 rows × 5 columns</p>\n",
       "</div>"
      ],
      "text/plain": [
       "         concept_id_1                                     concept_name_x  \\\n",
       "0                 281                              Medicare Managed Care   \n",
       "1                 282     Medicare Health Maintenance Organization (HMO)   \n",
       "2                 283     Medicare Preferred Provider Organization (PPO)   \n",
       "3                 284                    Medicare Point of Service (POS)   \n",
       "4                 285                          Medicare Non-managed Care   \n",
       "...               ...                                                ...   \n",
       "1695762       3661632  Thrombocytopenia due to Severe acute respirato...   \n",
       "1695763       3655975  Sepsis due to disease caused by Severe acute r...   \n",
       "1695764       3661748  Acute kidney injury due to disease caused by S...   \n",
       "1695765       3655976  Acute hypoxemic respiratory failure due to dis...   \n",
       "1695766       3655977  Rhabdomyolysis due to disease caused by Severe...   \n",
       "\n",
       "         concept_id_2         concept_name_y relationship_id  \n",
       "0                 280               Medicare            Is a  \n",
       "1                 281  Medicare Managed Care            Is a  \n",
       "2                 281  Medicare Managed Care            Is a  \n",
       "3                 281  Medicare Managed Care            Is a  \n",
       "4                 280               Medicare            Is a  \n",
       "...               ...                    ...             ...  \n",
       "1695762      37311061               COVID-19            Is a  \n",
       "1695763      37311061               COVID-19            Is a  \n",
       "1695764      37311061               COVID-19            Is a  \n",
       "1695765      37311061               COVID-19            Is a  \n",
       "1695766      37311061               COVID-19            Is a  \n",
       "\n",
       "[1695767 rows x 5 columns]"
      ]
     },
     "execution_count": 11,
     "metadata": {},
     "output_type": "execute_result"
    }
   ],
   "source": [
    "df_for_relationships"
   ]
  },
  {
   "cell_type": "code",
   "execution_count": 18,
   "metadata": {},
   "outputs": [],
   "source": [
    "#function from https://gitlab.com/agarwal.khushbu/Snomed2Vec/-/blob/master/src/embedding_learning/poincare.py\n",
    "def load_snomed_isa_relations(path):\n",
    "    print('Parsing %s' % path)\n",
    "    relations = []\n",
    "    t_start = datetime.now()\n",
    "    isa_relations = pd.read_csv(path, delimiter='|', usecols=['SCUI1', 'SCUI2']) \n",
    "    for row_id, row in isa_relations.iterrows():\n",
    "        relations.append((row['SCUI2'], row['SCUI1']))\n",
    "    return relations\n"
   ]
  },
  {
   "cell_type": "code",
   "execution_count": 12,
   "metadata": {},
   "outputs": [],
   "source": [
    "relations=[]\n",
    "for row_id, row in df_for_relationships.iterrows():\n",
    "    relations.append((row['concept_name_x'], row['concept_name_y']))\n"
   ]
  },
  {
   "cell_type": "code",
   "execution_count": 158,
   "metadata": {},
   "outputs": [],
   "source": [
    "short_rel_list=relations[0:100]"
   ]
  },
  {
   "cell_type": "code",
   "execution_count": 160,
   "metadata": {},
   "outputs": [],
   "source": [
    "from gensim.models.poincare import PoincareModel"
   ]
  },
  {
   "cell_type": "code",
   "execution_count": 161,
   "metadata": {},
   "outputs": [],
   "source": [
    "model = PoincareModel(short_rel_list, size=2, burn_in=10)\n",
    "model.train(epochs=90)"
   ]
  },
  {
   "cell_type": "code",
   "execution_count": 162,
   "metadata": {},
   "outputs": [
    {
     "data": {
      "image/png": "[encoded data removed]",
      "text/plain": [
       "<Figure size 432x288 with 1 Axes>"
      ]
     },
     "metadata": {
      "needs_background": "light"
     },
     "output_type": "display_data"
    }
   ],
   "source": [
    "plt.xlim(-1, 1)\n",
    "plt.ylim(-1, 1)\n",
    "plt.axis('off')\n",
    "plt.plot(model.kv.vectors[:,0], model.kv.vectors[:,1], 'bo')\n",
    "plt.show()"
   ]
  },
  {
   "cell_type": "code",
   "execution_count": 17,
   "metadata": {},
   "outputs": [
    {
     "data": {
      "text/plain": [
       "0.1886781472040569"
      ]
     },
     "execution_count": 17,
     "metadata": {},
     "output_type": "execute_result"
    }
   ],
   "source": [
    "model.kv.distance('Medicare Managed Care', 'Medicare')"
   ]
  },
  {
   "cell_type": "code",
   "execution_count": 18,
   "metadata": {},
   "outputs": [
    {
     "data": {
      "text/plain": [
       "0.38656610118505175"
      ]
     },
     "execution_count": 18,
     "metadata": {},
     "output_type": "execute_result"
    }
   ],
   "source": [
    "model.kv.distance('Medicare Managed Care', 'Medicaid')"
   ]
  },
  {
   "cell_type": "code",
   "execution_count": 19,
   "metadata": {},
   "outputs": [
    {
     "data": {
      "text/plain": [
       "0.47924797147963577"
      ]
     },
     "execution_count": 19,
     "metadata": {},
     "output_type": "execute_result"
    }
   ],
   "source": [
    "model.kv.distance('Medicare Managed Care',  'Indian Health Service (IHS) Program')"
   ]
  },
  {
   "cell_type": "code",
   "execution_count": 20,
   "metadata": {},
   "outputs": [
    {
     "data": {
      "text/plain": [
       "array([0.        , 0.18867815, 0.18391739, 0.09908007, 0.17915961,\n",
       "       0.2750845 , 0.26616932, 0.29500101, 0.26653198, 0.3986695 ,\n",
       "       0.3865661 , 0.43026233, 0.43174794, 0.36152676, 0.37085113,\n",
       "       0.43253424, 0.4280794 , 0.45899275, 0.40382116, 0.46435682,\n",
       "       0.4573117 , 0.43554984, 0.39374453, 0.37273835, 0.36948459,\n",
       "       0.3316653 , 0.43724171, 0.43221784, 0.47924797, 0.41255495,\n",
       "       0.46770485, 0.28188412, 0.45292896, 0.43334508, 0.42444369,\n",
       "       0.35603586, 0.36655174, 0.38815897, 0.4281397 , 0.39008933,\n",
       "       0.3552735 , 0.41372573, 0.39880703, 0.39066621, 0.34968392,\n",
       "       0.36727441, 0.39229325, 0.36081347, 0.36017617, 0.41944751,\n",
       "       0.45288487, 0.36201167, 0.34269402, 0.43058397, 0.38675412,\n",
       "       0.48090447, 0.55315904, 0.49797091, 0.34587641, 0.29692686,\n",
       "       0.32079828, 0.34833612, 0.32729687, 0.3960785 , 0.34118111,\n",
       "       0.40507598, 0.44879299, 0.3197717 , 0.31254302, 0.36603029,\n",
       "       0.39418582, 0.37500198, 0.34727527, 0.30940276, 0.41989024,\n",
       "       0.39000837, 0.36114731, 0.3635975 , 0.11514327, 0.32933203,\n",
       "       0.17664564, 0.23688902, 0.2569091 , 0.41722342, 0.38348374,\n",
       "       0.45231346, 0.38930745, 0.4184549 , 0.46690297, 0.41753079,\n",
       "       0.41216178, 0.50516917, 0.44534003, 0.41921495, 0.41638986,\n",
       "       0.41491162, 0.43125558, 0.46989238, 0.46304464, 0.46369498,\n",
       "       0.41631496, 0.46779861, 0.51285506, 0.49770329, 0.45151499,\n",
       "       0.49201415, 0.48908689, 0.48201866, 0.47166479, 0.55675286,\n",
       "       0.51854939, 0.55166964, 0.60477753, 0.44271989])"
      ]
     },
     "execution_count": 20,
     "metadata": {},
     "output_type": "execute_result"
    }
   ],
   "source": [
    "model.kv.distances('Medicare Managed Care')"
   ]
  },
  {
   "cell_type": "code",
   "execution_count": 22,
   "metadata": {},
   "outputs": [
    {
     "data": {
      "text/plain": [
       "array([-0.0022869 ,  0.00299112, -0.00200958,  0.00632274, -0.06524908,\n",
       "       -0.02405351, -0.00260083,  0.00497127,  0.01154094, -0.00937415,\n",
       "        0.00556683, -0.00606866,  0.02628655, -0.01193371, -0.00951324,\n",
       "        0.00805059, -0.00735776, -0.01145834,  0.04951939,  0.00223066,\n",
       "        0.03224431,  0.04217088, -0.01275819,  0.00283751, -0.02954229,\n",
       "       -0.0195231 , -0.00624522, -0.00437425, -0.00711213, -0.02447589,\n",
       "       -0.01767445,  0.0045415 , -0.02384775, -0.02704021, -0.00658045,\n",
       "        0.01424553, -0.02972235, -0.01297174,  0.01730533, -0.01068032,\n",
       "        0.03754758,  0.00071898, -0.02625507, -0.00630448,  0.01031059,\n",
       "       -0.00088424, -0.03837844, -0.01650722, -0.00062512,  0.0032949 ])"
      ]
     },
     "execution_count": 22,
     "metadata": {},
     "output_type": "execute_result"
    }
   ],
   "source": [
    "model.kv.get_vector('Medicare Managed Care')"
   ]
  },
  {
   "cell_type": "code",
   "execution_count": 37,
   "metadata": {},
   "outputs": [
    {
     "data": {
      "text/plain": [
       "114"
      ]
     },
     "execution_count": 37,
     "metadata": {},
     "output_type": "execute_result"
    }
   ],
   "source": [
    "len(model.kv.vectors)"
   ]
  },
  {
   "cell_type": "code",
   "execution_count": 125,
   "metadata": {},
   "outputs": [
    {
     "data": {
      "text/plain": [
       "-0.7448468474910521"
      ]
     },
     "execution_count": 125,
     "metadata": {},
     "output_type": "execute_result"
    }
   ],
   "source": [
    "model.kv.vectors[1050,0]"
   ]
  },
  {
   "cell_type": "code",
   "execution_count": 126,
   "metadata": {},
   "outputs": [
    {
     "data": {
      "text/plain": [
       "0.19723322512481162"
      ]
     },
     "execution_count": 126,
     "metadata": {},
     "output_type": "execute_result"
    }
   ],
   "source": [
    "model.kv.vectors[1050,1]"
   ]
  },
  {
   "cell_type": "markdown",
   "metadata": {},
   "source": [
    "#### Implementation of the visualisation from https://musella.github.io/2018/11/27/poincare-embedding-amazon.html\n"
   ]
  },
  {
   "cell_type": "code",
   "execution_count": 114,
   "metadata": {},
   "outputs": [],
   "source": [
    "from bokeh.io import output_file, output_notebook, show\n",
    "from bokeh.plotting import figure\n",
    "from bokeh.transform import linear_cmap\n",
    "from bokeh.util.hex import hexbin\n",
    "from bokeh.models import HoverTool\n",
    "from bokeh import colors\n",
    "\n",
    "\n",
    "p = figure(title=\"Snomed 2D embedding after 30 epochs\", #tools=\"wheel_zoom,pan,reset\",\n",
    "     match_aspect=True, background_fill_color='#440154')\n",
    "p.grid.visible = False\n",
    "\n",
    "bins = p.hexbin(model.kv.vectors[:,0],model.kv.vectors[:,1], 0.03, hover_color=\"yellow\", hover_alpha=0.3)\n"
   ]
  },
  {
   "cell_type": "code",
   "execution_count": 115,
   "metadata": {},
   "outputs": [],
   "source": [
    "show(p)"
   ]
  },
  {
   "cell_type": "markdown",
   "metadata": {},
   "source": [
    "#### Give names to the nodes "
   ]
  },
  {
   "cell_type": "code",
   "execution_count": 163,
   "metadata": {},
   "outputs": [],
   "source": [
    "import numpy as np\n",
    "relat_xy=np.vstack([ model.kv.get_vector(str(x[0])) for x in short_rel_list])"
   ]
  },
  {
   "cell_type": "code",
   "execution_count": 167,
   "metadata": {},
   "outputs": [
    {
     "data": {
      "image/png": "[encoded data removed]",
      "text/plain": [
       "<Figure size 432x288 with 1 Axes>"
      ]
     },
     "metadata": {
      "needs_background": "light"
     },
     "output_type": "display_data"
    }
   ],
   "source": [
    "plt.xlim(-1, 1)\n",
    "plt.ylim(-1, 1)\n",
    "plt.axis('off')\n",
    "\n",
    "for x in range(relat_xy.shape[0]):\n",
    "    plt.annotate([x], (relat_xy[x,0], relat_xy[x,1]),\n",
    "                 bbox={\"fc\":\"white\", \"alpha\":0.9})\n",
    "\n",
    "plt.show()"
   ]
  },
  {
   "cell_type": "code",
   "execution_count": 171,
   "metadata": {},
   "outputs": [
    {
     "data": {
      "text/plain": [
       "1.6386699445437392"
      ]
     },
     "execution_count": 171,
     "metadata": {},
     "output_type": "execute_result"
    }
   ],
   "source": [
    "model.kv.distance(short_rel_list[89][0], short_rel_list[83][0])"
   ]
  },
  {
   "cell_type": "code",
   "execution_count": 172,
   "metadata": {},
   "outputs": [
    {
     "data": {
      "text/plain": [
       "0.6575455136988542"
      ]
     },
     "execution_count": 172,
     "metadata": {},
     "output_type": "execute_result"
    }
   ],
   "source": [
    "model.kv.distance(short_rel_list[81][0], short_rel_list[80][0])"
   ]
  },
  {
   "cell_type": "code",
   "execution_count": 173,
   "metadata": {},
   "outputs": [
    {
     "data": {
      "text/plain": [
       "3.954464421586513"
      ]
     },
     "execution_count": 173,
     "metadata": {},
     "output_type": "execute_result"
    }
   ],
   "source": [
    "model.kv.distance(short_rel_list[89][0], short_rel_list[94][0])"
   ]
  },
  {
   "cell_type": "code",
   "execution_count": 174,
   "metadata": {},
   "outputs": [
    {
     "data": {
      "text/plain": [
       "1.8291542825779226"
      ]
     },
     "execution_count": 174,
     "metadata": {},
     "output_type": "execute_result"
    }
   ],
   "source": [
    "model.kv.distance(short_rel_list[71][0], short_rel_list[67][0])"
   ]
  },
  {
   "cell_type": "code",
   "execution_count": 175,
   "metadata": {},
   "outputs": [
    {
     "data": {
      "text/plain": [
       "1.6633450678244939"
      ]
     },
     "execution_count": 175,
     "metadata": {},
     "output_type": "execute_result"
    }
   ],
   "source": [
    "model.kv.distance(short_rel_list[71][0], short_rel_list[73][0])"
   ]
  }
 ],
 "metadata": {
  "kernelspec": {
   "display_name": "Python 3.8.8 ('base')",
   "language": "python",
   "name": "python3"
  },
  "language_info": {
   "codemirror_mode": {
    "name": "ipython",
    "version": 3
   },
   "file_extension": ".py",
   "mimetype": "text/x-python",
   "name": "python",
   "nbconvert_exporter": "python",
   "pygments_lexer": "ipython3",
   "version": "3.8.8"
  },
  "orig_nbformat": 4,
  "vscode": {
   "interpreter": {
    "hash": "0d9f4de9683cfd3ae83f052b72a6177cb56793a14e04c16f5a78e2b56390f02b"
   }
  }
 },
 "nbformat": 4,
 "nbformat_minor": 2
}
