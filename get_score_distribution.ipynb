{
 "cells": [
  {
   "cell_type": "code",
   "execution_count": 7,
   "metadata": {},
   "outputs": [],
   "source": [
    "import pandas as pd\n",
    "import seaborn as sns\n",
    "import matplotlib.pyplot as plt\n",
    "import numpy as np"
   ]
  },
  {
   "cell_type": "code",
   "execution_count": 8,
   "metadata": {},
   "outputs": [],
   "source": [
    "#read excel\n",
    "df = pd.read_excel('/workspaces/master_thesis/Master_thesis_results_1806_prefilled (2).xlsx', sheet_name='Sheet1')"
   ]
  },
  {
   "cell_type": "code",
   "execution_count": 9,
   "metadata": {},
   "outputs": [],
   "source": [
    "#delete last raw\n",
    "df = df[:-1]"
   ]
  },
  {
   "cell_type": "code",
   "execution_count": 14,
   "metadata": {},
   "outputs": [
    {
     "data": {
      "text/html": [
       "<div>\n",
       "<style scoped>\n",
       "    .dataframe tbody tr th:only-of-type {\n",
       "        vertical-align: middle;\n",
       "    }\n",
       "\n",
       "    .dataframe tbody tr th {\n",
       "        vertical-align: top;\n",
       "    }\n",
       "\n",
       "    .dataframe thead th {\n",
       "        text-align: right;\n",
       "    }\n",
       "</style>\n",
       "<table border=\"1\" class=\"dataframe\">\n",
       "  <thead>\n",
       "    <tr style=\"text-align: right;\">\n",
       "      <th></th>\n",
       "      <th>Source</th>\n",
       "      <th>Poincare_concept_id</th>\n",
       "      <th>Poincare_concept_name</th>\n",
       "      <th>Score</th>\n",
       "      <th>Poincare_domain_id</th>\n",
       "      <th>Poincare_score</th>\n",
       "      <th>DeepWalk_concept_id</th>\n",
       "      <th>DeepWalk_concept_name</th>\n",
       "      <th>Unnamed: 8</th>\n",
       "      <th>DeepWalk_domain_id</th>\n",
       "      <th>DeepWalk_score</th>\n",
       "      <th>TF-IDF_concept_id</th>\n",
       "      <th>TF-IDF_concept_name</th>\n",
       "      <th>Unnamed: 13</th>\n",
       "      <th>TF-IDF_domain_id</th>\n",
       "      <th>TF-IDF_score</th>\n",
       "      <th>Unnamed: 16</th>\n",
       "      <th>Unnamed: 17</th>\n",
       "      <th>Unnamed: 18</th>\n",
       "    </tr>\n",
       "  </thead>\n",
       "  <tbody>\n",
       "    <tr>\n",
       "      <th>0</th>\n",
       "      <td>What artery was this detected at?</td>\n",
       "      <td>4114166.0</td>\n",
       "      <td>Systemic arterial finding</td>\n",
       "      <td>4.0</td>\n",
       "      <td>Condition</td>\n",
       "      <td>0.603746</td>\n",
       "      <td>4114166.0</td>\n",
       "      <td>Systemic arterial finding</td>\n",
       "      <td>4.0</td>\n",
       "      <td>Condition</td>\n",
       "      <td>0.875879</td>\n",
       "      <td>4219729.0</td>\n",
       "      <td>ability to detect odor</td>\n",
       "      <td>0.0</td>\n",
       "      <td>Observation</td>\n",
       "      <td>0.640942</td>\n",
       "      <td>NaN</td>\n",
       "      <td>NaN</td>\n",
       "      <td>NaN</td>\n",
       "    </tr>\n",
       "    <tr>\n",
       "      <th>1</th>\n",
       "      <td>What artery was this detected at?</td>\n",
       "      <td>4042836.0</td>\n",
       "      <td>Disorder of head</td>\n",
       "      <td>0.0</td>\n",
       "      <td>Condition</td>\n",
       "      <td>0.732165</td>\n",
       "      <td>4095634.0</td>\n",
       "      <td>Venous finding</td>\n",
       "      <td>3.0</td>\n",
       "      <td>Condition</td>\n",
       "      <td>0.842248</td>\n",
       "      <td>4210550.0</td>\n",
       "      <td>detect - error detection</td>\n",
       "      <td>0.0</td>\n",
       "      <td>Measurement</td>\n",
       "      <td>0.635013</td>\n",
       "      <td>5.0</td>\n",
       "      <td>NaN</td>\n",
       "      <td>This color represents a perfect match. The con...</td>\n",
       "    </tr>\n",
       "    <tr>\n",
       "      <th>2</th>\n",
       "      <td>What artery was this detected at?</td>\n",
       "      <td>321887.0</td>\n",
       "      <td>Disorder of artery</td>\n",
       "      <td>4.0</td>\n",
       "      <td>Condition</td>\n",
       "      <td>0.737198</td>\n",
       "      <td>4095631.0</td>\n",
       "      <td>Arterial finding</td>\n",
       "      <td>4.0</td>\n",
       "      <td>Condition</td>\n",
       "      <td>0.833645</td>\n",
       "      <td>4162819.0</td>\n",
       "      <td>toxoplasma nucleic acid detect</td>\n",
       "      <td>0.0</td>\n",
       "      <td>Synonym</td>\n",
       "      <td>0.600570</td>\n",
       "      <td>4.0</td>\n",
       "      <td>NaN</td>\n",
       "      <td>This color represents a 50/50 match. The conce...</td>\n",
       "    </tr>\n",
       "    <tr>\n",
       "      <th>3</th>\n",
       "      <td>What artery was this detected at?</td>\n",
       "      <td>321052.0</td>\n",
       "      <td>Peripheral vascular disease</td>\n",
       "      <td>4.0</td>\n",
       "      <td>Condition</td>\n",
       "      <td>0.739125</td>\n",
       "      <td>40484044.0</td>\n",
       "      <td>Surgically constructed radioulnar arteriovenou...</td>\n",
       "      <td>3.0</td>\n",
       "      <td>Condition</td>\n",
       "      <td>0.830968</td>\n",
       "      <td>4134741.0</td>\n",
       "      <td>meningococcal nucl acid detect</td>\n",
       "      <td>0.0</td>\n",
       "      <td>Synonym</td>\n",
       "      <td>0.532636</td>\n",
       "      <td>3.0</td>\n",
       "      <td>NaN</td>\n",
       "      <td>This color represents an off-target match that...</td>\n",
       "    </tr>\n",
       "    <tr>\n",
       "      <th>4</th>\n",
       "      <td>What artery was this detected at?</td>\n",
       "      <td>4115390.0</td>\n",
       "      <td>Mediastinal finding</td>\n",
       "      <td>0.0</td>\n",
       "      <td>Condition</td>\n",
       "      <td>0.758339</td>\n",
       "      <td>4207595.0</td>\n",
       "      <td>Surgically constructed ulnar to cephalic arter...</td>\n",
       "      <td>3.0</td>\n",
       "      <td>Condition</td>\n",
       "      <td>0.824887</td>\n",
       "      <td>40483592.0</td>\n",
       "      <td>fatty acid profile to detect peroxisomal defect</td>\n",
       "      <td>0.0</td>\n",
       "      <td>Measurement</td>\n",
       "      <td>0.492036</td>\n",
       "      <td>0.0</td>\n",
       "      <td>NaN</td>\n",
       "      <td>This color represents a wrong match. The conce...</td>\n",
       "    </tr>\n",
       "    <tr>\n",
       "      <th>...</th>\n",
       "      <td>...</td>\n",
       "      <td>...</td>\n",
       "      <td>...</td>\n",
       "      <td>...</td>\n",
       "      <td>...</td>\n",
       "      <td>...</td>\n",
       "      <td>...</td>\n",
       "      <td>...</td>\n",
       "      <td>...</td>\n",
       "      <td>...</td>\n",
       "      <td>...</td>\n",
       "      <td>...</td>\n",
       "      <td>...</td>\n",
       "      <td>...</td>\n",
       "      <td>...</td>\n",
       "      <td>...</td>\n",
       "      <td>...</td>\n",
       "      <td>...</td>\n",
       "      <td>...</td>\n",
       "    </tr>\n",
       "    <tr>\n",
       "      <th>90</th>\n",
       "      <td>Sclerosis of the mitral valve</td>\n",
       "      <td>4048213.0</td>\n",
       "      <td>Heart valve stenosis and regurgitation</td>\n",
       "      <td>3.0</td>\n",
       "      <td>Condition</td>\n",
       "      <td>1.459595</td>\n",
       "      <td>4281749.0</td>\n",
       "      <td>Heart valve disorder</td>\n",
       "      <td>4.0</td>\n",
       "      <td>Condition</td>\n",
       "      <td>0.938245</td>\n",
       "      <td>4220765.0</td>\n",
       "      <td>mitral valve sclerosis</td>\n",
       "      <td>5.0</td>\n",
       "      <td>Condition</td>\n",
       "      <td>1.000000</td>\n",
       "      <td>NaN</td>\n",
       "      <td>NaN</td>\n",
       "      <td>NaN</td>\n",
       "    </tr>\n",
       "    <tr>\n",
       "      <th>91</th>\n",
       "      <td>Sclerosis of the mitral valve</td>\n",
       "      <td>4189343.0</td>\n",
       "      <td>Aortic valve stenosis</td>\n",
       "      <td>3.0</td>\n",
       "      <td>Condition</td>\n",
       "      <td>1.467915</td>\n",
       "      <td>319843.0</td>\n",
       "      <td>Mitral valve disorder</td>\n",
       "      <td>4.0</td>\n",
       "      <td>Condition</td>\n",
       "      <td>0.910050</td>\n",
       "      <td>4237831.0</td>\n",
       "      <td>mitral valve</td>\n",
       "      <td>4.0</td>\n",
       "      <td>Synonym</td>\n",
       "      <td>0.759840</td>\n",
       "      <td>NaN</td>\n",
       "      <td>NaN</td>\n",
       "      <td>NaN</td>\n",
       "    </tr>\n",
       "    <tr>\n",
       "      <th>92</th>\n",
       "      <td>Sclerosis of the mitral valve</td>\n",
       "      <td>4158911.0</td>\n",
       "      <td>Non-rheumatic heart valve disorder</td>\n",
       "      <td>4.0</td>\n",
       "      <td>Condition</td>\n",
       "      <td>1.501683</td>\n",
       "      <td>4230774.0</td>\n",
       "      <td>Heart valve regurgitation</td>\n",
       "      <td>3.0</td>\n",
       "      <td>Condition</td>\n",
       "      <td>0.904680</td>\n",
       "      <td>319843.0</td>\n",
       "      <td>mitral valve disorder</td>\n",
       "      <td>4.0</td>\n",
       "      <td>Condition</td>\n",
       "      <td>0.717271</td>\n",
       "      <td>NaN</td>\n",
       "      <td>NaN</td>\n",
       "      <td>NaN</td>\n",
       "    </tr>\n",
       "    <tr>\n",
       "      <th>93</th>\n",
       "      <td>Sclerosis of the mitral valve</td>\n",
       "      <td>315273.0</td>\n",
       "      <td>Mitral valve stenosis</td>\n",
       "      <td>4.0</td>\n",
       "      <td>Condition</td>\n",
       "      <td>1.530830</td>\n",
       "      <td>40491478.0</td>\n",
       "      <td>Abnormality of aortic valve</td>\n",
       "      <td>3.0</td>\n",
       "      <td>Condition</td>\n",
       "      <td>0.904239</td>\n",
       "      <td>4117129.0</td>\n",
       "      <td>mitral valve finding</td>\n",
       "      <td>4.0</td>\n",
       "      <td>Condition</td>\n",
       "      <td>0.705246</td>\n",
       "      <td>NaN</td>\n",
       "      <td>NaN</td>\n",
       "      <td>NaN</td>\n",
       "    </tr>\n",
       "    <tr>\n",
       "      <th>94</th>\n",
       "      <td>Sclerosis of the mitral valve</td>\n",
       "      <td>314054.0</td>\n",
       "      <td>Aortic valve disorder</td>\n",
       "      <td>3.0</td>\n",
       "      <td>Condition</td>\n",
       "      <td>1.574363</td>\n",
       "      <td>4158911.0</td>\n",
       "      <td>Non-rheumatic heart valve disorder</td>\n",
       "      <td>4.0</td>\n",
       "      <td>Condition</td>\n",
       "      <td>0.899443</td>\n",
       "      <td>4112728.0</td>\n",
       "      <td>entire mitral valve</td>\n",
       "      <td>3.0</td>\n",
       "      <td>Spec Anatomic Site</td>\n",
       "      <td>0.695122</td>\n",
       "      <td>NaN</td>\n",
       "      <td>NaN</td>\n",
       "      <td>NaN</td>\n",
       "    </tr>\n",
       "  </tbody>\n",
       "</table>\n",
       "<p>95 rows × 19 columns</p>\n",
       "</div>"
      ],
      "text/plain": [
       "                               Source  Poincare_concept_id  \\\n",
       "0   What artery was this detected at?            4114166.0   \n",
       "1   What artery was this detected at?            4042836.0   \n",
       "2   What artery was this detected at?             321887.0   \n",
       "3   What artery was this detected at?             321052.0   \n",
       "4   What artery was this detected at?            4115390.0   \n",
       "..                                ...                  ...   \n",
       "90      Sclerosis of the mitral valve            4048213.0   \n",
       "91      Sclerosis of the mitral valve            4189343.0   \n",
       "92      Sclerosis of the mitral valve            4158911.0   \n",
       "93      Sclerosis of the mitral valve             315273.0   \n",
       "94      Sclerosis of the mitral valve             314054.0   \n",
       "\n",
       "                     Poincare_concept_name  Score Poincare_domain_id  \\\n",
       "0                Systemic arterial finding    4.0          Condition   \n",
       "1                         Disorder of head    0.0          Condition   \n",
       "2                       Disorder of artery    4.0          Condition   \n",
       "3              Peripheral vascular disease    4.0          Condition   \n",
       "4                      Mediastinal finding    0.0          Condition   \n",
       "..                                     ...    ...                ...   \n",
       "90  Heart valve stenosis and regurgitation    3.0          Condition   \n",
       "91                   Aortic valve stenosis    3.0          Condition   \n",
       "92      Non-rheumatic heart valve disorder    4.0          Condition   \n",
       "93                   Mitral valve stenosis    4.0          Condition   \n",
       "94                   Aortic valve disorder    3.0          Condition   \n",
       "\n",
       "    Poincare_score  DeepWalk_concept_id  \\\n",
       "0         0.603746            4114166.0   \n",
       "1         0.732165            4095634.0   \n",
       "2         0.737198            4095631.0   \n",
       "3         0.739125           40484044.0   \n",
       "4         0.758339            4207595.0   \n",
       "..             ...                  ...   \n",
       "90        1.459595            4281749.0   \n",
       "91        1.467915             319843.0   \n",
       "92        1.501683            4230774.0   \n",
       "93        1.530830           40491478.0   \n",
       "94        1.574363            4158911.0   \n",
       "\n",
       "                                DeepWalk_concept_name  Unnamed: 8  \\\n",
       "0                           Systemic arterial finding         4.0   \n",
       "1                                      Venous finding         3.0   \n",
       "2                                    Arterial finding         4.0   \n",
       "3   Surgically constructed radioulnar arteriovenou...         3.0   \n",
       "4   Surgically constructed ulnar to cephalic arter...         3.0   \n",
       "..                                                ...         ...   \n",
       "90                               Heart valve disorder         4.0   \n",
       "91                              Mitral valve disorder         4.0   \n",
       "92                          Heart valve regurgitation         3.0   \n",
       "93                        Abnormality of aortic valve         3.0   \n",
       "94                 Non-rheumatic heart valve disorder         4.0   \n",
       "\n",
       "   DeepWalk_domain_id  DeepWalk_score  TF-IDF_concept_id  \\\n",
       "0           Condition        0.875879          4219729.0   \n",
       "1           Condition        0.842248          4210550.0   \n",
       "2           Condition        0.833645          4162819.0   \n",
       "3           Condition        0.830968          4134741.0   \n",
       "4           Condition        0.824887         40483592.0   \n",
       "..                ...             ...                ...   \n",
       "90          Condition        0.938245          4220765.0   \n",
       "91          Condition        0.910050          4237831.0   \n",
       "92          Condition        0.904680           319843.0   \n",
       "93          Condition        0.904239          4117129.0   \n",
       "94          Condition        0.899443          4112728.0   \n",
       "\n",
       "                                TF-IDF_concept_name  Unnamed: 13  \\\n",
       "0                            ability to detect odor          0.0   \n",
       "1                          detect - error detection          0.0   \n",
       "2                    toxoplasma nucleic acid detect          0.0   \n",
       "3                    meningococcal nucl acid detect          0.0   \n",
       "4   fatty acid profile to detect peroxisomal defect          0.0   \n",
       "..                                              ...          ...   \n",
       "90                           mitral valve sclerosis          5.0   \n",
       "91                                     mitral valve          4.0   \n",
       "92                            mitral valve disorder          4.0   \n",
       "93                             mitral valve finding          4.0   \n",
       "94                              entire mitral valve          3.0   \n",
       "\n",
       "      TF-IDF_domain_id  TF-IDF_score  Unnamed: 16  Unnamed: 17  \\\n",
       "0          Observation      0.640942          NaN          NaN   \n",
       "1          Measurement      0.635013          5.0          NaN   \n",
       "2              Synonym      0.600570          4.0          NaN   \n",
       "3              Synonym      0.532636          3.0          NaN   \n",
       "4          Measurement      0.492036          0.0          NaN   \n",
       "..                 ...           ...          ...          ...   \n",
       "90           Condition      1.000000          NaN          NaN   \n",
       "91             Synonym      0.759840          NaN          NaN   \n",
       "92           Condition      0.717271          NaN          NaN   \n",
       "93           Condition      0.705246          NaN          NaN   \n",
       "94  Spec Anatomic Site      0.695122          NaN          NaN   \n",
       "\n",
       "                                          Unnamed: 18  \n",
       "0                                                 NaN  \n",
       "1   This color represents a perfect match. The con...  \n",
       "2   This color represents a 50/50 match. The conce...  \n",
       "3   This color represents an off-target match that...  \n",
       "4   This color represents a wrong match. The conce...  \n",
       "..                                                ...  \n",
       "90                                                NaN  \n",
       "91                                                NaN  \n",
       "92                                                NaN  \n",
       "93                                                NaN  \n",
       "94                                                NaN  \n",
       "\n",
       "[95 rows x 19 columns]"
      ]
     },
     "execution_count": 14,
     "metadata": {},
     "output_type": "execute_result"
    }
   ],
   "source": [
    "df"
   ]
  },
  {
   "cell_type": "code",
   "execution_count": 10,
   "metadata": {},
   "outputs": [],
   "source": [
    "poincare = df['Score'].to_list()\n",
    "deepwalk = df['Unnamed: 8'].to_list()\n",
    "tfidf = df['Unnamed: 13'].to_list()"
   ]
  },
  {
   "cell_type": "code",
   "execution_count": 22,
   "metadata": {},
   "outputs": [],
   "source": [
    "tfidf_similarity = df['TF-IDF_score'].to_list()\n",
    "deepwalk_similarity = df['DeepWalk_score'].to_list()\n",
    "poincare_similarity = df['Poincare_score'].to_list()"
   ]
  },
  {
   "cell_type": "code",
   "execution_count": 23,
   "metadata": {},
   "outputs": [
    {
     "data": {
      "image/png": "[encoded data removed]",
      "text/plain": [
       "<Figure size 720x432 with 1 Axes>"
      ]
     },
     "metadata": {
      "needs_background": "light"
     },
     "output_type": "display_data"
    }
   ],
   "source": [
    "# Create a DataFrame\n",
    "import pandas as pd\n",
    "data = pd.DataFrame({'Domain Expert Scores': tfidf, 'TF-IDF Similarity Score': tfidf_similarity})\n",
    "# Define colors for each TF-IDF score\n",
    "colors = {0: 'red', 3: 'orange', 4: 'lightgreen', 5: 'darkgreen'}\n",
    "\n",
    "\n",
    "# Plot the box plot\n",
    "plt.figure(figsize=(10, 6))\n",
    "sns.boxplot(x='Domain Expert Scores', y='TF-IDF Similarity Score', data=data, palette= colors)\n",
    "#plt.title('Distribution of Similarity Scores (Cosine Similarity) for Each Evaluation scores assigned by the domain expert')\n",
    "plt.show()"
   ]
  },
  {
   "cell_type": "code",
   "execution_count": 27,
   "metadata": {},
   "outputs": [
    {
     "data": {
      "image/png": "[encoded data removed]",
      "text/plain": [
       "<Figure size 720x432 with 1 Axes>"
      ]
     },
     "metadata": {
      "needs_background": "light"
     },
     "output_type": "display_data"
    }
   ],
   "source": [
    "data = pd.DataFrame({'Poincare Expert Scores': poincare, 'Poincare Similarity Score': poincare_similarity})\n",
    "# Define colors for each TF-IDF score\n",
    "colors = {0: 'red', 3: 'orange', 4: 'lightgreen', 5: 'darkgreen'}\n",
    "\n",
    "\n",
    "# Plot the box plot\n",
    "plt.figure(figsize=(10, 6))\n",
    "sns.boxplot(x='Poincare Expert Scores', y='Poincare Similarity Score', data=data, palette= colors)\n",
    "#plt.title('Distribution of Similarity Scores (Cosine Similarity) for Each Evaluation scores assigned by the domain expert')\n",
    "plt.show()"
   ]
  },
  {
   "cell_type": "code",
   "execution_count": 25,
   "metadata": {},
   "outputs": [
    {
     "data": {
      "image/png": "[encoded data removed]",
      "text/plain": [
       "<Figure size 720x432 with 1 Axes>"
      ]
     },
     "metadata": {
      "needs_background": "light"
     },
     "output_type": "display_data"
    }
   ],
   "source": [
    "data = pd.DataFrame({'DeepWalk Expert Scores': deepwalk, 'DeepWalk Similarity Score': deepwalk_similarity})\n",
    "# Define colors for each TF-IDF score\n",
    "colors = {0: 'red', 3: 'orange', 4: 'lightgreen', 5: 'darkgreen'}\n",
    "\n",
    "\n",
    "# Plot the box plot\n",
    "plt.figure(figsize=(10, 6))\n",
    "sns.boxplot(x='DeepWalk Expert Scores', y='DeepWalk Similarity Score', data=data, palette= colors)\n",
    "#plt.title('Distribution of Similarity Scores (Cosine Similarity) for Each Evaluation scores assigned by the domain expert')\n",
    "plt.show()"
   ]
  },
  {
   "cell_type": "code",
   "execution_count": null,
   "metadata": {},
   "outputs": [],
   "source": [
    "data = pd.DataFrame({'Scores': tfidf, 'Similarity Score': tfidf_similarity})\n",
    "# Define colors for each TF-IDF score\n",
    "colors = {0: 'red', 3: 'orange', 4: 'lightgreen', 5: 'darkgreen'}\n",
    "\n",
    "\n",
    "# Plot the box plot\n",
    "plt.figure(figsize=(10, 6))\n",
    "sns.boxplot(x='TF-IDF Scores', y='Similarity Score', data=data, palette= colors)\n",
    "#plt.title('Distribution of Similarity Scores (Cosine Similarity) for Each Evaluation scores assigned by the domain expert')\n",
    "plt.show()"
   ]
  },
  {
   "cell_type": "code",
   "execution_count": 16,
   "metadata": {},
   "outputs": [
    {
     "data": {
      "image/png": "[encoded data removed]",
      "text/plain": [
       "<Figure size 432x288 with 1 Axes>"
      ]
     },
     "metadata": {
      "needs_background": "light"
     },
     "output_type": "display_data"
    }
   ],
   "source": [
    "import matplotlib.pyplot as plt\n",
    "from scipy.stats import pearsonr\n",
    "\n",
    "# Calculate the Pearson correlation coefficient\n",
    "correlation, _ = pearsonr(tfidf, tfidf_similarity)\n",
    "\n",
    "# Plot the data\n",
    "plt.scatter(tfidf, tfidf_similarity, label=f'Correlation: {correlation:.2f}')\n",
    "plt.xlabel('TF-IDF Scores')\n",
    "plt.ylabel('Similarity Scores')\n",
    "plt.title('Correlation between TF-IDF Scores and Similarity Scores')\n",
    "plt.legend()\n",
    "plt.show()"
   ]
  },
  {
   "cell_type": "code",
   "execution_count": 31,
   "metadata": {},
   "outputs": [
    {
     "data": {
      "image/png": "[encoded data removed]",
      "text/plain": [
       "<Figure size 864x432 with 1 Axes>"
      ]
     },
     "metadata": {
      "needs_background": "light"
     },
     "output_type": "display_data"
    }
   ],
   "source": [
    "data = {\n",
    "    'Top Similarity Scores': poincare_similarity + deepwalk_similarity + tfidf_similarity,\n",
    "    'Method': ['Poincare']*len(poincare_similarity) + ['DeepWalk']*len(deepwalk_similarity) + ['TF-IDF']*len(tfidf_similarity)\n",
    "}\n",
    "\n",
    "df_plot = pd.DataFrame(data)\n",
    "\n",
    "colors = {'Poincare': 'pink', 'DeepWalk': 'blue', 'TF-IDF':'grey'}\n",
    "\n",
    "plt.figure(figsize=(12, 6))\n",
    "# Create a boxplot\n",
    "sns.boxplot(x='Method', y='Top Similarity Scores', data=df_plot , palette=colors)\n",
    "plt.xlabel('Method', fontweight='bold') \n",
    "#plt.title('Distribution of Top 5 Similarity Scores from Poincare, DeepWalk and TF-IDF of suggested SNOMED concepts for 19 selected HCHS medical phases')\n",
    "plt.show()"
   ]
  },
  {
   "cell_type": "code",
   "execution_count": 29,
   "metadata": {},
   "outputs": [
    {
     "data": {
      "image/png": "[encoded data removed]",
      "text/plain": [
       "<Figure size 432x288 with 1 Axes>"
      ]
     },
     "metadata": {
      "needs_background": "light"
     },
     "output_type": "display_data"
    }
   ],
   "source": [
    "data = {\n",
    "    'Expert Scores': poincare + deepwalk + tfidf,\n",
    "    'Method': ['Poincare']*len(poincare) + ['DeepWalk']*len(deepwalk) + ['TF-IDF']*len(tfidf)\n",
    "}\n",
    "\n",
    "df_plot_new = pd.DataFrame(data)\n",
    "\n",
    "\n",
    "# Create a boxplot\n",
    "sns.boxplot(x='Method', y='Expert Scores', data=df_plot_new , color='#a6cee3')\n",
    "#plt.title('Distribution of Top 5 Similarity Scores from Poincare, DeepWalk and TF-IDF of suggested SNOMED concepts for 19 selected HCHS medical phases')\n",
    "plt.show()"
   ]
  },
  {
   "cell_type": "code",
   "execution_count": 13,
   "metadata": {},
   "outputs": [
    {
     "data": {
      "image/png": "[encoded data removed]",
      "text/plain": [
       "<Figure size 864x432 with 1 Axes>"
      ]
     },
     "metadata": {
      "needs_background": "light"
     },
     "output_type": "display_data"
    }
   ],
   "source": [
    "# Function to calculate the percentage of occurrences for each score\n",
    "def calculate_percentage(scores):\n",
    "    percentages = []\n",
    "    for score in [0, 3, 4, 5]:\n",
    "        percentages.append(scores.count(score) / len(scores) * 100)\n",
    "    return percentages\n",
    "\n",
    "# Calculate the percentages\n",
    "poincare_percent = calculate_percentage(poincare)\n",
    "deepwalk_percent = calculate_percentage(deepwalk)\n",
    "tfidf_percent = calculate_percentage(tfidf)\n",
    "\n",
    "# Define the labels and colors\n",
    "labels = ['Mismatch', 'Weak Match', 'Partial Match', 'Perfect Match']\n",
    "colors = ['pink', 'blue', 'grey']\n",
    "\n",
    "# Set the bar width\n",
    "bar_width = 0.25\n",
    "# Set the figure size (width, height)\n",
    "plt.figure(figsize=(12, 6))\n",
    "\n",
    "# Set the positions for the bars\n",
    "r = np.arange(len(labels))\n",
    "# Create the bars\n",
    "plt.bar(r, poincare_percent, color='pink', width=bar_width, edgecolor='white', label='Poincare')\n",
    "plt.bar(r + bar_width, deepwalk_percent, color='blue', width=bar_width, edgecolor='white', label='DeepWalk')\n",
    "plt.bar(r + 2 * bar_width, tfidf_percent, color='grey', width=bar_width, edgecolor='white', label='TF-IDF')\n",
    "\n",
    "# Add labels and title\n",
    "plt.xlabel('Domain Expert Scores', fontweight='bold')\n",
    "plt.xticks(r + bar_width, labels)\n",
    "plt.ylabel('Percentage', fontweight='bold')\n",
    "\n",
    "# Create a legend\n",
    "plt.legend()\n",
    "\n",
    "# Show the plot\n",
    "plt.show()"
   ]
  },
  {
   "cell_type": "code",
   "execution_count": 20,
   "metadata": {},
   "outputs": [
    {
     "ename": "ValueError",
     "evalue": "shape mismatch: objects cannot be broadcast to a single shape.  Mismatch is between arg 0 with shape (4,) and arg 1 with shape (95,).",
     "output_type": "error",
     "traceback": [
      "\u001b[0;31m---------------------------------------------------------------------------\u001b[0m",
      "\u001b[0;31mValueError\u001b[0m                                Traceback (most recent call last)",
      "\u001b[1;32m/workspaces/master_thesis/get_score_distribution.ipynb Cell 14\u001b[0m in \u001b[0;36m<cell line: 22>\u001b[0;34m()\u001b[0m\n\u001b[1;32m     <a href='vscode-notebook-cell://dev-container%2B7b22686f737450617468223a222f686f6d652f6e757368612f70726f6a656374732f6d61737465725f746865736973222c226c6f63616c446f636b6572223a66616c73652c2273657474696e6773223a7b22686f7374223a227373683a2f2f69616d2d646f636b65722d677075227d2c22636f6e66696746696c65223a7b22246d6964223a312c2270617468223a222f686f6d652f6e757368612f70726f6a656374732f6d61737465725f7468657369732f2e646576636f6e7461696e65722f646576636f6e7461696e65722e6a736f6e222c22736368656d65223a227673636f64652d66696c65486f7374227d7d/workspaces/master_thesis/get_score_distribution.ipynb#X16sdnNjb2RlLXJlbW90ZQ%3D%3D?line=18'>19</a>\u001b[0m r \u001b[39m=\u001b[39m np\u001b[39m.\u001b[39marange(\u001b[39mlen\u001b[39m(labels))\n\u001b[1;32m     <a href='vscode-notebook-cell://dev-container%2B7b22686f737450617468223a222f686f6d652f6e757368612f70726f6a656374732f6d61737465725f746865736973222c226c6f63616c446f636b6572223a66616c73652c2273657474696e6773223a7b22686f7374223a227373683a2f2f69616d2d646f636b65722d677075227d2c22636f6e66696746696c65223a7b22246d6964223a312c2270617468223a222f686f6d652f6e757368612f70726f6a656374732f6d61737465725f7468657369732f2e646576636f6e7461696e65722f646576636f6e7461696e65722e6a736f6e222c22736368656d65223a227673636f64652d66696c65486f7374227d7d/workspaces/master_thesis/get_score_distribution.ipynb#X16sdnNjb2RlLXJlbW90ZQ%3D%3D?line=20'>21</a>\u001b[0m \u001b[39m# Create the bars\u001b[39;00m\n\u001b[0;32m---> <a href='vscode-notebook-cell://dev-container%2B7b22686f737450617468223a222f686f6d652f6e757368612f70726f6a656374732f6d61737465725f746865736973222c226c6f63616c446f636b6572223a66616c73652c2273657474696e6773223a7b22686f7374223a227373683a2f2f69616d2d646f636b65722d677075227d2c22636f6e66696746696c65223a7b22246d6964223a312c2270617468223a222f686f6d652f6e757368612f70726f6a656374732f6d61737465725f7468657369732f2e646576636f6e7461696e65722f646576636f6e7461696e65722e6a736f6e222c22736368656d65223a227673636f64652d66696c65486f7374227d7d/workspaces/master_thesis/get_score_distribution.ipynb#X16sdnNjb2RlLXJlbW90ZQ%3D%3D?line=21'>22</a>\u001b[0m plt\u001b[39m.\u001b[39;49mbar(r, poincare_percent, color\u001b[39m=\u001b[39;49m\u001b[39m'\u001b[39;49m\u001b[39mdarkgreen\u001b[39;49m\u001b[39m'\u001b[39;49m, width\u001b[39m=\u001b[39;49mbar_width, edgecolor\u001b[39m=\u001b[39;49m\u001b[39m'\u001b[39;49m\u001b[39mwhite\u001b[39;49m\u001b[39m'\u001b[39;49m, label\u001b[39m=\u001b[39;49m\u001b[39m'\u001b[39;49m\u001b[39mPoincare\u001b[39;49m\u001b[39m'\u001b[39;49m)\n\u001b[1;32m     <a href='vscode-notebook-cell://dev-container%2B7b22686f737450617468223a222f686f6d652f6e757368612f70726f6a656374732f6d61737465725f746865736973222c226c6f63616c446f636b6572223a66616c73652c2273657474696e6773223a7b22686f7374223a227373683a2f2f69616d2d646f636b65722d677075227d2c22636f6e66696746696c65223a7b22246d6964223a312c2270617468223a222f686f6d652f6e757368612f70726f6a656374732f6d61737465725f7468657369732f2e646576636f6e7461696e65722f646576636f6e7461696e65722e6a736f6e222c22736368656d65223a227673636f64652d66696c65486f7374227d7d/workspaces/master_thesis/get_score_distribution.ipynb#X16sdnNjb2RlLXJlbW90ZQ%3D%3D?line=22'>23</a>\u001b[0m plt\u001b[39m.\u001b[39mbar(r \u001b[39m+\u001b[39m bar_width, deepwalk_percent, color\u001b[39m=\u001b[39m\u001b[39m'\u001b[39m\u001b[39mlimegreen\u001b[39m\u001b[39m'\u001b[39m, width\u001b[39m=\u001b[39mbar_width, edgecolor\u001b[39m=\u001b[39m\u001b[39m'\u001b[39m\u001b[39mwhite\u001b[39m\u001b[39m'\u001b[39m, label\u001b[39m=\u001b[39m\u001b[39m'\u001b[39m\u001b[39mDeepWalk\u001b[39m\u001b[39m'\u001b[39m)\n\u001b[1;32m     <a href='vscode-notebook-cell://dev-container%2B7b22686f737450617468223a222f686f6d652f6e757368612f70726f6a656374732f6d61737465725f746865736973222c226c6f63616c446f636b6572223a66616c73652c2273657474696e6773223a7b22686f7374223a227373683a2f2f69616d2d646f636b65722d677075227d2c22636f6e66696746696c65223a7b22246d6964223a312c2270617468223a222f686f6d652f6e757368612f70726f6a656374732f6d61737465725f7468657369732f2e646576636f6e7461696e65722f646576636f6e7461696e65722e6a736f6e222c22736368656d65223a227673636f64652d66696c65486f7374227d7d/workspaces/master_thesis/get_score_distribution.ipynb#X16sdnNjb2RlLXJlbW90ZQ%3D%3D?line=23'>24</a>\u001b[0m plt\u001b[39m.\u001b[39mbar(r \u001b[39m+\u001b[39m \u001b[39m2\u001b[39m \u001b[39m*\u001b[39m bar_width, tfidf_percent, color\u001b[39m=\u001b[39m\u001b[39m'\u001b[39m\u001b[39morange\u001b[39m\u001b[39m'\u001b[39m, width\u001b[39m=\u001b[39mbar_width, edgecolor\u001b[39m=\u001b[39m\u001b[39m'\u001b[39m\u001b[39mwhite\u001b[39m\u001b[39m'\u001b[39m, label\u001b[39m=\u001b[39m\u001b[39m'\u001b[39m\u001b[39mTF-IDF\u001b[39m\u001b[39m'\u001b[39m)\n",
      "File \u001b[0;32m/opt/conda/lib/python3.8/site-packages/matplotlib/pyplot.py:2399\u001b[0m, in \u001b[0;36mbar\u001b[0;34m(x, height, width, bottom, align, data, **kwargs)\u001b[0m\n\u001b[1;32m   2395\u001b[0m \u001b[39m@_copy_docstring_and_deprecators\u001b[39m(Axes\u001b[39m.\u001b[39mbar)\n\u001b[1;32m   2396\u001b[0m \u001b[39mdef\u001b[39;00m \u001b[39mbar\u001b[39m(\n\u001b[1;32m   2397\u001b[0m         x, height, width\u001b[39m=\u001b[39m\u001b[39m0.8\u001b[39m, bottom\u001b[39m=\u001b[39m\u001b[39mNone\u001b[39;00m, \u001b[39m*\u001b[39m, align\u001b[39m=\u001b[39m\u001b[39m'\u001b[39m\u001b[39mcenter\u001b[39m\u001b[39m'\u001b[39m,\n\u001b[1;32m   2398\u001b[0m         data\u001b[39m=\u001b[39m\u001b[39mNone\u001b[39;00m, \u001b[39m*\u001b[39m\u001b[39m*\u001b[39mkwargs):\n\u001b[0;32m-> 2399\u001b[0m     \u001b[39mreturn\u001b[39;00m gca()\u001b[39m.\u001b[39;49mbar(\n\u001b[1;32m   2400\u001b[0m         x, height, width\u001b[39m=\u001b[39;49mwidth, bottom\u001b[39m=\u001b[39;49mbottom, align\u001b[39m=\u001b[39;49malign,\n\u001b[1;32m   2401\u001b[0m         \u001b[39m*\u001b[39;49m\u001b[39m*\u001b[39;49m({\u001b[39m\"\u001b[39;49m\u001b[39mdata\u001b[39;49m\u001b[39m\"\u001b[39;49m: data} \u001b[39mif\u001b[39;49;00m data \u001b[39mis\u001b[39;49;00m \u001b[39mnot\u001b[39;49;00m \u001b[39mNone\u001b[39;49;00m \u001b[39melse\u001b[39;49;00m {}), \u001b[39m*\u001b[39;49m\u001b[39m*\u001b[39;49mkwargs)\n",
      "File \u001b[0;32m/opt/conda/lib/python3.8/site-packages/matplotlib/__init__.py:1412\u001b[0m, in \u001b[0;36m_preprocess_data.<locals>.inner\u001b[0;34m(ax, data, *args, **kwargs)\u001b[0m\n\u001b[1;32m   1409\u001b[0m \u001b[39m@functools\u001b[39m\u001b[39m.\u001b[39mwraps(func)\n\u001b[1;32m   1410\u001b[0m \u001b[39mdef\u001b[39;00m \u001b[39minner\u001b[39m(ax, \u001b[39m*\u001b[39margs, data\u001b[39m=\u001b[39m\u001b[39mNone\u001b[39;00m, \u001b[39m*\u001b[39m\u001b[39m*\u001b[39mkwargs):\n\u001b[1;32m   1411\u001b[0m     \u001b[39mif\u001b[39;00m data \u001b[39mis\u001b[39;00m \u001b[39mNone\u001b[39;00m:\n\u001b[0;32m-> 1412\u001b[0m         \u001b[39mreturn\u001b[39;00m func(ax, \u001b[39m*\u001b[39;49m\u001b[39mmap\u001b[39;49m(sanitize_sequence, args), \u001b[39m*\u001b[39;49m\u001b[39m*\u001b[39;49mkwargs)\n\u001b[1;32m   1414\u001b[0m     bound \u001b[39m=\u001b[39m new_sig\u001b[39m.\u001b[39mbind(ax, \u001b[39m*\u001b[39margs, \u001b[39m*\u001b[39m\u001b[39m*\u001b[39mkwargs)\n\u001b[1;32m   1415\u001b[0m     auto_label \u001b[39m=\u001b[39m (bound\u001b[39m.\u001b[39marguments\u001b[39m.\u001b[39mget(label_namer)\n\u001b[1;32m   1416\u001b[0m                   \u001b[39mor\u001b[39;00m bound\u001b[39m.\u001b[39mkwargs\u001b[39m.\u001b[39mget(label_namer))\n",
      "File \u001b[0;32m/opt/conda/lib/python3.8/site-packages/matplotlib/axes/_axes.py:2342\u001b[0m, in \u001b[0;36mAxes.bar\u001b[0;34m(self, x, height, width, bottom, align, **kwargs)\u001b[0m\n\u001b[1;32m   2339\u001b[0m     \u001b[39mif\u001b[39;00m yerr \u001b[39mis\u001b[39;00m \u001b[39mnot\u001b[39;00m \u001b[39mNone\u001b[39;00m:\n\u001b[1;32m   2340\u001b[0m         yerr \u001b[39m=\u001b[39m \u001b[39mself\u001b[39m\u001b[39m.\u001b[39m_convert_dx(yerr, y0, y, \u001b[39mself\u001b[39m\u001b[39m.\u001b[39mconvert_yunits)\n\u001b[0;32m-> 2342\u001b[0m x, height, width, y, linewidth, hatch \u001b[39m=\u001b[39m np\u001b[39m.\u001b[39;49mbroadcast_arrays(\n\u001b[1;32m   2343\u001b[0m     \u001b[39m# Make args iterable too.\u001b[39;49;00m\n\u001b[1;32m   2344\u001b[0m     np\u001b[39m.\u001b[39;49matleast_1d(x), height, width, y, linewidth, hatch)\n\u001b[1;32m   2346\u001b[0m \u001b[39m# Now that units have been converted, set the tick locations.\u001b[39;00m\n\u001b[1;32m   2347\u001b[0m \u001b[39mif\u001b[39;00m orientation \u001b[39m==\u001b[39m \u001b[39m'\u001b[39m\u001b[39mvertical\u001b[39m\u001b[39m'\u001b[39m:\n",
      "File \u001b[0;32m<__array_function__ internals>:200\u001b[0m, in \u001b[0;36mbroadcast_arrays\u001b[0;34m(*args, **kwargs)\u001b[0m\n",
      "File \u001b[0;32m/opt/conda/lib/python3.8/site-packages/numpy/lib/stride_tricks.py:540\u001b[0m, in \u001b[0;36mbroadcast_arrays\u001b[0;34m(subok, *args)\u001b[0m\n\u001b[1;32m    533\u001b[0m \u001b[39m# nditer is not used here to avoid the limit of 32 arrays.\u001b[39;00m\n\u001b[1;32m    534\u001b[0m \u001b[39m# Otherwise, something like the following one-liner would suffice:\u001b[39;00m\n\u001b[1;32m    535\u001b[0m \u001b[39m# return np.nditer(args, flags=['multi_index', 'zerosize_ok'],\u001b[39;00m\n\u001b[1;32m    536\u001b[0m \u001b[39m#                  order='C').itviews\u001b[39;00m\n\u001b[1;32m    538\u001b[0m args \u001b[39m=\u001b[39m [np\u001b[39m.\u001b[39marray(_m, copy\u001b[39m=\u001b[39m\u001b[39mFalse\u001b[39;00m, subok\u001b[39m=\u001b[39msubok) \u001b[39mfor\u001b[39;00m _m \u001b[39min\u001b[39;00m args]\n\u001b[0;32m--> 540\u001b[0m shape \u001b[39m=\u001b[39m _broadcast_shape(\u001b[39m*\u001b[39;49margs)\n\u001b[1;32m    542\u001b[0m \u001b[39mif\u001b[39;00m \u001b[39mall\u001b[39m(array\u001b[39m.\u001b[39mshape \u001b[39m==\u001b[39m shape \u001b[39mfor\u001b[39;00m array \u001b[39min\u001b[39;00m args):\n\u001b[1;32m    543\u001b[0m     \u001b[39m# Common case where nothing needs to be broadcasted.\u001b[39;00m\n\u001b[1;32m    544\u001b[0m     \u001b[39mreturn\u001b[39;00m args\n",
      "File \u001b[0;32m/opt/conda/lib/python3.8/site-packages/numpy/lib/stride_tricks.py:422\u001b[0m, in \u001b[0;36m_broadcast_shape\u001b[0;34m(*args)\u001b[0m\n\u001b[1;32m    417\u001b[0m \u001b[39m\"\"\"Returns the shape of the arrays that would result from broadcasting the\u001b[39;00m\n\u001b[1;32m    418\u001b[0m \u001b[39msupplied arrays against each other.\u001b[39;00m\n\u001b[1;32m    419\u001b[0m \u001b[39m\"\"\"\u001b[39;00m\n\u001b[1;32m    420\u001b[0m \u001b[39m# use the old-iterator because np.nditer does not handle size 0 arrays\u001b[39;00m\n\u001b[1;32m    421\u001b[0m \u001b[39m# consistently\u001b[39;00m\n\u001b[0;32m--> 422\u001b[0m b \u001b[39m=\u001b[39m np\u001b[39m.\u001b[39;49mbroadcast(\u001b[39m*\u001b[39;49margs[:\u001b[39m32\u001b[39;49m])\n\u001b[1;32m    423\u001b[0m \u001b[39m# unfortunately, it cannot handle 32 or more arguments directly\u001b[39;00m\n\u001b[1;32m    424\u001b[0m \u001b[39mfor\u001b[39;00m pos \u001b[39min\u001b[39;00m \u001b[39mrange\u001b[39m(\u001b[39m32\u001b[39m, \u001b[39mlen\u001b[39m(args), \u001b[39m31\u001b[39m):\n\u001b[1;32m    425\u001b[0m     \u001b[39m# ironically, np.broadcast does not properly handle np.broadcast\u001b[39;00m\n\u001b[1;32m    426\u001b[0m     \u001b[39m# objects (it treats them as scalars)\u001b[39;00m\n\u001b[1;32m    427\u001b[0m     \u001b[39m# use broadcasting to avoid allocating the full array\u001b[39;00m\n",
      "\u001b[0;31mValueError\u001b[0m: shape mismatch: objects cannot be broadcast to a single shape.  Mismatch is between arg 0 with shape (4,) and arg 1 with shape (95,)."
     ]
    },
    {
     "data": {
      "image/png": "[encoded data removed]",
      "text/plain": [
       "<Figure size 432x288 with 1 Axes>"
      ]
     },
     "metadata": {
      "needs_background": "light"
     },
     "output_type": "display_data"
    }
   ],
   "source": [
    "# Function to calculate the percentage of each score\n",
    "def calculate_percentage(scores):\n",
    "    total = sum(scores)\n",
    "    return [x / total * 100 for x in scores]\n",
    "\n",
    "# Calculate the percentages\n",
    "poincare_percent = calculate_percentage(poincare)\n",
    "deepwalk_percent = calculate_percentage(deepwalk)\n",
    "tfidf_percent = calculate_percentage(tfidf)\n",
    "\n",
    "# Define the labels and colors\n",
    "labels = ['Score 5', 'Score 4', 'Score 3', 'Score 0']\n",
    "colors = ['darkgreen', 'limegreen', 'orange', 'red']\n",
    "\n",
    "# Set the bar width\n",
    "bar_width = 0.25\n",
    "\n",
    "# Set the positions for the bars\n",
    "r = np.arange(len(labels))\n",
    "\n",
    "# Create the bars\n",
    "plt.bar(r, poincare_percent, color='darkgreen', width=bar_width, edgecolor='white', label='Poincare')\n",
    "plt.bar(r + bar_width, deepwalk_percent, color='limegreen', width=bar_width, edgecolor='white', label='DeepWalk')\n",
    "plt.bar(r + 2 * bar_width, tfidf_percent, color='orange', width=bar_width, edgecolor='white', label='TF-IDF')\n",
    "\n",
    "# Add labels and title\n",
    "plt.xlabel('Scores', fontweight='bold')\n",
    "plt.xticks(r + bar_width, labels)\n",
    "plt.ylabel('Percentage')\n",
    "plt.title('Comparison of Domain Expert Scores')\n",
    "\n",
    "# Create a legend\n",
    "plt.legend()\n",
    "\n",
    "# Show the plot\n",
    "plt.show()"
   ]
  },
  {
   "cell_type": "code",
   "execution_count": 6,
   "metadata": {},
   "outputs": [
    {
     "ename": "ValueError",
     "evalue": "The number of FixedLocator locations (95), usually from a call to set_ticks, does not match the number of ticklabels (4).",
     "output_type": "error",
     "traceback": [
      "\u001b[0;31m---------------------------------------------------------------------------\u001b[0m",
      "\u001b[0;31mValueError\u001b[0m                                Traceback (most recent call last)",
      "\u001b[1;32m/workspaces/master_thesis/get_score_distribution.ipynb Cell 11\u001b[0m in \u001b[0;36m<cell line: 16>\u001b[0;34m()\u001b[0m\n\u001b[1;32m     <a href='vscode-notebook-cell://dev-container%2B7b22686f737450617468223a222f686f6d652f6e757368612f70726f6a656374732f6d61737465725f746865736973222c226c6f63616c446f636b6572223a66616c73652c2273657474696e6773223a7b22686f7374223a227373683a2f2f69616d2d646f636b65722d677075227d2c22636f6e66696746696c65223a7b22246d6964223a312c2270617468223a222f686f6d652f6e757368612f70726f6a656374732f6d61737465725f7468657369732f2e646576636f6e7461696e65722f646576636f6e7461696e65722e6a736f6e222c22736368656d65223a227673636f64652d66696c65486f7374227d7d/workspaces/master_thesis/get_score_distribution.ipynb#X11sdnNjb2RlLXJlbW90ZQ%3D%3D?line=13'>14</a>\u001b[0m \u001b[39m# Add labels and title\u001b[39;00m\n\u001b[1;32m     <a href='vscode-notebook-cell://dev-container%2B7b22686f737450617468223a222f686f6d652f6e757368612f70726f6a656374732f6d61737465725f746865736973222c226c6f63616c446f636b6572223a66616c73652c2273657474696e6773223a7b22686f7374223a227373683a2f2f69616d2d646f636b65722d677075227d2c22636f6e66696746696c65223a7b22246d6964223a312c2270617468223a222f686f6d652f6e757368612f70726f6a656374732f6d61737465725f7468657369732f2e646576636f6e7461696e65722f646576636f6e7461696e65722e6a736f6e222c22736368656d65223a227673636f64652d66696c65486f7374227d7d/workspaces/master_thesis/get_score_distribution.ipynb#X11sdnNjb2RlLXJlbW90ZQ%3D%3D?line=14'>15</a>\u001b[0m plt\u001b[39m.\u001b[39mxlabel(\u001b[39m'\u001b[39m\u001b[39mScores\u001b[39m\u001b[39m'\u001b[39m, fontweight\u001b[39m=\u001b[39m\u001b[39m'\u001b[39m\u001b[39mbold\u001b[39m\u001b[39m'\u001b[39m)\n\u001b[0;32m---> <a href='vscode-notebook-cell://dev-container%2B7b22686f737450617468223a222f686f6d652f6e757368612f70726f6a656374732f6d61737465725f746865736973222c226c6f63616c446f636b6572223a66616c73652c2273657474696e6773223a7b22686f7374223a227373683a2f2f69616d2d646f636b65722d677075227d2c22636f6e66696746696c65223a7b22246d6964223a312c2270617468223a222f686f6d652f6e757368612f70726f6a656374732f6d61737465725f7468657369732f2e646576636f6e7461696e65722f646576636f6e7461696e65722e6a736f6e222c22736368656d65223a227673636f64652d66696c65486f7374227d7d/workspaces/master_thesis/get_score_distribution.ipynb#X11sdnNjb2RlLXJlbW90ZQ%3D%3D?line=15'>16</a>\u001b[0m plt\u001b[39m.\u001b[39;49mxticks([r \u001b[39m+\u001b[39;49m bar_width \u001b[39mfor\u001b[39;49;00m r \u001b[39min\u001b[39;49;00m \u001b[39mrange\u001b[39;49m(\u001b[39mlen\u001b[39;49m(poincare))], labels)\n\u001b[1;32m     <a href='vscode-notebook-cell://dev-container%2B7b22686f737450617468223a222f686f6d652f6e757368612f70726f6a656374732f6d61737465725f746865736973222c226c6f63616c446f636b6572223a66616c73652c2273657474696e6773223a7b22686f7374223a227373683a2f2f69616d2d646f636b65722d677075227d2c22636f6e66696746696c65223a7b22246d6964223a312c2270617468223a222f686f6d652f6e757368612f70726f6a656374732f6d61737465725f7468657369732f2e646576636f6e7461696e65722f646576636f6e7461696e65722e6a736f6e222c22736368656d65223a227673636f64652d66696c65486f7374227d7d/workspaces/master_thesis/get_score_distribution.ipynb#X11sdnNjb2RlLXJlbW90ZQ%3D%3D?line=16'>17</a>\u001b[0m plt\u001b[39m.\u001b[39mylabel(\u001b[39m'\u001b[39m\u001b[39mCount\u001b[39m\u001b[39m'\u001b[39m)\n\u001b[1;32m     <a href='vscode-notebook-cell://dev-container%2B7b22686f737450617468223a222f686f6d652f6e757368612f70726f6a656374732f6d61737465725f746865736973222c226c6f63616c446f636b6572223a66616c73652c2273657474696e6773223a7b22686f7374223a227373683a2f2f69616d2d646f636b65722d677075227d2c22636f6e66696746696c65223a7b22246d6964223a312c2270617468223a222f686f6d652f6e757368612f70726f6a656374732f6d61737465725f7468657369732f2e646576636f6e7461696e65722f646576636f6e7461696e65722e6a736f6e222c22736368656d65223a227673636f64652d66696c65486f7374227d7d/workspaces/master_thesis/get_score_distribution.ipynb#X11sdnNjb2RlLXJlbW90ZQ%3D%3D?line=17'>18</a>\u001b[0m plt\u001b[39m.\u001b[39mtitle(\u001b[39m'\u001b[39m\u001b[39mComparison of Domain Expert Scores\u001b[39m\u001b[39m'\u001b[39m)\n",
      "File \u001b[0;32m/opt/conda/lib/python3.8/site-packages/matplotlib/pyplot.py:1816\u001b[0m, in \u001b[0;36mxticks\u001b[0;34m(ticks, labels, **kwargs)\u001b[0m\n\u001b[1;32m   1814\u001b[0m         l\u001b[39m.\u001b[39mupdate(kwargs)\n\u001b[1;32m   1815\u001b[0m \u001b[39melse\u001b[39;00m:\n\u001b[0;32m-> 1816\u001b[0m     labels \u001b[39m=\u001b[39m ax\u001b[39m.\u001b[39;49mset_xticklabels(labels, \u001b[39m*\u001b[39;49m\u001b[39m*\u001b[39;49mkwargs)\n\u001b[1;32m   1818\u001b[0m \u001b[39mreturn\u001b[39;00m locs, labels\n",
      "File \u001b[0;32m/opt/conda/lib/python3.8/site-packages/matplotlib/axes/_base.py:75\u001b[0m, in \u001b[0;36m_axis_method_wrapper.__set_name__.<locals>.wrapper\u001b[0;34m(self, *args, **kwargs)\u001b[0m\n\u001b[1;32m     74\u001b[0m \u001b[39mdef\u001b[39;00m \u001b[39mwrapper\u001b[39m(\u001b[39mself\u001b[39m, \u001b[39m*\u001b[39margs, \u001b[39m*\u001b[39m\u001b[39m*\u001b[39mkwargs):\n\u001b[0;32m---> 75\u001b[0m     \u001b[39mreturn\u001b[39;00m get_method(\u001b[39mself\u001b[39;49m)(\u001b[39m*\u001b[39;49margs, \u001b[39m*\u001b[39;49m\u001b[39m*\u001b[39;49mkwargs)\n",
      "File \u001b[0;32m/opt/conda/lib/python3.8/site-packages/matplotlib/axis.py:1798\u001b[0m, in \u001b[0;36mAxis._set_ticklabels\u001b[0;34m(self, labels, fontdict, minor, **kwargs)\u001b[0m\n\u001b[1;32m   1796\u001b[0m \u001b[39mif\u001b[39;00m fontdict \u001b[39mis\u001b[39;00m \u001b[39mnot\u001b[39;00m \u001b[39mNone\u001b[39;00m:\n\u001b[1;32m   1797\u001b[0m     kwargs\u001b[39m.\u001b[39mupdate(fontdict)\n\u001b[0;32m-> 1798\u001b[0m \u001b[39mreturn\u001b[39;00m \u001b[39mself\u001b[39;49m\u001b[39m.\u001b[39;49mset_ticklabels(labels, minor\u001b[39m=\u001b[39;49mminor, \u001b[39m*\u001b[39;49m\u001b[39m*\u001b[39;49mkwargs)\n",
      "File \u001b[0;32m/opt/conda/lib/python3.8/site-packages/matplotlib/axis.py:1720\u001b[0m, in \u001b[0;36mAxis.set_ticklabels\u001b[0;34m(self, ticklabels, minor, **kwargs)\u001b[0m\n\u001b[1;32m   1716\u001b[0m \u001b[39mif\u001b[39;00m \u001b[39misinstance\u001b[39m(locator, mticker\u001b[39m.\u001b[39mFixedLocator):\n\u001b[1;32m   1717\u001b[0m     \u001b[39m# Passing [] as a list of ticklabels is often used as a way to\u001b[39;00m\n\u001b[1;32m   1718\u001b[0m     \u001b[39m# remove all tick labels, so only error for > 0 ticklabels\u001b[39;00m\n\u001b[1;32m   1719\u001b[0m     \u001b[39mif\u001b[39;00m \u001b[39mlen\u001b[39m(locator\u001b[39m.\u001b[39mlocs) \u001b[39m!=\u001b[39m \u001b[39mlen\u001b[39m(ticklabels) \u001b[39mand\u001b[39;00m \u001b[39mlen\u001b[39m(ticklabels) \u001b[39m!=\u001b[39m \u001b[39m0\u001b[39m:\n\u001b[0;32m-> 1720\u001b[0m         \u001b[39mraise\u001b[39;00m \u001b[39mValueError\u001b[39;00m(\n\u001b[1;32m   1721\u001b[0m             \u001b[39m\"\u001b[39m\u001b[39mThe number of FixedLocator locations\u001b[39m\u001b[39m\"\u001b[39m\n\u001b[1;32m   1722\u001b[0m             \u001b[39mf\u001b[39m\u001b[39m\"\u001b[39m\u001b[39m (\u001b[39m\u001b[39m{\u001b[39;00m\u001b[39mlen\u001b[39m(locator\u001b[39m.\u001b[39mlocs)\u001b[39m}\u001b[39;00m\u001b[39m), usually from a call to\u001b[39m\u001b[39m\"\u001b[39m\n\u001b[1;32m   1723\u001b[0m             \u001b[39m\"\u001b[39m\u001b[39m set_ticks, does not match\u001b[39m\u001b[39m\"\u001b[39m\n\u001b[1;32m   1724\u001b[0m             \u001b[39mf\u001b[39m\u001b[39m\"\u001b[39m\u001b[39m the number of ticklabels (\u001b[39m\u001b[39m{\u001b[39;00m\u001b[39mlen\u001b[39m(ticklabels)\u001b[39m}\u001b[39;00m\u001b[39m).\u001b[39m\u001b[39m\"\u001b[39m)\n\u001b[1;32m   1725\u001b[0m     tickd \u001b[39m=\u001b[39m {loc: lab \u001b[39mfor\u001b[39;00m loc, lab \u001b[39min\u001b[39;00m \u001b[39mzip\u001b[39m(locator\u001b[39m.\u001b[39mlocs, ticklabels)}\n\u001b[1;32m   1726\u001b[0m     func \u001b[39m=\u001b[39m functools\u001b[39m.\u001b[39mpartial(\u001b[39mself\u001b[39m\u001b[39m.\u001b[39m_format_with_dict, tickd)\n",
      "\u001b[0;31mValueError\u001b[0m: The number of FixedLocator locations (95), usually from a call to set_ticks, does not match the number of ticklabels (4)."
     ]
    },
    {
     "data": {
      "image/png": "[encoded data removed]",
      "text/plain": [
       "<Figure size 432x288 with 1 Axes>"
      ]
     },
     "metadata": {
      "needs_background": "light"
     },
     "output_type": "display_data"
    }
   ],
   "source": [
    "# Set the bar width\n",
    "bar_width = 0.25\n",
    "\n",
    "# Set the positions for the bars\n",
    "r1 = range(len(poincare))\n",
    "r2 = [x + bar_width for x in r1]\n",
    "r3 = [x + bar_width for x in r2]\n",
    "\n",
    "# Create the bars\n",
    "plt.bar(r1, poincare, color=colors[0], width=bar_width, edgecolor='white', label='Poincare')\n",
    "plt.bar(r2, deepwalk, color=colors[1], width=bar_width, edgecolor='white', label='DeepWalk')\n",
    "plt.bar(r3, tfidf, color=colors[2], width=bar_width, edgecolor='white', label='TF-IDF')\n",
    "\n",
    "# Add labels and title\n",
    "plt.xlabel('Scores', fontweight='bold')\n",
    "plt.xticks([r + bar_width for r in range(len(poincare))], labels)\n",
    "plt.ylabel('Count')\n",
    "plt.title('Comparison of Domain Expert Scores')\n",
    "\n",
    "# Create a legend\n",
    "plt.legend()\n",
    "\n",
    "# Show the plot\n",
    "plt.show()"
   ]
  }
 ],
 "metadata": {
  "kernelspec": {
   "display_name": "base",
   "language": "python",
   "name": "python3"
  },
  "language_info": {
   "codemirror_mode": {
    "name": "ipython",
    "version": 3
   },
   "file_extension": ".py",
   "mimetype": "text/x-python",
   "name": "python",
   "nbconvert_exporter": "python",
   "pygments_lexer": "ipython3",
   "version": "3.8.13"
  },
  "orig_nbformat": 4
 },
 "nbformat": 4,
 "nbformat_minor": 2
}
