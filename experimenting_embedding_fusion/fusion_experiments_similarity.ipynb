{
 "cells": [
  {
   "cell_type": "code",
   "execution_count": 1,
   "metadata": {},
   "outputs": [
    {
     "name": "stderr",
     "output_type": "stream",
     "text": [
      "[nltk_data] Downloading package punkt to /home/vscode/nltk_data...\n",
      "[nltk_data]   Package punkt is already up-to-date!\n"
     ]
    },
    {
     "data": {
      "text/plain": [
       "True"
      ]
     },
     "execution_count": 1,
     "metadata": {},
     "output_type": "execute_result"
    }
   ],
   "source": [
    "from gensim.models import KeyedVectors\n",
    "from gensim import models\n",
    "from gensim.models import Word2Vec\n",
    "import numpy as np\n",
    "from scipy.spatial.distance import cosine\n",
    "from gensim.models.poincare import PoincareModel\n",
    "import nltk\n",
    "from nltk.tokenize import word_tokenize\n",
    "\n",
    "nltk.download('punkt')"
   ]
  },
  {
   "cell_type": "code",
   "execution_count": 2,
   "metadata": {},
   "outputs": [],
   "source": [
    "word2vec_model = Word2Vec.load(\"/workspaces/master_thesis/word2vec_wiki_snomed_preprocessed.model\")"
   ]
  },
  {
   "cell_type": "code",
   "execution_count": 5,
   "metadata": {},
   "outputs": [
    {
     "data": {
      "text/plain": [
       "array([-1.3393052e+00,  9.6904553e-02, -9.6875226e-01, -1.0539744e+00,\n",
       "       -2.5268003e-01,  1.1038302e+00, -3.0247996e+00, -5.6130666e-01,\n",
       "        1.7299324e+00,  1.2606411e+00, -2.2933331e+00,  8.8047737e-01,\n",
       "        2.8178045e-01,  1.6604291e+00, -1.1903011e+00, -2.0154345e+00,\n",
       "       -1.2673988e+00,  1.6732681e+00,  2.7048326e+00,  1.1591354e-01,\n",
       "       -7.2387719e-01,  2.6251552e+00,  6.1091506e-01,  1.0157254e+00,\n",
       "       -1.4806093e+00, -2.3722546e+00,  1.8288122e+00,  3.9278510e+00,\n",
       "        2.4022624e+00, -9.9955899e-01, -1.3298825e+00, -1.3173047e+00,\n",
       "       -1.2632543e+00, -1.0562584e+00, -3.8755655e+00, -1.5524970e+00,\n",
       "        8.1405795e-01, -1.8252021e+00,  3.8668224e-01,  2.2663846e+00,\n",
       "        1.5557190e+00,  3.8574785e-01,  5.7300448e-01,  6.9619817e-01,\n",
       "        2.6698589e+00,  8.4978956e-01,  9.0141617e-02, -1.1178824e+00,\n",
       "       -6.0006320e-01, -1.5897150e+00, -6.3172233e-01, -5.0465184e-01,\n",
       "        8.1736571e-01,  3.8620433e-01, -1.7984356e-01, -9.9856222e-01,\n",
       "       -3.2306945e+00,  2.7765770e+00,  3.3814970e-01, -5.5128207e+00,\n",
       "        2.8536341e-01,  6.5249074e-01, -1.3920393e+00,  2.5286226e+00,\n",
       "        8.0631807e-02,  3.5966203e-01,  7.2610176e-01, -1.0328355e-01,\n",
       "       -1.7491941e+00, -1.0100133e+00, -1.1309729e+00,  1.8197721e+00,\n",
       "       -1.5664274e+00, -4.8116228e-01,  7.0010692e-01,  3.1596577e+00,\n",
       "        1.0877118e-01, -3.8731868e+00, -2.2415648e+00,  6.1560702e-01,\n",
       "        2.0692570e+00, -5.5949014e-01, -2.5663035e+00,  2.8363657e+00,\n",
       "        2.9824337e-01, -1.8044937e+00, -2.5663559e+00,  3.0485272e+00,\n",
       "       -4.8298088e-01,  1.4520847e+00,  5.1666820e-01,  7.9152077e-01,\n",
       "       -2.0515461e+00,  5.3903699e-01, -1.4564008e+00,  1.4565303e+00,\n",
       "        1.4282842e+00, -2.6532325e-01,  1.8080176e+00, -1.2655197e+00,\n",
       "        2.1389930e+00,  1.8397944e-01, -1.7258371e+00, -1.5238131e+00,\n",
       "        1.7425045e+00,  3.8942559e+00, -1.0574731e+00, -1.2399942e+00,\n",
       "       -2.2494714e+00,  2.2369742e+00, -1.7903514e+00,  7.6345593e-01,\n",
       "        2.0097873e+00, -1.8825837e+00,  1.1146506e-01,  2.0672282e-02,\n",
       "       -3.5153210e-01,  1.0890803e+00,  2.4404008e+00, -1.1336509e-01,\n",
       "       -8.4352869e-01,  2.6034169e+00,  1.1365471e+00,  1.7997435e+00,\n",
       "       -9.1393217e-02,  2.9162333e+00,  1.4175286e+00,  1.6571454e+00,\n",
       "       -4.3949452e-01, -7.3454165e-01,  2.6583958e+00,  1.3017256e+00,\n",
       "       -1.4472229e+00,  1.0602639e+00,  1.4908720e+00, -2.7532711e+00,\n",
       "        2.8740779e-01,  3.0011477e+00, -1.3679546e+00, -1.8306539e+00,\n",
       "       -1.9244217e+00,  3.0557535e+00, -8.3909023e-01,  1.8637301e+00,\n",
       "        1.4477457e+00, -1.2445145e+00,  2.4566723e-01,  1.0965205e+00,\n",
       "        1.4526076e+00,  2.1791954e+00,  2.9720706e-01, -1.8349289e+00,\n",
       "       -3.4950972e-02,  9.8199379e-01,  3.2040858e+00, -9.1782248e-01,\n",
       "       -4.5573992e-01,  3.3666688e-01,  7.0852256e-01, -1.4758518e+00,\n",
       "       -9.1998279e-02,  1.4816853e+00,  1.7476068e-01, -1.3725727e+00,\n",
       "       -1.9570199e+00,  2.5264232e+00,  1.4644303e+00, -3.3593073e+00,\n",
       "        1.2533374e+00, -1.2667469e+00, -2.0780070e+00,  1.2092745e+00,\n",
       "        1.7151806e-01,  1.8403621e-01, -4.3025236e+00,  5.8773041e-01,\n",
       "       -5.8737743e-01, -7.3471087e-01,  1.6231892e+00,  1.1272196e+00,\n",
       "        1.2768739e+00, -1.1616451e+00, -2.5098783e-01,  3.9249727e-01,\n",
       "        1.3798232e-01,  1.7342793e+00,  1.5864964e+00,  2.8194779e-01,\n",
       "        4.0372229e+00,  1.0688461e+00,  6.7569131e-01,  3.1061237e+00,\n",
       "       -7.1097296e-01, -1.1105465e+00, -2.5547016e-01, -4.5045696e-02,\n",
       "       -5.0855875e-01,  2.7253258e-01,  1.1886073e+00,  1.2749549e+00,\n",
       "       -6.2346864e-01, -3.6285070e-01, -1.1571070e+00, -4.5210733e+00,\n",
       "       -1.9418023e+00, -4.1909817e-01, -1.2082923e-01, -1.0560695e-04,\n",
       "       -7.2235364e-01, -4.6464285e-01, -1.2638251e+00, -1.2377752e+00,\n",
       "       -1.4932909e+00, -1.4054205e+00,  5.9883028e-01, -1.0382183e+00,\n",
       "       -2.4909146e+00,  2.2508781e-01, -3.0719942e-01, -3.5809190e+00,\n",
       "       -7.6459694e-01, -3.0145345e+00,  7.1159416e-01,  6.3094747e-01,\n",
       "        3.2184577e-01, -2.9626215e-01, -1.6358813e+00,  3.5163358e-01,\n",
       "       -3.8341877e+00, -1.5887064e+00,  1.3100910e+00, -5.1607633e+00,\n",
       "       -1.7270241e+00,  3.7617536e+00, -1.6685896e+00,  3.1417689e+00,\n",
       "       -8.2540095e-01,  9.2167884e-02, -3.2285953e-01, -5.4436898e-01,\n",
       "       -3.8568087e+00,  6.6705383e-02,  1.9045794e+00, -8.1199862e-02,\n",
       "       -1.0772008e+00,  1.2686799e+00,  2.5660052e+00, -2.0207160e+00,\n",
       "       -2.2030342e+00,  5.5616540e-01,  1.0431256e+00, -4.1526284e+00,\n",
       "       -5.0232911e-01, -1.2025412e-01,  2.8077726e+00,  1.4996251e+00,\n",
       "        9.8542839e-01,  2.5835136e-01,  2.6892607e+00, -9.8811001e-01,\n",
       "       -9.3198085e-01, -4.2190304e+00, -1.8022869e+00,  3.3165059e+00,\n",
       "        1.4356209e-01, -1.7865855e+00,  4.8276344e-01,  2.5378621e+00,\n",
       "       -2.5185807e+00, -1.1770031e+00, -1.6897104e+00,  6.0869873e-01,\n",
       "        3.1836381e+00, -2.0161922e+00, -6.2192750e-01,  1.5108728e+00,\n",
       "        7.0766062e-01, -5.1360613e-01, -3.8071394e-01,  2.2378682e-01,\n",
       "       -1.1981947e+00,  4.6907040e-01,  1.1843399e+00, -2.7974854e+00,\n",
       "       -2.4114466e+00, -1.9083171e+00, -1.6466844e-01,  3.1692376e+00,\n",
       "       -1.6000299e+00, -2.3999996e-01, -3.4963679e-01,  4.3158588e+00,\n",
       "        1.5070938e+00,  3.4794493e+00,  7.6250511e-01, -1.5952915e+00,\n",
       "       -1.6341372e+00,  1.0056044e+00, -1.5060338e+00,  1.9872428e-01],\n",
       "      dtype=float32)"
      ]
     },
     "execution_count": 5,
     "metadata": {},
     "output_type": "execute_result"
    }
   ],
   "source": [
    "word2vec_model.wv['reproductive']"
   ]
  },
  {
   "cell_type": "code",
   "execution_count": 80,
   "metadata": {},
   "outputs": [],
   "source": [
    "poincare_model=PoincareModel.load('/workspaces/master_thesis/poincare/poincare_20d_preprocessed')"
   ]
  },
  {
   "cell_type": "code",
   "execution_count": 81,
   "metadata": {},
   "outputs": [
    {
     "data": {
      "text/plain": [
       "0.606241537673438"
      ]
     },
     "execution_count": 81,
     "metadata": {},
     "output_type": "execute_result"
    }
   ],
   "source": [
    "poincare_model.kv.similarity('necrospermia', 'male reproduct find')"
   ]
  },
  {
   "cell_type": "code",
   "execution_count": 82,
   "metadata": {},
   "outputs": [],
   "source": [
    "def get_embedding_with_fallback(model, word, size, random_state=None):\n",
    "    try:\n",
    "        return model[word]  # Use .wv to access KeyedVectors\n",
    "    except KeyError:\n",
    "        # Return a random vector if the word is not in the model\n",
    "        if random_state is None:\n",
    "            random_state = np.random.default_rng()\n",
    "        return random_state.normal(0, 1, size)"
   ]
  },
  {
   "cell_type": "code",
   "execution_count": 83,
   "metadata": {},
   "outputs": [],
   "source": [
    "# Define a function to calculate cosine similarity\n",
    "def cosine_similarity(vec1, vec2):\n",
    "    return 1 - cosine(vec1, vec2)"
   ]
  },
  {
   "cell_type": "code",
   "execution_count": 84,
   "metadata": {},
   "outputs": [],
   "source": [
    "def get_embedding_with_fallback(model, word, size, random_state=None):\n",
    "    try:\n",
    "        return model[word]  # Use .wv to access KeyedVectors\n",
    "    except KeyError:\n",
    "        # Return a random vector if the word is not in the model\n",
    "        if random_state is None:\n",
    "            random_state = np.random.default_rng()\n",
    "        return random_state.normal(0, 1, size)"
   ]
  },
  {
   "cell_type": "code",
   "execution_count": 85,
   "metadata": {},
   "outputs": [],
   "source": [
    "# Tokenize sentences into words\n",
    "def tokenize_sentence(sentence):\n",
    "    return word_tokenize(sentence.lower())"
   ]
  },
  {
   "cell_type": "code",
   "execution_count": 86,
   "metadata": {},
   "outputs": [],
   "source": [
    "# Compute the average vector representation for a sentence\n",
    "def sentence_vector_word2vec(sentence, model, random_state=None):\n",
    "    tokens = tokenize_sentence(sentence)\n",
    "    vectors = [get_embedding_with_fallback(model, token, word2vec_model.vector_size) for token in tokens]\n",
    "    return np.mean(vectors, axis=0)"
   ]
  },
  {
   "cell_type": "code",
   "execution_count": 89,
   "metadata": {},
   "outputs": [],
   "source": [
    "# Compute fused similarity between sentences\n",
    "def fused_sentence_similarity(sentence1, sentence2, alpha=0.5, random_state=None):\n",
    "    # Get Word2Vec average embeddings\n",
    "    word2vec_vec1 = sentence_vector_word2vec(sentence1, word2vec_model.wv, random_state)\n",
    "    word2vec_vec2 = sentence_vector_word2vec(sentence2, word2vec_model.wv, random_state)\n",
    "\n",
    "    # Get Poincare average embeddings\n",
    "    poincare_vec1 = poincare_model.kv[sentence1]\n",
    "\n",
    "    poincare_vec2 = poincare_model.kv[sentence2]\n",
    "\n",
    "    # Calculate similarities\n",
    "    word2vec_similarity = cosine_similarity(word2vec_vec1, word2vec_vec2)\n",
    "    poincare_similarity = cosine_similarity(poincare_vec1, poincare_vec2)\n",
    "\n",
    "    # Fuse the similarities using a weighted average (alpha for Word2Vec, 1-alpha for Poincare)\n",
    "    fused_similarity = alpha * word2vec_similarity + (1 - alpha) * poincare_similarity\n",
    "\n",
    "    return fused_similarity"
   ]
  },
  {
   "cell_type": "code",
   "execution_count": 90,
   "metadata": {},
   "outputs": [
    {
     "data": {
      "text/plain": [
       "0.5471074756591261"
      ]
     },
     "execution_count": 90,
     "metadata": {},
     "output_type": "execute_result"
    }
   ],
   "source": [
    "fused_sentence_similarity('necrospermia', 'male reproduct find')"
   ]
  },
  {
   "cell_type": "code",
   "execution_count": null,
   "metadata": {},
   "outputs": [],
   "source": [
    "import numpy as np\n",
    "from gensim.models import KeyedVectors\n",
    "from scipy.spatial.distance import cosine\n",
    "from sklearn.preprocessing import normalize\n",
    "\n",
    "# Load pre-trained Word2Vec embeddings\n",
    "word2vec_model = KeyedVectors.load_word2vec_format('word2vec_model.bin', binary=True)\n",
    "\n",
    "# Load pre-trained Poincare embeddings\n",
    "poincare_model = KeyedVectors.load('poincare_model.kv')\n",
    "\n",
    "# Define a function to calculate cosine similarity\n",
    "def cosine_similarity(vec1, vec2):\n",
    "    return 1 - cosine(vec1, vec2)\n",
    "\n",
    "# Define a function to normalize Poincare embeddings\n",
    "def normalize_poincare(poincare_vec):\n",
    "    norm = np.linalg.norm(poincare_vec)\n",
    "    return 2 * poincare_vec / (1 + norm**2)\n",
    "\n",
    "# Late fusion of Word2Vec and Poincare embeddings\n",
    "def fused_similarity(word1, word2, alpha=0.5):\n",
    "    # Get Word2Vec embeddings\n",
    "    word2vec_vec1 = word2vec_model[word1]\n",
    "    word2vec_vec2 = word2vec_model[word2]\n",
    "\n",
    "    # Get Poincare embeddings\n",
    "    poincare_vec1 = normalize_poincare(poincare_model[word1])\n",
    "    poincare_vec2 = normalize_poincare(poincare_model[word2])\n",
    "\n",
    "    # Calculate similarities\n",
    "    word2vec_similarity = cosine_similarity(word2vec_vec1, word2vec_vec2)\n",
    "    poincare_similarity = cosine_similarity(poincare_vec1, poincare_vec2)\n",
    "\n",
    "    # Fuse the similarities using a weighted average (alpha for Word2Vec, 1-alpha for Poincare)\n",
    "    fused_similarity = alpha * word2vec_similarity + (1 - alpha) * poincare_similarity\n",
    "\n",
    "    return fused_similarity\n",
    "\n",
    "# Example usage\n",
    "word1 = 'cat'\n",
    "word2 = 'dog'\n",
    "\n",
    "similarity = fused_similarity(word1, word2)\n",
    "print(f\"The fused similarity between '{word1}' and '{word2}' is: {similarity:.4f}\")\n"
   ]
  },
  {
   "attachments": {},
   "cell_type": "markdown",
   "metadata": {},
   "source": [
    "Ivergny\tArras\n",
    "Avot\tDijon\n",
    "Chabrac\tConfolens\n",
    "Luchem\tLangerwehe\n",
    "\n",
    "congenital rectal fissure\tlesion of rectum\n",
    "Necrospermia\tMale reproductive finding"
   ]
  },
  {
   "cell_type": "code",
   "execution_count": 43,
   "metadata": {},
   "outputs": [],
   "source": [
    "import spacy\n",
    "from nltk.stem import PorterStemmer\n",
    "nlp = spacy.load(\"en_core_web_sm\")\n",
    "def preprocessing(sample):\n",
    "    sample = sample.lower()\n",
    "    stemmer = PorterStemmer()\n",
    "    token_list = []\n",
    "    doc = nlp(sample)\n",
    "    token_list = [stemmer.stem(token.text)\n",
    "            for token in doc\n",
    "            if not token.is_stop and not token.is_punct\n",
    "        ]\n",
    "    text = \" \".join(token_list)\n",
    "    return text  \n"
   ]
  },
  {
   "cell_type": "code",
   "execution_count": 44,
   "metadata": {},
   "outputs": [
    {
     "data": {
      "text/plain": [
       "'necrospermia'"
      ]
     },
     "execution_count": 44,
     "metadata": {},
     "output_type": "execute_result"
    }
   ],
   "source": [
    "preprocessing('Necrospermia')"
   ]
  },
  {
   "cell_type": "code",
   "execution_count": 45,
   "metadata": {},
   "outputs": [
    {
     "data": {
      "text/plain": [
       "'male reproduct find'"
      ]
     },
     "execution_count": 45,
     "metadata": {},
     "output_type": "execute_result"
    }
   ],
   "source": [
    "preprocessing('Male reproductive finding')"
   ]
  },
  {
   "attachments": {},
   "cell_type": "markdown",
   "metadata": {},
   "source": []
  }
 ],
 "metadata": {
  "kernelspec": {
   "display_name": "base",
   "language": "python",
   "name": "python3"
  },
  "language_info": {
   "codemirror_mode": {
    "name": "ipython",
    "version": 3
   },
   "file_extension": ".py",
   "mimetype": "text/x-python",
   "name": "python",
   "nbconvert_exporter": "python",
   "pygments_lexer": "ipython3",
   "version": "3.9.13"
  },
  "orig_nbformat": 4
 },
 "nbformat": 4,
 "nbformat_minor": 2
}
