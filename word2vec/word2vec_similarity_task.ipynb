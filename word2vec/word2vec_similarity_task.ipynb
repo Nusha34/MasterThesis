{
 "cells": [
  {
   "cell_type": "code",
   "execution_count": 22,
   "metadata": {},
   "outputs": [],
   "source": [
    "from gensim.models import KeyedVectors\n",
    "from gensim import models\n",
    "from gensim.models import Word2Vec"
   ]
  },
  {
   "cell_type": "code",
   "execution_count": 23,
   "metadata": {},
   "outputs": [],
   "source": [
    "import pandas as pd"
   ]
  },
  {
   "cell_type": "code",
   "execution_count": 24,
   "metadata": {},
   "outputs": [],
   "source": [
    "model = Word2Vec.load('/workspaces/master_thesis/word2vec_pubmed.model')"
   ]
  },
  {
   "cell_type": "code",
   "execution_count": 33,
   "metadata": {},
   "outputs": [],
   "source": [
    "umnsrs_sim=pd.read_csv('/workspaces/master_thesis/UMNSRS_similarity_mod449_word2vec.csv')"
   ]
  },
  {
   "cell_type": "code",
   "execution_count": 26,
   "metadata": {},
   "outputs": [
    {
     "data": {
      "text/html": [
       "<div>\n",
       "<style scoped>\n",
       "    .dataframe tbody tr th:only-of-type {\n",
       "        vertical-align: middle;\n",
       "    }\n",
       "\n",
       "    .dataframe tbody tr th {\n",
       "        vertical-align: top;\n",
       "    }\n",
       "\n",
       "    .dataframe thead th {\n",
       "        text-align: right;\n",
       "    }\n",
       "</style>\n",
       "<table border=\"1\" class=\"dataframe\">\n",
       "  <thead>\n",
       "    <tr style=\"text-align: right;\">\n",
       "      <th></th>\n",
       "      <th>Mean</th>\n",
       "      <th>Stdev</th>\n",
       "      <th>Term1</th>\n",
       "      <th>Term2</th>\n",
       "      <th>CUI1</th>\n",
       "      <th>CUI2</th>\n",
       "    </tr>\n",
       "  </thead>\n",
       "  <tbody>\n",
       "    <tr>\n",
       "      <th>0</th>\n",
       "      <td>1067.00</td>\n",
       "      <td>121.427619</td>\n",
       "      <td>tylenol</td>\n",
       "      <td>motrin</td>\n",
       "      <td>C0000970</td>\n",
       "      <td>C0020740</td>\n",
       "    </tr>\n",
       "    <tr>\n",
       "      <th>1</th>\n",
       "      <td>256.25</td>\n",
       "      <td>247.615798</td>\n",
       "      <td>acetylcysteine</td>\n",
       "      <td>adenosine</td>\n",
       "      <td>C0001047</td>\n",
       "      <td>C0001443</td>\n",
       "    </tr>\n",
       "    <tr>\n",
       "      <th>2</th>\n",
       "      <td>666.25</td>\n",
       "      <td>307.025922</td>\n",
       "      <td>adenitis</td>\n",
       "      <td>stridor</td>\n",
       "      <td>C0001416</td>\n",
       "      <td>C0038450</td>\n",
       "    </tr>\n",
       "    <tr>\n",
       "      <th>3</th>\n",
       "      <td>933.25</td>\n",
       "      <td>312.935963</td>\n",
       "      <td>agranulocytosis</td>\n",
       "      <td>anemia</td>\n",
       "      <td>C0001824</td>\n",
       "      <td>C0002871</td>\n",
       "    </tr>\n",
       "    <tr>\n",
       "      <th>4</th>\n",
       "      <td>377.50</td>\n",
       "      <td>174.628176</td>\n",
       "      <td>albumin</td>\n",
       "      <td>heparin</td>\n",
       "      <td>C0001924</td>\n",
       "      <td>C0019134</td>\n",
       "    </tr>\n",
       "    <tr>\n",
       "      <th>...</th>\n",
       "      <td>...</td>\n",
       "      <td>...</td>\n",
       "      <td>...</td>\n",
       "      <td>...</td>\n",
       "      <td>...</td>\n",
       "      <td>...</td>\n",
       "    </tr>\n",
       "    <tr>\n",
       "      <th>444</th>\n",
       "      <td>1158.25</td>\n",
       "      <td>157.110099</td>\n",
       "      <td>weakness</td>\n",
       "      <td>paresis</td>\n",
       "      <td>C1883552</td>\n",
       "      <td>C0030552</td>\n",
       "    </tr>\n",
       "    <tr>\n",
       "      <th>445</th>\n",
       "      <td>889.75</td>\n",
       "      <td>454.573335</td>\n",
       "      <td>weakness</td>\n",
       "      <td>zocor</td>\n",
       "      <td>C1883552</td>\n",
       "      <td>C0074554</td>\n",
       "    </tr>\n",
       "    <tr>\n",
       "      <th>446</th>\n",
       "      <td>203.00</td>\n",
       "      <td>128.065088</td>\n",
       "      <td>allergy</td>\n",
       "      <td>bacitracin</td>\n",
       "      <td>C1998461</td>\n",
       "      <td>C0004899</td>\n",
       "    </tr>\n",
       "    <tr>\n",
       "      <th>447</th>\n",
       "      <td>319.50</td>\n",
       "      <td>160.329868</td>\n",
       "      <td>allergy</td>\n",
       "      <td>meningism</td>\n",
       "      <td>C1998461</td>\n",
       "      <td>C0025287</td>\n",
       "    </tr>\n",
       "    <tr>\n",
       "      <th>448</th>\n",
       "      <td>1106.50</td>\n",
       "      <td>75.182001</td>\n",
       "      <td>regurgitation</td>\n",
       "      <td>heartburn</td>\n",
       "      <td>C2004489</td>\n",
       "      <td>C0018834</td>\n",
       "    </tr>\n",
       "  </tbody>\n",
       "</table>\n",
       "<p>449 rows × 6 columns</p>\n",
       "</div>"
      ],
      "text/plain": [
       "        Mean       Stdev            Term1       Term2      CUI1      CUI2\n",
       "0    1067.00  121.427619          tylenol      motrin  C0000970  C0020740\n",
       "1     256.25  247.615798   acetylcysteine   adenosine  C0001047  C0001443\n",
       "2     666.25  307.025922         adenitis     stridor  C0001416  C0038450\n",
       "3     933.25  312.935963  agranulocytosis      anemia  C0001824  C0002871\n",
       "4     377.50  174.628176          albumin     heparin  C0001924  C0019134\n",
       "..       ...         ...              ...         ...       ...       ...\n",
       "444  1158.25  157.110099         weakness     paresis  C1883552  C0030552\n",
       "445   889.75  454.573335         weakness       zocor  C1883552  C0074554\n",
       "446   203.00  128.065088          allergy  bacitracin  C1998461  C0004899\n",
       "447   319.50  160.329868          allergy   meningism  C1998461  C0025287\n",
       "448  1106.50   75.182001    regurgitation   heartburn  C2004489  C0018834\n",
       "\n",
       "[449 rows x 6 columns]"
      ]
     },
     "execution_count": 26,
     "metadata": {},
     "output_type": "execute_result"
    }
   ],
   "source": [
    "umnsrs_sim"
   ]
  },
  {
   "cell_type": "code",
   "execution_count": 27,
   "metadata": {},
   "outputs": [],
   "source": [
    "from scipy.stats import spearmanr"
   ]
  },
  {
   "cell_type": "code",
   "execution_count": 28,
   "metadata": {},
   "outputs": [],
   "source": [
    "human_scores=[]\n",
    "model_scores=[]"
   ]
  },
  {
   "cell_type": "code",
   "execution_count": 30,
   "metadata": {},
   "outputs": [],
   "source": [
    "for i in range(umnsrs_sim.shape[0]):\n",
    "    try:\n",
    "        model_score=model.wv.similarity(umnsrs_sim['Term1'][i], umnsrs_sim['Term2'][i])\n",
    "    except: \n",
    "        model_score=0\n",
    "    human_scores.append(umnsrs_sim['Mean'][i])\n",
    "    model_scores.append(model_score)\n",
    "    "
   ]
  },
  {
   "cell_type": "code",
   "execution_count": 31,
   "metadata": {},
   "outputs": [],
   "source": [
    "correlation_sim, _ = spearmanr(human_scores, model_scores)"
   ]
  },
  {
   "cell_type": "code",
   "execution_count": 32,
   "metadata": {},
   "outputs": [
    {
     "data": {
      "text/plain": [
       "0.43217942107733803"
      ]
     },
     "execution_count": 32,
     "metadata": {},
     "output_type": "execute_result"
    }
   ],
   "source": [
    "correlation_sim"
   ]
  },
  {
   "cell_type": "code",
   "execution_count": 34,
   "metadata": {},
   "outputs": [],
   "source": [
    "umnsrs_rel=pd.read_csv('/workspaces/master_thesis/UMNSRS_relatedness_mod458_word2vec.csv')"
   ]
  },
  {
   "cell_type": "code",
   "execution_count": 35,
   "metadata": {},
   "outputs": [],
   "source": [
    "human_scores=[]\n",
    "model_scores=[]"
   ]
  },
  {
   "cell_type": "code",
   "execution_count": 36,
   "metadata": {},
   "outputs": [],
   "source": [
    "for i in range(umnsrs_rel.shape[0]):\n",
    "    try:\n",
    "        model_score=model.wv.similarity(umnsrs_rel['Term1'][i], umnsrs_rel['Term2'][i])\n",
    "    except: \n",
    "        model_score=0\n",
    "    human_scores.append(umnsrs_rel['Mean'][i])\n",
    "    model_scores.append(model_score)"
   ]
  },
  {
   "cell_type": "code",
   "execution_count": 37,
   "metadata": {},
   "outputs": [],
   "source": [
    "correlation_rel, _ = spearmanr(human_scores, model_scores)"
   ]
  },
  {
   "cell_type": "code",
   "execution_count": 38,
   "metadata": {},
   "outputs": [
    {
     "data": {
      "text/plain": [
       "0.45105068617605276"
      ]
     },
     "execution_count": 38,
     "metadata": {},
     "output_type": "execute_result"
    }
   ],
   "source": [
    "correlation_rel"
   ]
  },
  {
   "cell_type": "code",
   "execution_count": 39,
   "metadata": {},
   "outputs": [],
   "source": [
    "from scipy.stats import pearsonr"
   ]
  },
  {
   "cell_type": "code",
   "execution_count": 42,
   "metadata": {},
   "outputs": [],
   "source": [
    "pearson_score, _ = pearsonr(human_scores, model_scores)"
   ]
  },
  {
   "cell_type": "code",
   "execution_count": 43,
   "metadata": {},
   "outputs": [
    {
     "data": {
      "text/plain": [
       "0.47711653623752126"
      ]
     },
     "execution_count": 43,
     "metadata": {},
     "output_type": "execute_result"
    }
   ],
   "source": [
    "pearson_score"
   ]
  }
 ],
 "metadata": {
  "kernelspec": {
   "display_name": "Python 3",
   "language": "python",
   "name": "python3"
  },
  "language_info": {
   "codemirror_mode": {
    "name": "ipython",
    "version": 3
   },
   "file_extension": ".py",
   "mimetype": "text/x-python",
   "name": "python",
   "nbconvert_exporter": "python",
   "pygments_lexer": "ipython3",
   "version": "3.9.13"
  },
  "orig_nbformat": 4
 },
 "nbformat": 4,
 "nbformat_minor": 2
}
