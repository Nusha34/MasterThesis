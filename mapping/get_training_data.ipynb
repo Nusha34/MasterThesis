{
 "cells": [
  {
   "cell_type": "code",
   "execution_count": 1,
   "metadata": {},
   "outputs": [
    {
     "name": "stderr",
     "output_type": "stream",
     "text": [
      "/tmp/ipykernel_3741181/1727553608.py:4: DtypeWarning: Columns (6,9) have mixed types. Specify dtype option on import or set low_memory=False.\n",
      "  concepts_df = pd.read_csv('/workspaces/master_thesis/CONCEPT.csv', on_bad_lines='skip', sep='\\t')\n"
     ]
    }
   ],
   "source": [
    "import pandas as pd\n",
    "\n",
    "# Load the csv files\n",
    "concepts_df = pd.read_csv('/workspaces/master_thesis/CONCEPT.csv', on_bad_lines='skip', sep='\\t')\n",
    "concept_synonyms_df = pd.read_csv('/workspaces/master_thesis/CONCEPT_SYNONYM.csv', on_bad_lines='skip', sep='\\t')\n"
   ]
  },
  {
   "cell_type": "code",
   "execution_count": 6,
   "metadata": {},
   "outputs": [
    {
     "data": {
      "text/html": [
       "<div>\n",
       "<style scoped>\n",
       "    .dataframe tbody tr th:only-of-type {\n",
       "        vertical-align: middle;\n",
       "    }\n",
       "\n",
       "    .dataframe tbody tr th {\n",
       "        vertical-align: top;\n",
       "    }\n",
       "\n",
       "    .dataframe thead th {\n",
       "        text-align: right;\n",
       "    }\n",
       "</style>\n",
       "<table border=\"1\" class=\"dataframe\">\n",
       "  <thead>\n",
       "    <tr style=\"text-align: right;\">\n",
       "      <th></th>\n",
       "      <th>concept_id</th>\n",
       "      <th>concept_name</th>\n",
       "      <th>domain_id</th>\n",
       "      <th>vocabulary_id</th>\n",
       "      <th>concept_class_id</th>\n",
       "      <th>standard_concept</th>\n",
       "      <th>concept_code</th>\n",
       "      <th>valid_start_date</th>\n",
       "      <th>valid_end_date</th>\n",
       "      <th>invalid_reason</th>\n",
       "    </tr>\n",
       "  </thead>\n",
       "  <tbody>\n",
       "    <tr>\n",
       "      <th>0</th>\n",
       "      <td>1146945</td>\n",
       "      <td>concept.concept_id</td>\n",
       "      <td>Metadata</td>\n",
       "      <td>CDM</td>\n",
       "      <td>Field</td>\n",
       "      <td>S</td>\n",
       "      <td>CDM1</td>\n",
       "      <td>20141111</td>\n",
       "      <td>20991231</td>\n",
       "      <td>NaN</td>\n",
       "    </tr>\n",
       "    <tr>\n",
       "      <th>1</th>\n",
       "      <td>1146954</td>\n",
       "      <td>concept.invalid_reason</td>\n",
       "      <td>Metadata</td>\n",
       "      <td>CDM</td>\n",
       "      <td>Field</td>\n",
       "      <td>S</td>\n",
       "      <td>CDM10</td>\n",
       "      <td>20141111</td>\n",
       "      <td>20991231</td>\n",
       "      <td>NaN</td>\n",
       "    </tr>\n",
       "    <tr>\n",
       "      <th>2</th>\n",
       "      <td>1147044</td>\n",
       "      <td>observation_period.observation_period_id</td>\n",
       "      <td>Metadata</td>\n",
       "      <td>CDM</td>\n",
       "      <td>Field</td>\n",
       "      <td>S</td>\n",
       "      <td>CDM100</td>\n",
       "      <td>20141111</td>\n",
       "      <td>20991231</td>\n",
       "      <td>NaN</td>\n",
       "    </tr>\n",
       "    <tr>\n",
       "      <th>3</th>\n",
       "      <td>756315</td>\n",
       "      <td>metadata.metadata_type_concept_id</td>\n",
       "      <td>Metadata</td>\n",
       "      <td>CDM</td>\n",
       "      <td>Field</td>\n",
       "      <td>S</td>\n",
       "      <td>CDM1000</td>\n",
       "      <td>20210925</td>\n",
       "      <td>20991231</td>\n",
       "      <td>NaN</td>\n",
       "    </tr>\n",
       "    <tr>\n",
       "      <th>4</th>\n",
       "      <td>756316</td>\n",
       "      <td>metadata.name</td>\n",
       "      <td>Metadata</td>\n",
       "      <td>CDM</td>\n",
       "      <td>Field</td>\n",
       "      <td>S</td>\n",
       "      <td>CDM1001</td>\n",
       "      <td>20210925</td>\n",
       "      <td>20991231</td>\n",
       "      <td>NaN</td>\n",
       "    </tr>\n",
       "  </tbody>\n",
       "</table>\n",
       "</div>"
      ],
      "text/plain": [
       "   concept_id                              concept_name domain_id  \\\n",
       "0     1146945                        concept.concept_id  Metadata   \n",
       "1     1146954                    concept.invalid_reason  Metadata   \n",
       "2     1147044  observation_period.observation_period_id  Metadata   \n",
       "3      756315         metadata.metadata_type_concept_id  Metadata   \n",
       "4      756316                             metadata.name  Metadata   \n",
       "\n",
       "  vocabulary_id concept_class_id standard_concept concept_code  \\\n",
       "0           CDM            Field                S         CDM1   \n",
       "1           CDM            Field                S        CDM10   \n",
       "2           CDM            Field                S       CDM100   \n",
       "3           CDM            Field                S      CDM1000   \n",
       "4           CDM            Field                S      CDM1001   \n",
       "\n",
       "   valid_start_date  valid_end_date invalid_reason  \n",
       "0          20141111        20991231            NaN  \n",
       "1          20141111        20991231            NaN  \n",
       "2          20141111        20991231            NaN  \n",
       "3          20210925        20991231            NaN  \n",
       "4          20210925        20991231            NaN  "
      ]
     },
     "execution_count": 6,
     "metadata": {},
     "output_type": "execute_result"
    }
   ],
   "source": [
    "concepts_df.head()"
   ]
  },
  {
   "cell_type": "code",
   "execution_count": 10,
   "metadata": {},
   "outputs": [
    {
     "data": {
      "text/plain": [
       "(1242840, 10)"
      ]
     },
     "execution_count": 10,
     "metadata": {},
     "output_type": "execute_result"
    }
   ],
   "source": [
    "concepts_df.shape"
   ]
  },
  {
   "cell_type": "code",
   "execution_count": 5,
   "metadata": {},
   "outputs": [
    {
     "data": {
      "text/html": [
       "<div>\n",
       "<style scoped>\n",
       "    .dataframe tbody tr th:only-of-type {\n",
       "        vertical-align: middle;\n",
       "    }\n",
       "\n",
       "    .dataframe tbody tr th {\n",
       "        vertical-align: top;\n",
       "    }\n",
       "\n",
       "    .dataframe thead th {\n",
       "        text-align: right;\n",
       "    }\n",
       "</style>\n",
       "<table border=\"1\" class=\"dataframe\">\n",
       "  <thead>\n",
       "    <tr style=\"text-align: right;\">\n",
       "      <th></th>\n",
       "      <th>concept_id</th>\n",
       "      <th>concept_synonym_name</th>\n",
       "      <th>language_concept_id</th>\n",
       "    </tr>\n",
       "  </thead>\n",
       "  <tbody>\n",
       "    <tr>\n",
       "      <th>0</th>\n",
       "      <td>36674183</td>\n",
       "      <td>Goal Attainment Scaling-Light score</td>\n",
       "      <td>4180186</td>\n",
       "    </tr>\n",
       "    <tr>\n",
       "      <th>1</th>\n",
       "      <td>36674183</td>\n",
       "      <td>Goal Attainment Scaling-Light score (observabl...</td>\n",
       "      <td>4180186</td>\n",
       "    </tr>\n",
       "    <tr>\n",
       "      <th>2</th>\n",
       "      <td>36674184</td>\n",
       "      <td>Assessment using Goal Attainment Scaling-Light</td>\n",
       "      <td>4180186</td>\n",
       "    </tr>\n",
       "    <tr>\n",
       "      <th>3</th>\n",
       "      <td>36674184</td>\n",
       "      <td>Assessment using Goal Attainment Scaling-Light...</td>\n",
       "      <td>4180186</td>\n",
       "    </tr>\n",
       "    <tr>\n",
       "      <th>4</th>\n",
       "      <td>36674185</td>\n",
       "      <td>Burn of eye proper (disorder)</td>\n",
       "      <td>4180186</td>\n",
       "    </tr>\n",
       "  </tbody>\n",
       "</table>\n",
       "</div>"
      ],
      "text/plain": [
       "   concept_id                               concept_synonym_name  \\\n",
       "0    36674183                Goal Attainment Scaling-Light score   \n",
       "1    36674183  Goal Attainment Scaling-Light score (observabl...   \n",
       "2    36674184     Assessment using Goal Attainment Scaling-Light   \n",
       "3    36674184  Assessment using Goal Attainment Scaling-Light...   \n",
       "4    36674185                      Burn of eye proper (disorder)   \n",
       "\n",
       "   language_concept_id  \n",
       "0              4180186  \n",
       "1              4180186  \n",
       "2              4180186  \n",
       "3              4180186  \n",
       "4              4180186  "
      ]
     },
     "execution_count": 5,
     "metadata": {},
     "output_type": "execute_result"
    }
   ],
   "source": [
    "concept_synonyms_df.head() (36674184)"
   ]
  },
  {
   "cell_type": "code",
   "execution_count": 15,
   "metadata": {},
   "outputs": [
    {
     "data": {
      "text/plain": [
       "array([4180186, 4182503, 4181536, 4180190, 4182948, 4180183, 4182504,\n",
       "       4181374, 4180047, 4182507, 4181524, 4175771, 4182511, 4175777])"
      ]
     },
     "execution_count": 15,
     "metadata": {},
     "output_type": "execute_result"
    }
   ],
   "source": [
    "concept_synonyms_df.language_concept_id.unique()"
   ]
  },
  {
   "cell_type": "code",
   "execution_count": 11,
   "metadata": {},
   "outputs": [
    {
     "data": {
      "text/plain": [
       "(1273479, 3)"
      ]
     },
     "execution_count": 11,
     "metadata": {},
     "output_type": "execute_result"
    }
   ],
   "source": [
    "concept_synonyms_df.shape"
   ]
  },
  {
   "cell_type": "code",
   "execution_count": 16,
   "metadata": {},
   "outputs": [],
   "source": [
    "#filter by language_concept_id = 4180186 (English)\n",
    "concept_synonyms_df = concept_synonyms_df[concept_synonyms_df.language_concept_id == 4180186]"
   ]
  },
  {
   "cell_type": "code",
   "execution_count": 17,
   "metadata": {},
   "outputs": [
    {
     "data": {
      "text/plain": [
       "(1255441, 3)"
      ]
     },
     "execution_count": 17,
     "metadata": {},
     "output_type": "execute_result"
    }
   ],
   "source": [
    "concept_synonyms_df.shape"
   ]
  },
  {
   "cell_type": "code",
   "execution_count": 7,
   "metadata": {},
   "outputs": [],
   "source": [
    "# Filter the concepts to only include standard concepts\n",
    "standard_concepts_df = concepts_df[concepts_df['standard_concept'] == 'S']\n"
   ]
  },
  {
   "cell_type": "code",
   "execution_count": 9,
   "metadata": {},
   "outputs": [
    {
     "data": {
      "text/plain": [
       "(746318, 10)"
      ]
     },
     "execution_count": 9,
     "metadata": {},
     "output_type": "execute_result"
    }
   ],
   "source": [
    "standard_concepts_df.shape"
   ]
  },
  {
   "cell_type": "code",
   "execution_count": 22,
   "metadata": {},
   "outputs": [],
   "source": [
    "#do a left join on concept_id to get all synonyms for each concept and keep id of the synonym too\n",
    "standard_concepts_with_synonyms_df = standard_concepts_df.merge(concept_synonyms_df, left_on='concept_id', right_on='concept_id', how='left')"
   ]
  },
  {
   "cell_type": "code",
   "execution_count": 26,
   "metadata": {},
   "outputs": [
    {
     "data": {
      "text/html": [
       "<div>\n",
       "<style scoped>\n",
       "    .dataframe tbody tr th:only-of-type {\n",
       "        vertical-align: middle;\n",
       "    }\n",
       "\n",
       "    .dataframe tbody tr th {\n",
       "        vertical-align: top;\n",
       "    }\n",
       "\n",
       "    .dataframe thead th {\n",
       "        text-align: right;\n",
       "    }\n",
       "</style>\n",
       "<table border=\"1\" class=\"dataframe\">\n",
       "  <thead>\n",
       "    <tr style=\"text-align: right;\">\n",
       "      <th></th>\n",
       "      <th>concept_id</th>\n",
       "      <th>concept_name</th>\n",
       "      <th>domain_id</th>\n",
       "      <th>vocabulary_id</th>\n",
       "      <th>concept_class_id</th>\n",
       "      <th>standard_concept</th>\n",
       "      <th>concept_code</th>\n",
       "      <th>valid_start_date</th>\n",
       "      <th>valid_end_date</th>\n",
       "      <th>invalid_reason</th>\n",
       "      <th>concept_synonym_name</th>\n",
       "      <th>language_concept_id</th>\n",
       "    </tr>\n",
       "  </thead>\n",
       "  <tbody>\n",
       "    <tr>\n",
       "      <th>386261</th>\n",
       "      <td>4329847</td>\n",
       "      <td>Myocardial infarction</td>\n",
       "      <td>Condition</td>\n",
       "      <td>SNOMED</td>\n",
       "      <td>Clinical Finding</td>\n",
       "      <td>S</td>\n",
       "      <td>22298006</td>\n",
       "      <td>20020131</td>\n",
       "      <td>20991231</td>\n",
       "      <td>NaN</td>\n",
       "      <td>Cardiac infarction</td>\n",
       "      <td>4180186.0</td>\n",
       "    </tr>\n",
       "    <tr>\n",
       "      <th>386262</th>\n",
       "      <td>4329847</td>\n",
       "      <td>Myocardial infarction</td>\n",
       "      <td>Condition</td>\n",
       "      <td>SNOMED</td>\n",
       "      <td>Clinical Finding</td>\n",
       "      <td>S</td>\n",
       "      <td>22298006</td>\n",
       "      <td>20020131</td>\n",
       "      <td>20991231</td>\n",
       "      <td>NaN</td>\n",
       "      <td>Heart attack</td>\n",
       "      <td>4180186.0</td>\n",
       "    </tr>\n",
       "    <tr>\n",
       "      <th>386263</th>\n",
       "      <td>4329847</td>\n",
       "      <td>Myocardial infarction</td>\n",
       "      <td>Condition</td>\n",
       "      <td>SNOMED</td>\n",
       "      <td>Clinical Finding</td>\n",
       "      <td>S</td>\n",
       "      <td>22298006</td>\n",
       "      <td>20020131</td>\n",
       "      <td>20991231</td>\n",
       "      <td>NaN</td>\n",
       "      <td>Myocardial infarct</td>\n",
       "      <td>4180186.0</td>\n",
       "    </tr>\n",
       "    <tr>\n",
       "      <th>386264</th>\n",
       "      <td>4329847</td>\n",
       "      <td>Myocardial infarction</td>\n",
       "      <td>Condition</td>\n",
       "      <td>SNOMED</td>\n",
       "      <td>Clinical Finding</td>\n",
       "      <td>S</td>\n",
       "      <td>22298006</td>\n",
       "      <td>20020131</td>\n",
       "      <td>20991231</td>\n",
       "      <td>NaN</td>\n",
       "      <td>Myocardial infarction (disorder)</td>\n",
       "      <td>4180186.0</td>\n",
       "    </tr>\n",
       "    <tr>\n",
       "      <th>386265</th>\n",
       "      <td>4329847</td>\n",
       "      <td>Myocardial infarction</td>\n",
       "      <td>Condition</td>\n",
       "      <td>SNOMED</td>\n",
       "      <td>Clinical Finding</td>\n",
       "      <td>S</td>\n",
       "      <td>22298006</td>\n",
       "      <td>20020131</td>\n",
       "      <td>20991231</td>\n",
       "      <td>NaN</td>\n",
       "      <td>Infarction of heart</td>\n",
       "      <td>4180186.0</td>\n",
       "    </tr>\n",
       "    <tr>\n",
       "      <th>386266</th>\n",
       "      <td>4329847</td>\n",
       "      <td>Myocardial infarction</td>\n",
       "      <td>Condition</td>\n",
       "      <td>SNOMED</td>\n",
       "      <td>Clinical Finding</td>\n",
       "      <td>S</td>\n",
       "      <td>22298006</td>\n",
       "      <td>20020131</td>\n",
       "      <td>20991231</td>\n",
       "      <td>NaN</td>\n",
       "      <td>MI - myocardial infarction</td>\n",
       "      <td>4180186.0</td>\n",
       "    </tr>\n",
       "  </tbody>\n",
       "</table>\n",
       "</div>"
      ],
      "text/plain": [
       "        concept_id           concept_name  domain_id vocabulary_id  \\\n",
       "386261     4329847  Myocardial infarction  Condition        SNOMED   \n",
       "386262     4329847  Myocardial infarction  Condition        SNOMED   \n",
       "386263     4329847  Myocardial infarction  Condition        SNOMED   \n",
       "386264     4329847  Myocardial infarction  Condition        SNOMED   \n",
       "386265     4329847  Myocardial infarction  Condition        SNOMED   \n",
       "386266     4329847  Myocardial infarction  Condition        SNOMED   \n",
       "\n",
       "        concept_class_id standard_concept concept_code  valid_start_date  \\\n",
       "386261  Clinical Finding                S     22298006          20020131   \n",
       "386262  Clinical Finding                S     22298006          20020131   \n",
       "386263  Clinical Finding                S     22298006          20020131   \n",
       "386264  Clinical Finding                S     22298006          20020131   \n",
       "386265  Clinical Finding                S     22298006          20020131   \n",
       "386266  Clinical Finding                S     22298006          20020131   \n",
       "\n",
       "        valid_end_date invalid_reason              concept_synonym_name  \\\n",
       "386261        20991231            NaN                Cardiac infarction   \n",
       "386262        20991231            NaN                      Heart attack   \n",
       "386263        20991231            NaN                Myocardial infarct   \n",
       "386264        20991231            NaN  Myocardial infarction (disorder)   \n",
       "386265        20991231            NaN               Infarction of heart   \n",
       "386266        20991231            NaN        MI - myocardial infarction   \n",
       "\n",
       "        language_concept_id  \n",
       "386261            4180186.0  \n",
       "386262            4180186.0  \n",
       "386263            4180186.0  \n",
       "386264            4180186.0  \n",
       "386265            4180186.0  \n",
       "386266            4180186.0  "
      ]
     },
     "execution_count": 26,
     "metadata": {},
     "output_type": "execute_result"
    }
   ],
   "source": [
    "#check on the exampple of concept_id = 4329847\n",
    "standard_concepts_with_synonyms_df[standard_concepts_with_synonyms_df.concept_id == 4329847]"
   ]
  },
  {
   "cell_type": "code",
   "execution_count": 27,
   "metadata": {},
   "outputs": [],
   "source": [
    "# We now have a DataFrame with each standard concept and its synonyms\n",
    "# Let's save out the pairs of concept and their synonyms to file with corresponding cocnept_id\n",
    "standard_concepts_with_synonyms_df[['concept_id', 'concept_name', 'concept_synonym_name']].to_csv('standard_concepts_with_synonyms.csv', index=False)"
   ]
  },
  {
   "cell_type": "code",
   "execution_count": 28,
   "metadata": {},
   "outputs": [
    {
     "data": {
      "text/plain": [
       "(963972, 12)"
      ]
     },
     "execution_count": 28,
     "metadata": {},
     "output_type": "execute_result"
    }
   ],
   "source": [
    "standard_concepts_with_synonyms_df.shape"
   ]
  }
 ],
 "metadata": {
  "kernelspec": {
   "display_name": "base",
   "language": "python",
   "name": "python3"
  },
  "language_info": {
   "codemirror_mode": {
    "name": "ipython",
    "version": 3
   },
   "file_extension": ".py",
   "mimetype": "text/x-python",
   "name": "python",
   "nbconvert_exporter": "python",
   "pygments_lexer": "ipython3",
   "version": "3.9.13"
  },
  "orig_nbformat": 4
 },
 "nbformat": 4,
 "nbformat_minor": 2
}
