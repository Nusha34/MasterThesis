{
 "cells": [
  {
   "cell_type": "code",
   "execution_count": 1,
   "metadata": {},
   "outputs": [],
   "source": [
    "from build_graph import Builder"
   ]
  },
  {
   "cell_type": "code",
   "execution_count": 2,
   "metadata": {},
   "outputs": [
    {
     "name": "stderr",
     "output_type": "stream",
     "text": [
      "c:\\Users\\Nusha\\anaconda3\\lib\\site-packages\\IPython\\core\\interactiveshell.py:3357: DtypeWarning: Columns (6,9) have mixed types.Specify dtype option on import or set low_memory=False.\n",
      "  if (await self.run_code(code, result,  async_=asy)):\n"
     ]
    }
   ],
   "source": [
    "relations=Builder('C://Users/Nusha/Desktop/Passaustudying/fouth semester/master/master_thesis/snomed/CONCEPT_RELATIONSHIP.csv', 'C://Users/Nusha/Desktop/Passaustudying/fouth semester/master/master_thesis/snomed/CONCEPT.csv')"
   ]
  },
  {
   "cell_type": "code",
   "execution_count": 3,
   "metadata": {},
   "outputs": [
    {
     "name": "stderr",
     "output_type": "stream",
     "text": [
      "c:\\Users\\Nusha\\Desktop\\Passaustudying\\fouth semester\\master\\master_thesis\\build_graph.py:24: UserWarning: Boolean Series key will be reindexed to match DataFrame index.\n",
      "  data_merge_2=data_merge_2[data_merge_2.standard_concept_x=='S'][data_merge_2.standard_concept_y=='S']\n"
     ]
    }
   ],
   "source": [
    "df=relations.get_dataframe()"
   ]
  },
  {
   "cell_type": "code",
   "execution_count": 7,
   "metadata": {},
   "outputs": [],
   "source": [
    "import pandas as pd"
   ]
  },
  {
   "cell_type": "code",
   "execution_count": 9,
   "metadata": {},
   "outputs": [
    {
     "name": "stderr",
     "output_type": "stream",
     "text": [
      "c:\\Users\\Nusha\\anaconda3\\lib\\site-packages\\IPython\\core\\interactiveshell.py:3165: DtypeWarning: Columns (6,9) have mixed types.Specify dtype option on import or set low_memory=False.\n",
      "  has_raised = await self.run_ast_nodes(code_ast.body, cell_name,\n"
     ]
    }
   ],
   "source": [
    "df_concept=pd.read_csv('C://Users/Nusha/Desktop/Passaustudying/fouth semester/master/master_thesis/snomed/CONCEPT.csv', sep='\\t')"
   ]
  },
  {
   "cell_type": "code",
   "execution_count": 22,
   "metadata": {},
   "outputs": [],
   "source": [
    "df_myoc_rel=df[df.concept_id_1==4329847]"
   ]
  },
  {
   "cell_type": "code",
   "execution_count": 29,
   "metadata": {},
   "outputs": [],
   "source": [
    "df_myoc_rel=df_myoc_rel[df_myoc_rel.index==446093]"
   ]
  },
  {
   "cell_type": "code",
   "execution_count": 30,
   "metadata": {},
   "outputs": [
    {
     "data": {
      "text/html": [
       "<div>\n",
       "<style scoped>\n",
       "    .dataframe tbody tr th:only-of-type {\n",
       "        vertical-align: middle;\n",
       "    }\n",
       "\n",
       "    .dataframe tbody tr th {\n",
       "        vertical-align: top;\n",
       "    }\n",
       "\n",
       "    .dataframe thead th {\n",
       "        text-align: right;\n",
       "    }\n",
       "</style>\n",
       "<table border=\"1\" class=\"dataframe\">\n",
       "  <thead>\n",
       "    <tr style=\"text-align: right;\">\n",
       "      <th></th>\n",
       "      <th>concept_id_1</th>\n",
       "      <th>concept_name_x</th>\n",
       "      <th>concept_id_2</th>\n",
       "      <th>concept_name_y</th>\n",
       "      <th>relationship_id</th>\n",
       "    </tr>\n",
       "  </thead>\n",
       "  <tbody>\n",
       "    <tr>\n",
       "      <th>446093</th>\n",
       "      <td>4329847</td>\n",
       "      <td>Myocardial infarction</td>\n",
       "      <td>4185932</td>\n",
       "      <td>Ischemic heart disease</td>\n",
       "      <td>Is a</td>\n",
       "    </tr>\n",
       "  </tbody>\n",
       "</table>\n",
       "</div>"
      ],
      "text/plain": [
       "        concept_id_1         concept_name_x  concept_id_2  \\\n",
       "446093       4329847  Myocardial infarction       4185932   \n",
       "\n",
       "                concept_name_y relationship_id  \n",
       "446093  Ischemic heart disease            Is a  "
      ]
     },
     "execution_count": 30,
     "metadata": {},
     "output_type": "execute_result"
    }
   ],
   "source": [
    "df_myoc_rel"
   ]
  },
  {
   "cell_type": "code",
   "execution_count": 15,
   "metadata": {},
   "outputs": [],
   "source": [
    "df_synonym=pd.read_csv('C://Users/Nusha/Desktop/Passaustudying/fouth semester/master/master_thesis/snomed/CONCEPT_SYNONYM.csv', sep='\\t')"
   ]
  },
  {
   "cell_type": "code",
   "execution_count": 32,
   "metadata": {},
   "outputs": [],
   "source": [
    "df_myoc=df_synonym[df_synonym.concept_id==4329847]"
   ]
  },
  {
   "cell_type": "code",
   "execution_count": 35,
   "metadata": {},
   "outputs": [
    {
     "data": {
      "text/html": [
       "<div>\n",
       "<style scoped>\n",
       "    .dataframe tbody tr th:only-of-type {\n",
       "        vertical-align: middle;\n",
       "    }\n",
       "\n",
       "    .dataframe tbody tr th {\n",
       "        vertical-align: top;\n",
       "    }\n",
       "\n",
       "    .dataframe thead th {\n",
       "        text-align: right;\n",
       "    }\n",
       "</style>\n",
       "<table border=\"1\" class=\"dataframe\">\n",
       "  <thead>\n",
       "    <tr style=\"text-align: right;\">\n",
       "      <th></th>\n",
       "      <th>concept_id_1</th>\n",
       "      <th>concept_name_x</th>\n",
       "      <th>concept_id_2</th>\n",
       "      <th>concept_name_y</th>\n",
       "      <th>relationship_id</th>\n",
       "    </tr>\n",
       "  </thead>\n",
       "  <tbody>\n",
       "    <tr>\n",
       "      <th>446093</th>\n",
       "      <td>4329847</td>\n",
       "      <td>Myocardial infarction</td>\n",
       "      <td>4185932</td>\n",
       "      <td>Ischemic heart disease</td>\n",
       "      <td>Is a</td>\n",
       "    </tr>\n",
       "  </tbody>\n",
       "</table>\n",
       "</div>"
      ],
      "text/plain": [
       "        concept_id_1         concept_name_x  concept_id_2  \\\n",
       "446093       4329847  Myocardial infarction       4185932   \n",
       "\n",
       "                concept_name_y relationship_id  \n",
       "446093  Ischemic heart disease            Is a  "
      ]
     },
     "execution_count": 35,
     "metadata": {},
     "output_type": "execute_result"
    }
   ],
   "source": [
    "df_myoc_rel"
   ]
  },
  {
   "cell_type": "code",
   "execution_count": 37,
   "metadata": {},
   "outputs": [],
   "source": [
    "new_df=pd.merge(left= df_myoc_rel, right=df_myoc, left_on='concept_id_1', right_on='concept_id', how='right')"
   ]
  },
  {
   "cell_type": "code",
   "execution_count": 40,
   "metadata": {},
   "outputs": [],
   "source": [
    "new_df=new_df[['concept_id_1', 'concept_synonym_name', 'concept_id_2', 'concept_name_y']]"
   ]
  },
  {
   "cell_type": "code",
   "execution_count": 41,
   "metadata": {},
   "outputs": [],
   "source": [
    "df_heart=df_synonym[df_synonym.concept_id==4185932]"
   ]
  },
  {
   "cell_type": "code",
   "execution_count": 42,
   "metadata": {},
   "outputs": [
    {
     "data": {
      "text/html": [
       "<div>\n",
       "<style scoped>\n",
       "    .dataframe tbody tr th:only-of-type {\n",
       "        vertical-align: middle;\n",
       "    }\n",
       "\n",
       "    .dataframe tbody tr th {\n",
       "        vertical-align: top;\n",
       "    }\n",
       "\n",
       "    .dataframe thead th {\n",
       "        text-align: right;\n",
       "    }\n",
       "</style>\n",
       "<table border=\"1\" class=\"dataframe\">\n",
       "  <thead>\n",
       "    <tr style=\"text-align: right;\">\n",
       "      <th></th>\n",
       "      <th>concept_id</th>\n",
       "      <th>concept_synonym_name</th>\n",
       "      <th>language_concept_id</th>\n",
       "    </tr>\n",
       "  </thead>\n",
       "  <tbody>\n",
       "    <tr>\n",
       "      <th>1041856</th>\n",
       "      <td>4185932</td>\n",
       "      <td>Ischaemic heart disease</td>\n",
       "      <td>4180186</td>\n",
       "    </tr>\n",
       "    <tr>\n",
       "      <th>1041857</th>\n",
       "      <td>4185932</td>\n",
       "      <td>IHD - Ischemic heart disease</td>\n",
       "      <td>4180186</td>\n",
       "    </tr>\n",
       "    <tr>\n",
       "      <th>1041858</th>\n",
       "      <td>4185932</td>\n",
       "      <td>Ischemic heart disease (disorder)</td>\n",
       "      <td>4180186</td>\n",
       "    </tr>\n",
       "    <tr>\n",
       "      <th>1041859</th>\n",
       "      <td>4185932</td>\n",
       "      <td>IHD - Ischaemic heart disease</td>\n",
       "      <td>4180186</td>\n",
       "    </tr>\n",
       "  </tbody>\n",
       "</table>\n",
       "</div>"
      ],
      "text/plain": [
       "         concept_id               concept_synonym_name  language_concept_id\n",
       "1041856     4185932            Ischaemic heart disease              4180186\n",
       "1041857     4185932       IHD - Ischemic heart disease              4180186\n",
       "1041858     4185932  Ischemic heart disease (disorder)              4180186\n",
       "1041859     4185932      IHD - Ischaemic heart disease              4180186"
      ]
     },
     "execution_count": 42,
     "metadata": {},
     "output_type": "execute_result"
    }
   ],
   "source": [
    "df_heart"
   ]
  },
  {
   "cell_type": "code",
   "execution_count": 43,
   "metadata": {},
   "outputs": [
    {
     "data": {
      "text/html": [
       "<div>\n",
       "<style scoped>\n",
       "    .dataframe tbody tr th:only-of-type {\n",
       "        vertical-align: middle;\n",
       "    }\n",
       "\n",
       "    .dataframe tbody tr th {\n",
       "        vertical-align: top;\n",
       "    }\n",
       "\n",
       "    .dataframe thead th {\n",
       "        text-align: right;\n",
       "    }\n",
       "</style>\n",
       "<table border=\"1\" class=\"dataframe\">\n",
       "  <thead>\n",
       "    <tr style=\"text-align: right;\">\n",
       "      <th></th>\n",
       "      <th>concept_id_1</th>\n",
       "      <th>concept_synonym_name</th>\n",
       "      <th>concept_id_2</th>\n",
       "      <th>concept_name_y</th>\n",
       "    </tr>\n",
       "  </thead>\n",
       "  <tbody>\n",
       "    <tr>\n",
       "      <th>0</th>\n",
       "      <td>4329847</td>\n",
       "      <td>Cardiac infarction</td>\n",
       "      <td>4185932</td>\n",
       "      <td>Ischemic heart disease</td>\n",
       "    </tr>\n",
       "    <tr>\n",
       "      <th>1</th>\n",
       "      <td>4329847</td>\n",
       "      <td>Heart attack</td>\n",
       "      <td>4185932</td>\n",
       "      <td>Ischemic heart disease</td>\n",
       "    </tr>\n",
       "    <tr>\n",
       "      <th>2</th>\n",
       "      <td>4329847</td>\n",
       "      <td>Myocardial infarct</td>\n",
       "      <td>4185932</td>\n",
       "      <td>Ischemic heart disease</td>\n",
       "    </tr>\n",
       "    <tr>\n",
       "      <th>3</th>\n",
       "      <td>4329847</td>\n",
       "      <td>Myocardial infarction (disorder)</td>\n",
       "      <td>4185932</td>\n",
       "      <td>Ischemic heart disease</td>\n",
       "    </tr>\n",
       "    <tr>\n",
       "      <th>4</th>\n",
       "      <td>4329847</td>\n",
       "      <td>Infarction of heart</td>\n",
       "      <td>4185932</td>\n",
       "      <td>Ischemic heart disease</td>\n",
       "    </tr>\n",
       "    <tr>\n",
       "      <th>5</th>\n",
       "      <td>4329847</td>\n",
       "      <td>MI - myocardial infarction</td>\n",
       "      <td>4185932</td>\n",
       "      <td>Ischemic heart disease</td>\n",
       "    </tr>\n",
       "  </tbody>\n",
       "</table>\n",
       "</div>"
      ],
      "text/plain": [
       "   concept_id_1              concept_synonym_name  concept_id_2  \\\n",
       "0       4329847                Cardiac infarction       4185932   \n",
       "1       4329847                      Heart attack       4185932   \n",
       "2       4329847                Myocardial infarct       4185932   \n",
       "3       4329847  Myocardial infarction (disorder)       4185932   \n",
       "4       4329847               Infarction of heart       4185932   \n",
       "5       4329847        MI - myocardial infarction       4185932   \n",
       "\n",
       "           concept_name_y  \n",
       "0  Ischemic heart disease  \n",
       "1  Ischemic heart disease  \n",
       "2  Ischemic heart disease  \n",
       "3  Ischemic heart disease  \n",
       "4  Ischemic heart disease  \n",
       "5  Ischemic heart disease  "
      ]
     },
     "execution_count": 43,
     "metadata": {},
     "output_type": "execute_result"
    }
   ],
   "source": [
    "new_df"
   ]
  },
  {
   "cell_type": "code",
   "execution_count": 44,
   "metadata": {},
   "outputs": [],
   "source": [
    "new_df=pd.merge(left= new_df, right=df_heart, left_on='concept_id_2', right_on='concept_id', how='right')"
   ]
  },
  {
   "cell_type": "code",
   "execution_count": 46,
   "metadata": {},
   "outputs": [],
   "source": [
    "new_df=new_df[['concept_id_1', 'concept_synonym_name_x', 'concept_id_2', 'concept_synonym_name_y']]"
   ]
  },
  {
   "cell_type": "code",
   "execution_count": 47,
   "metadata": {},
   "outputs": [
    {
     "data": {
      "text/html": [
       "<div>\n",
       "<style scoped>\n",
       "    .dataframe tbody tr th:only-of-type {\n",
       "        vertical-align: middle;\n",
       "    }\n",
       "\n",
       "    .dataframe tbody tr th {\n",
       "        vertical-align: top;\n",
       "    }\n",
       "\n",
       "    .dataframe thead th {\n",
       "        text-align: right;\n",
       "    }\n",
       "</style>\n",
       "<table border=\"1\" class=\"dataframe\">\n",
       "  <thead>\n",
       "    <tr style=\"text-align: right;\">\n",
       "      <th></th>\n",
       "      <th>concept_id_1</th>\n",
       "      <th>concept_synonym_name_x</th>\n",
       "      <th>concept_id_2</th>\n",
       "      <th>concept_synonym_name_y</th>\n",
       "    </tr>\n",
       "  </thead>\n",
       "  <tbody>\n",
       "    <tr>\n",
       "      <th>0</th>\n",
       "      <td>4329847</td>\n",
       "      <td>Cardiac infarction</td>\n",
       "      <td>4185932</td>\n",
       "      <td>Ischaemic heart disease</td>\n",
       "    </tr>\n",
       "    <tr>\n",
       "      <th>1</th>\n",
       "      <td>4329847</td>\n",
       "      <td>Heart attack</td>\n",
       "      <td>4185932</td>\n",
       "      <td>Ischaemic heart disease</td>\n",
       "    </tr>\n",
       "    <tr>\n",
       "      <th>2</th>\n",
       "      <td>4329847</td>\n",
       "      <td>Myocardial infarct</td>\n",
       "      <td>4185932</td>\n",
       "      <td>Ischaemic heart disease</td>\n",
       "    </tr>\n",
       "    <tr>\n",
       "      <th>3</th>\n",
       "      <td>4329847</td>\n",
       "      <td>Myocardial infarction (disorder)</td>\n",
       "      <td>4185932</td>\n",
       "      <td>Ischaemic heart disease</td>\n",
       "    </tr>\n",
       "    <tr>\n",
       "      <th>4</th>\n",
       "      <td>4329847</td>\n",
       "      <td>Infarction of heart</td>\n",
       "      <td>4185932</td>\n",
       "      <td>Ischaemic heart disease</td>\n",
       "    </tr>\n",
       "    <tr>\n",
       "      <th>5</th>\n",
       "      <td>4329847</td>\n",
       "      <td>MI - myocardial infarction</td>\n",
       "      <td>4185932</td>\n",
       "      <td>Ischaemic heart disease</td>\n",
       "    </tr>\n",
       "    <tr>\n",
       "      <th>6</th>\n",
       "      <td>4329847</td>\n",
       "      <td>Cardiac infarction</td>\n",
       "      <td>4185932</td>\n",
       "      <td>IHD - Ischemic heart disease</td>\n",
       "    </tr>\n",
       "    <tr>\n",
       "      <th>7</th>\n",
       "      <td>4329847</td>\n",
       "      <td>Heart attack</td>\n",
       "      <td>4185932</td>\n",
       "      <td>IHD - Ischemic heart disease</td>\n",
       "    </tr>\n",
       "    <tr>\n",
       "      <th>8</th>\n",
       "      <td>4329847</td>\n",
       "      <td>Myocardial infarct</td>\n",
       "      <td>4185932</td>\n",
       "      <td>IHD - Ischemic heart disease</td>\n",
       "    </tr>\n",
       "    <tr>\n",
       "      <th>9</th>\n",
       "      <td>4329847</td>\n",
       "      <td>Myocardial infarction (disorder)</td>\n",
       "      <td>4185932</td>\n",
       "      <td>IHD - Ischemic heart disease</td>\n",
       "    </tr>\n",
       "    <tr>\n",
       "      <th>10</th>\n",
       "      <td>4329847</td>\n",
       "      <td>Infarction of heart</td>\n",
       "      <td>4185932</td>\n",
       "      <td>IHD - Ischemic heart disease</td>\n",
       "    </tr>\n",
       "    <tr>\n",
       "      <th>11</th>\n",
       "      <td>4329847</td>\n",
       "      <td>MI - myocardial infarction</td>\n",
       "      <td>4185932</td>\n",
       "      <td>IHD - Ischemic heart disease</td>\n",
       "    </tr>\n",
       "    <tr>\n",
       "      <th>12</th>\n",
       "      <td>4329847</td>\n",
       "      <td>Cardiac infarction</td>\n",
       "      <td>4185932</td>\n",
       "      <td>Ischemic heart disease (disorder)</td>\n",
       "    </tr>\n",
       "    <tr>\n",
       "      <th>13</th>\n",
       "      <td>4329847</td>\n",
       "      <td>Heart attack</td>\n",
       "      <td>4185932</td>\n",
       "      <td>Ischemic heart disease (disorder)</td>\n",
       "    </tr>\n",
       "    <tr>\n",
       "      <th>14</th>\n",
       "      <td>4329847</td>\n",
       "      <td>Myocardial infarct</td>\n",
       "      <td>4185932</td>\n",
       "      <td>Ischemic heart disease (disorder)</td>\n",
       "    </tr>\n",
       "    <tr>\n",
       "      <th>15</th>\n",
       "      <td>4329847</td>\n",
       "      <td>Myocardial infarction (disorder)</td>\n",
       "      <td>4185932</td>\n",
       "      <td>Ischemic heart disease (disorder)</td>\n",
       "    </tr>\n",
       "    <tr>\n",
       "      <th>16</th>\n",
       "      <td>4329847</td>\n",
       "      <td>Infarction of heart</td>\n",
       "      <td>4185932</td>\n",
       "      <td>Ischemic heart disease (disorder)</td>\n",
       "    </tr>\n",
       "    <tr>\n",
       "      <th>17</th>\n",
       "      <td>4329847</td>\n",
       "      <td>MI - myocardial infarction</td>\n",
       "      <td>4185932</td>\n",
       "      <td>Ischemic heart disease (disorder)</td>\n",
       "    </tr>\n",
       "    <tr>\n",
       "      <th>18</th>\n",
       "      <td>4329847</td>\n",
       "      <td>Cardiac infarction</td>\n",
       "      <td>4185932</td>\n",
       "      <td>IHD - Ischaemic heart disease</td>\n",
       "    </tr>\n",
       "    <tr>\n",
       "      <th>19</th>\n",
       "      <td>4329847</td>\n",
       "      <td>Heart attack</td>\n",
       "      <td>4185932</td>\n",
       "      <td>IHD - Ischaemic heart disease</td>\n",
       "    </tr>\n",
       "    <tr>\n",
       "      <th>20</th>\n",
       "      <td>4329847</td>\n",
       "      <td>Myocardial infarct</td>\n",
       "      <td>4185932</td>\n",
       "      <td>IHD - Ischaemic heart disease</td>\n",
       "    </tr>\n",
       "    <tr>\n",
       "      <th>21</th>\n",
       "      <td>4329847</td>\n",
       "      <td>Myocardial infarction (disorder)</td>\n",
       "      <td>4185932</td>\n",
       "      <td>IHD - Ischaemic heart disease</td>\n",
       "    </tr>\n",
       "    <tr>\n",
       "      <th>22</th>\n",
       "      <td>4329847</td>\n",
       "      <td>Infarction of heart</td>\n",
       "      <td>4185932</td>\n",
       "      <td>IHD - Ischaemic heart disease</td>\n",
       "    </tr>\n",
       "    <tr>\n",
       "      <th>23</th>\n",
       "      <td>4329847</td>\n",
       "      <td>MI - myocardial infarction</td>\n",
       "      <td>4185932</td>\n",
       "      <td>IHD - Ischaemic heart disease</td>\n",
       "    </tr>\n",
       "  </tbody>\n",
       "</table>\n",
       "</div>"
      ],
      "text/plain": [
       "    concept_id_1            concept_synonym_name_x  concept_id_2  \\\n",
       "0        4329847                Cardiac infarction       4185932   \n",
       "1        4329847                      Heart attack       4185932   \n",
       "2        4329847                Myocardial infarct       4185932   \n",
       "3        4329847  Myocardial infarction (disorder)       4185932   \n",
       "4        4329847               Infarction of heart       4185932   \n",
       "5        4329847        MI - myocardial infarction       4185932   \n",
       "6        4329847                Cardiac infarction       4185932   \n",
       "7        4329847                      Heart attack       4185932   \n",
       "8        4329847                Myocardial infarct       4185932   \n",
       "9        4329847  Myocardial infarction (disorder)       4185932   \n",
       "10       4329847               Infarction of heart       4185932   \n",
       "11       4329847        MI - myocardial infarction       4185932   \n",
       "12       4329847                Cardiac infarction       4185932   \n",
       "13       4329847                      Heart attack       4185932   \n",
       "14       4329847                Myocardial infarct       4185932   \n",
       "15       4329847  Myocardial infarction (disorder)       4185932   \n",
       "16       4329847               Infarction of heart       4185932   \n",
       "17       4329847        MI - myocardial infarction       4185932   \n",
       "18       4329847                Cardiac infarction       4185932   \n",
       "19       4329847                      Heart attack       4185932   \n",
       "20       4329847                Myocardial infarct       4185932   \n",
       "21       4329847  Myocardial infarction (disorder)       4185932   \n",
       "22       4329847               Infarction of heart       4185932   \n",
       "23       4329847        MI - myocardial infarction       4185932   \n",
       "\n",
       "               concept_synonym_name_y  \n",
       "0             Ischaemic heart disease  \n",
       "1             Ischaemic heart disease  \n",
       "2             Ischaemic heart disease  \n",
       "3             Ischaemic heart disease  \n",
       "4             Ischaemic heart disease  \n",
       "5             Ischaemic heart disease  \n",
       "6        IHD - Ischemic heart disease  \n",
       "7        IHD - Ischemic heart disease  \n",
       "8        IHD - Ischemic heart disease  \n",
       "9        IHD - Ischemic heart disease  \n",
       "10       IHD - Ischemic heart disease  \n",
       "11       IHD - Ischemic heart disease  \n",
       "12  Ischemic heart disease (disorder)  \n",
       "13  Ischemic heart disease (disorder)  \n",
       "14  Ischemic heart disease (disorder)  \n",
       "15  Ischemic heart disease (disorder)  \n",
       "16  Ischemic heart disease (disorder)  \n",
       "17  Ischemic heart disease (disorder)  \n",
       "18      IHD - Ischaemic heart disease  \n",
       "19      IHD - Ischaemic heart disease  \n",
       "20      IHD - Ischaemic heart disease  \n",
       "21      IHD - Ischaemic heart disease  \n",
       "22      IHD - Ischaemic heart disease  \n",
       "23      IHD - Ischaemic heart disease  "
      ]
     },
     "execution_count": 47,
     "metadata": {},
     "output_type": "execute_result"
    }
   ],
   "source": [
    "new_df"
   ]
  },
  {
   "cell_type": "code",
   "execution_count": 33,
   "metadata": {},
   "outputs": [
    {
     "ename": "NameError",
     "evalue": "name 'concept_id_1' is not defined",
     "output_type": "error",
     "traceback": [
      "\u001b[1;31m---------------------------------------------------------------------------\u001b[0m",
      "\u001b[1;31mNameError\u001b[0m                                 Traceback (most recent call last)",
      "\u001b[1;32m<ipython-input-33-09f67bc991f3>\u001b[0m in \u001b[0;36m<module>\u001b[1;34m\u001b[0m\n\u001b[1;32m----> 1\u001b[1;33m \u001b[0mpd\u001b[0m\u001b[1;33m.\u001b[0m\u001b[0mmerge\u001b[0m\u001b[1;33m(\u001b[0m\u001b[0mleft\u001b[0m\u001b[1;33m=\u001b[0m \u001b[0mdf_myoc_rel\u001b[0m\u001b[1;33m,\u001b[0m \u001b[0mright\u001b[0m\u001b[1;33m=\u001b[0m\u001b[0mdf_myoc\u001b[0m\u001b[1;33m,\u001b[0m \u001b[0mleft_on\u001b[0m\u001b[1;33m=\u001b[0m\u001b[0mconcept_id_1\u001b[0m\u001b[1;33m,\u001b[0m \u001b[0mright_on\u001b[0m\u001b[1;33m=\u001b[0m\u001b[0mconcept_id\u001b[0m\u001b[1;33m,\u001b[0m \u001b[0mhow\u001b[0m\u001b[1;33m=\u001b[0m\u001b[1;34m'right'\u001b[0m\u001b[1;33m)\u001b[0m\u001b[1;33m\u001b[0m\u001b[1;33m\u001b[0m\u001b[0m\n\u001b[0m",
      "\u001b[1;31mNameError\u001b[0m: name 'concept_id_1' is not defined"
     ]
    }
   ],
   "source": [
    "pd.merge(left= df_myoc, right=df_myoc, left_on=concept_id_1, right_on=concept_id, how='right')"
   ]
  }
 ],
 "metadata": {
  "kernelspec": {
   "display_name": "Python 3.8.8 ('base')",
   "language": "python",
   "name": "python3"
  },
  "language_info": {
   "codemirror_mode": {
    "name": "ipython",
    "version": 3
   },
   "file_extension": ".py",
   "mimetype": "text/x-python",
   "name": "python",
   "nbconvert_exporter": "python",
   "pygments_lexer": "ipython3",
   "version": "3.8.8"
  },
  "orig_nbformat": 4,
  "vscode": {
   "interpreter": {
    "hash": "0d9f4de9683cfd3ae83f052b72a6177cb56793a14e04c16f5a78e2b56390f02b"
   }
  }
 },
 "nbformat": 4,
 "nbformat_minor": 2
}
